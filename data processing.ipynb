{
  "nbformat": 4,
  "nbformat_minor": 0,
  "metadata": {
    "colab": {
      "name": "1. 완_시계열 데이터 뽑기.ipynb",
      "provenance": [],
      "authorship_tag": "ABX9TyNG082mTBJ9mDuddsSpSgUj",
      "include_colab_link": true
    },
    "kernelspec": {
      "name": "python3",
      "display_name": "Python 3"
    },
    "language_info": {
      "name": "python"
    }
  },
  "cells": [
    {
      "cell_type": "markdown",
      "metadata": {
        "id": "view-in-github",
        "colab_type": "text"
      },
      "source": [
        "<a href=\"https://colab.research.google.com/github/minji-sung/minji-sung/blob/main/1_%E1%84%8B%E1%85%AA%E1%86%AB_%E1%84%89%E1%85%B5%E1%84%80%E1%85%A8%E1%84%8B%E1%85%A7%E1%86%AF_%E1%84%83%E1%85%A6%E1%84%8B%E1%85%B5%E1%84%90%E1%85%A5_%E1%84%88%E1%85%A9%E1%86%B8%E1%84%80%E1%85%B5.ipynb\" target=\"_parent\"><img src=\"https://colab.research.google.com/assets/colab-badge.svg\" alt=\"Open In Colab\"/></a>"
      ]
    },
    {
      "cell_type": "markdown",
      "metadata": {
        "id": "pPe3i8vyAzxA"
      },
      "source": [
        "## 1. importing packages"
      ]
    },
    {
      "cell_type": "code",
      "metadata": {
        "colab": {
          "base_uri": "https://localhost:8080/"
        },
        "id": "5z7FzPpRApJS",
        "outputId": "6592c187-9539-4982-c63e-12fb54ab38cb"
      },
      "source": [
        "import pandas as pd\n",
        "import numpy as np\n",
        "import matplotlib.pyplot as plt\n",
        "import seaborn as sns\n",
        "import warnings\n",
        "import os\n",
        "\n",
        "# 시각화\n",
        "import matplotlib as mpl\n",
        "import matplotlib.pyplot as plt\n",
        " \n",
        "%config InlineBackend.figure_format = 'retina'\n",
        " \n",
        "!apt -qq -y install fonts-nanum\n",
        " \n",
        "import matplotlib.font_manager as fm\n",
        "fontpath = '/usr/share/fonts/truetype/nanum/NanumBarunGothic.ttf'\n",
        "font = fm.FontProperties(fname=fontpath, size=9)\n",
        "plt.rc('font', family='NanumBarunGothic') \n",
        "mpl.font_manager._rebuild()"
      ],
      "execution_count": null,
      "outputs": [
        {
          "output_type": "stream",
          "name": "stdout",
          "text": [
            "The following NEW packages will be installed:\n",
            "  fonts-nanum\n",
            "0 upgraded, 1 newly installed, 0 to remove and 40 not upgraded.\n",
            "Need to get 9,604 kB of archives.\n",
            "After this operation, 29.5 MB of additional disk space will be used.\n",
            "Selecting previously unselected package fonts-nanum.\n",
            "(Reading database ... 148492 files and directories currently installed.)\n",
            "Preparing to unpack .../fonts-nanum_20170925-1_all.deb ...\n",
            "Unpacking fonts-nanum (20170925-1) ...\n",
            "Setting up fonts-nanum (20170925-1) ...\n",
            "Processing triggers for fontconfig (2.12.6-0ubuntu2) ...\n"
          ]
        }
      ]
    },
    {
      "cell_type": "code",
      "metadata": {
        "colab": {
          "base_uri": "https://localhost:8080/"
        },
        "id": "GvdX4WdBAzRt",
        "outputId": "bd544d6d-43f4-4507-b828-9f46021ebd8d"
      },
      "source": [
        "!pip install pmdarima"
      ],
      "execution_count": null,
      "outputs": [
        {
          "output_type": "stream",
          "name": "stdout",
          "text": [
            "Requirement already satisfied: pmdarima in /usr/local/lib/python3.7/dist-packages (1.8.2)\n",
            "Requirement already satisfied: urllib3 in /usr/local/lib/python3.7/dist-packages (from pmdarima) (1.24.3)\n",
            "Requirement already satisfied: numpy~=1.19.0 in /usr/local/lib/python3.7/dist-packages (from pmdarima) (1.19.5)\n",
            "Requirement already satisfied: pandas>=0.19 in /usr/local/lib/python3.7/dist-packages (from pmdarima) (1.1.5)\n",
            "Requirement already satisfied: joblib>=0.11 in /usr/local/lib/python3.7/dist-packages (from pmdarima) (1.0.1)\n",
            "Requirement already satisfied: Cython!=0.29.18,>=0.29 in /usr/local/lib/python3.7/dist-packages (from pmdarima) (0.29.24)\n",
            "Requirement already satisfied: statsmodels!=0.12.0,>=0.11 in /usr/local/lib/python3.7/dist-packages (from pmdarima) (0.12.2)\n",
            "Requirement already satisfied: scikit-learn>=0.22 in /usr/local/lib/python3.7/dist-packages (from pmdarima) (0.22.2.post1)\n",
            "Requirement already satisfied: setuptools!=50.0.0,>=38.6.0 in /usr/local/lib/python3.7/dist-packages (from pmdarima) (57.4.0)\n",
            "Requirement already satisfied: scipy>=1.3.2 in /usr/local/lib/python3.7/dist-packages (from pmdarima) (1.4.1)\n",
            "Requirement already satisfied: python-dateutil>=2.7.3 in /usr/local/lib/python3.7/dist-packages (from pandas>=0.19->pmdarima) (2.8.2)\n",
            "Requirement already satisfied: pytz>=2017.2 in /usr/local/lib/python3.7/dist-packages (from pandas>=0.19->pmdarima) (2018.9)\n",
            "Requirement already satisfied: six>=1.5 in /usr/local/lib/python3.7/dist-packages (from python-dateutil>=2.7.3->pandas>=0.19->pmdarima) (1.15.0)\n",
            "Requirement already satisfied: patsy>=0.5 in /usr/local/lib/python3.7/dist-packages (from statsmodels!=0.12.0,>=0.11->pmdarima) (0.5.1)\n"
          ]
        }
      ]
    },
    {
      "cell_type": "code",
      "metadata": {
        "id": "wx8V_to1A49U"
      },
      "source": [
        "#Standard Imports\n",
        "from statsmodels.tsa.seasonal import seasonal_decompose\n",
        "from statsmodels.tsa.stattools import adfuller\n",
        "from statsmodels.graphics.tsaplots import plot_acf, plot_pacf\n",
        "from matplotlib.pylab import rcParams\n",
        "from pmdarima.arima import auto_arima\n",
        "from statsmodels.tsa.arima_model import ARIMA,ARIMAResults,ARMA,ARMAResults\n",
        "import statsmodels.api as sm\n",
        "from statsmodels.tsa.statespace.sarimax import SARIMAX"
      ],
      "execution_count": null,
      "outputs": []
    },
    {
      "cell_type": "markdown",
      "metadata": {
        "id": "ZaeptqptBJ-s"
      },
      "source": [
        "## 2. gathering data"
      ]
    },
    {
      "cell_type": "code",
      "metadata": {
        "colab": {
          "base_uri": "https://localhost:8080/"
        },
        "id": "g5YluV-mBOhu",
        "outputId": "e08c2009-5744-428d-93cb-322c7d93eda7"
      },
      "source": [
        "from google.colab import drive\n",
        "drive.mount('/content/drive')"
      ],
      "execution_count": null,
      "outputs": [
        {
          "output_type": "stream",
          "name": "stdout",
          "text": [
            "Mounted at /content/drive\n"
          ]
        }
      ]
    },
    {
      "cell_type": "code",
      "metadata": {
        "colab": {
          "base_uri": "https://localhost:8080/"
        },
        "id": "yYOFLq4aBd7u",
        "outputId": "b8750ed4-8523-41c3-ed6c-0efdf4d75e28"
      },
      "source": [
        "% cd /content/drive/MyDrive/Colab Notebooks/bigcon"
      ],
      "execution_count": null,
      "outputs": [
        {
          "output_type": "stream",
          "name": "stdout",
          "text": [
            "/content/drive/MyDrive/Colab Notebooks/bigcon\n"
          ]
        }
      ]
    },
    {
      "cell_type": "code",
      "metadata": {
        "id": "sGrh2M_mBgJv"
      },
      "source": [
        "df = pd.read_csv('./new_data0901.csv')"
      ],
      "execution_count": null,
      "outputs": []
    },
    {
      "cell_type": "code",
      "metadata": {
        "id": "v0uSoR3gBh1E"
      },
      "source": [
        "df['date'] = pd.to_datetime(df['date'])"
      ],
      "execution_count": null,
      "outputs": []
    },
    {
      "cell_type": "markdown",
      "metadata": {
        "id": "2A4BJdX_mslf"
      },
      "source": [
        "## 3. 범주형 데이터: 흰다리새우, 오징어, 연어"
      ]
    },
    {
      "cell_type": "code",
      "metadata": {
        "colab": {
          "base_uri": "https://localhost:8080/",
          "height": 949
        },
        "id": "osKiMxW3RvZY",
        "outputId": "c5d369f2-8c4d-436b-ff59-92a4cb547850"
      },
      "source": [
        "df[df.name == '흰다리새우']"
      ],
      "execution_count": null,
      "outputs": [
        {
          "output_type": "execute_result",
          "data": {
            "text/html": [
              "<div>\n",
              "<style scoped>\n",
              "    .dataframe tbody tr th:only-of-type {\n",
              "        vertical-align: middle;\n",
              "    }\n",
              "\n",
              "    .dataframe tbody tr th {\n",
              "        vertical-align: top;\n",
              "    }\n",
              "\n",
              "    .dataframe thead th {\n",
              "        text-align: right;\n",
              "    }\n",
              "</style>\n",
              "<table border=\"1\" class=\"dataframe\">\n",
              "  <thead>\n",
              "    <tr style=\"text-align: right;\">\n",
              "      <th></th>\n",
              "      <th>date</th>\n",
              "      <th>type</th>\n",
              "      <th>ctry1</th>\n",
              "      <th>ctry2</th>\n",
              "      <th>purpose</th>\n",
              "      <th>cat1</th>\n",
              "      <th>cat2</th>\n",
              "      <th>name</th>\n",
              "      <th>import_type</th>\n",
              "      <th>price</th>\n",
              "      <th>year</th>\n",
              "      <th>소비자물가 총지수(2015=100)</th>\n",
              "      <th>소비자물가상승률(%)</th>\n",
              "      <th>식료품 · 비주류음료</th>\n",
              "      <th>주류 및 담배</th>\n",
              "      <th>의류 및 신발</th>\n",
              "      <th>주택 ·수도 · 전기 및 연료</th>\n",
              "      <th>가정용품 및 가사 서비스</th>\n",
              "      <th>보건</th>\n",
              "      <th>교통</th>\n",
              "      <th>통신</th>\n",
              "      <th>오락 및 문화</th>\n",
              "      <th>교육</th>\n",
              "      <th>음식 및 숙박</th>\n",
              "      <th>기타 상품 및 서비스</th>\n",
              "      <th>month</th>\n",
              "      <th>weekofyear</th>\n",
              "      <th>환율(달러)</th>\n",
              "      <th>WTi</th>\n",
              "      <th>Brent</th>\n",
              "      <th>Dubai</th>\n",
              "    </tr>\n",
              "  </thead>\n",
              "  <tbody>\n",
              "    <tr>\n",
              "      <th>14</th>\n",
              "      <td>2016-01-04</td>\n",
              "      <td>수산물</td>\n",
              "      <td>중국</td>\n",
              "      <td>중국</td>\n",
              "      <td>판매용</td>\n",
              "      <td>갑각류</td>\n",
              "      <td>새우</td>\n",
              "      <td>흰다리새우</td>\n",
              "      <td>냉동,살,자숙</td>\n",
              "      <td>8.204321</td>\n",
              "      <td>2016</td>\n",
              "      <td>101.0</td>\n",
              "      <td>1.0</td>\n",
              "      <td>2.3</td>\n",
              "      <td>0.7</td>\n",
              "      <td>1.8</td>\n",
              "      <td>-0.8</td>\n",
              "      <td>1.6</td>\n",
              "      <td>1.0</td>\n",
              "      <td>-2.2</td>\n",
              "      <td>0.1</td>\n",
              "      <td>1.8</td>\n",
              "      <td>1.6</td>\n",
              "      <td>2.5</td>\n",
              "      <td>3.4</td>\n",
              "      <td>1</td>\n",
              "      <td>1</td>\n",
              "      <td>1187.520</td>\n",
              "      <td>34.626</td>\n",
              "      <td>35.034</td>\n",
              "      <td>30.4060</td>\n",
              "    </tr>\n",
              "    <tr>\n",
              "      <th>24</th>\n",
              "      <td>2016-01-04</td>\n",
              "      <td>수산물</td>\n",
              "      <td>인도</td>\n",
              "      <td>인도</td>\n",
              "      <td>판매용</td>\n",
              "      <td>갑각류</td>\n",
              "      <td>새우</td>\n",
              "      <td>흰다리새우</td>\n",
              "      <td>냉동</td>\n",
              "      <td>9.059677</td>\n",
              "      <td>2016</td>\n",
              "      <td>101.0</td>\n",
              "      <td>1.0</td>\n",
              "      <td>2.3</td>\n",
              "      <td>0.7</td>\n",
              "      <td>1.8</td>\n",
              "      <td>-0.8</td>\n",
              "      <td>1.6</td>\n",
              "      <td>1.0</td>\n",
              "      <td>-2.2</td>\n",
              "      <td>0.1</td>\n",
              "      <td>1.8</td>\n",
              "      <td>1.6</td>\n",
              "      <td>2.5</td>\n",
              "      <td>3.4</td>\n",
              "      <td>1</td>\n",
              "      <td>1</td>\n",
              "      <td>1187.520</td>\n",
              "      <td>34.626</td>\n",
              "      <td>35.034</td>\n",
              "      <td>30.4060</td>\n",
              "    </tr>\n",
              "    <tr>\n",
              "      <th>33</th>\n",
              "      <td>2016-01-04</td>\n",
              "      <td>수산물</td>\n",
              "      <td>말레이시아</td>\n",
              "      <td>말레이시아</td>\n",
              "      <td>판매용</td>\n",
              "      <td>갑각류</td>\n",
              "      <td>새우</td>\n",
              "      <td>흰다리새우</td>\n",
              "      <td>냉동</td>\n",
              "      <td>7.189045</td>\n",
              "      <td>2016</td>\n",
              "      <td>101.0</td>\n",
              "      <td>1.0</td>\n",
              "      <td>2.3</td>\n",
              "      <td>0.7</td>\n",
              "      <td>1.8</td>\n",
              "      <td>-0.8</td>\n",
              "      <td>1.6</td>\n",
              "      <td>1.0</td>\n",
              "      <td>-2.2</td>\n",
              "      <td>0.1</td>\n",
              "      <td>1.8</td>\n",
              "      <td>1.6</td>\n",
              "      <td>2.5</td>\n",
              "      <td>3.4</td>\n",
              "      <td>1</td>\n",
              "      <td>1</td>\n",
              "      <td>1187.520</td>\n",
              "      <td>34.626</td>\n",
              "      <td>35.034</td>\n",
              "      <td>30.4060</td>\n",
              "    </tr>\n",
              "    <tr>\n",
              "      <th>52</th>\n",
              "      <td>2016-01-04</td>\n",
              "      <td>수산물</td>\n",
              "      <td>사우디아라비아</td>\n",
              "      <td>사우디아라비아</td>\n",
              "      <td>판매용</td>\n",
              "      <td>갑각류</td>\n",
              "      <td>새우</td>\n",
              "      <td>흰다리새우</td>\n",
              "      <td>냉동</td>\n",
              "      <td>5.700000</td>\n",
              "      <td>2016</td>\n",
              "      <td>101.0</td>\n",
              "      <td>1.0</td>\n",
              "      <td>2.3</td>\n",
              "      <td>0.7</td>\n",
              "      <td>1.8</td>\n",
              "      <td>-0.8</td>\n",
              "      <td>1.6</td>\n",
              "      <td>1.0</td>\n",
              "      <td>-2.2</td>\n",
              "      <td>0.1</td>\n",
              "      <td>1.8</td>\n",
              "      <td>1.6</td>\n",
              "      <td>2.5</td>\n",
              "      <td>3.4</td>\n",
              "      <td>1</td>\n",
              "      <td>1</td>\n",
              "      <td>1187.520</td>\n",
              "      <td>34.626</td>\n",
              "      <td>35.034</td>\n",
              "      <td>30.4060</td>\n",
              "    </tr>\n",
              "    <tr>\n",
              "      <th>76</th>\n",
              "      <td>2016-01-04</td>\n",
              "      <td>수산물</td>\n",
              "      <td>베트남</td>\n",
              "      <td>베트남</td>\n",
              "      <td>판매용</td>\n",
              "      <td>갑각류</td>\n",
              "      <td>새우</td>\n",
              "      <td>흰다리새우</td>\n",
              "      <td>냉동,살,포장횟감</td>\n",
              "      <td>10.863794</td>\n",
              "      <td>2016</td>\n",
              "      <td>101.0</td>\n",
              "      <td>1.0</td>\n",
              "      <td>2.3</td>\n",
              "      <td>0.7</td>\n",
              "      <td>1.8</td>\n",
              "      <td>-0.8</td>\n",
              "      <td>1.6</td>\n",
              "      <td>1.0</td>\n",
              "      <td>-2.2</td>\n",
              "      <td>0.1</td>\n",
              "      <td>1.8</td>\n",
              "      <td>1.6</td>\n",
              "      <td>2.5</td>\n",
              "      <td>3.4</td>\n",
              "      <td>1</td>\n",
              "      <td>1</td>\n",
              "      <td>1187.520</td>\n",
              "      <td>34.626</td>\n",
              "      <td>35.034</td>\n",
              "      <td>30.4060</td>\n",
              "    </tr>\n",
              "    <tr>\n",
              "      <th>...</th>\n",
              "      <td>...</td>\n",
              "      <td>...</td>\n",
              "      <td>...</td>\n",
              "      <td>...</td>\n",
              "      <td>...</td>\n",
              "      <td>...</td>\n",
              "      <td>...</td>\n",
              "      <td>...</td>\n",
              "      <td>...</td>\n",
              "      <td>...</td>\n",
              "      <td>...</td>\n",
              "      <td>...</td>\n",
              "      <td>...</td>\n",
              "      <td>...</td>\n",
              "      <td>...</td>\n",
              "      <td>...</td>\n",
              "      <td>...</td>\n",
              "      <td>...</td>\n",
              "      <td>...</td>\n",
              "      <td>...</td>\n",
              "      <td>...</td>\n",
              "      <td>...</td>\n",
              "      <td>...</td>\n",
              "      <td>...</td>\n",
              "      <td>...</td>\n",
              "      <td>...</td>\n",
              "      <td>...</td>\n",
              "      <td>...</td>\n",
              "      <td>...</td>\n",
              "      <td>...</td>\n",
              "      <td>...</td>\n",
              "    </tr>\n",
              "    <tr>\n",
              "      <th>51259</th>\n",
              "      <td>2020-12-28</td>\n",
              "      <td>수산물</td>\n",
              "      <td>베트남</td>\n",
              "      <td>베트남</td>\n",
              "      <td>판매용</td>\n",
              "      <td>갑각류</td>\n",
              "      <td>새우</td>\n",
              "      <td>흰다리새우</td>\n",
              "      <td>냉동,살,자숙,포장횟감</td>\n",
              "      <td>16.770000</td>\n",
              "      <td>2020</td>\n",
              "      <td>105.4</td>\n",
              "      <td>0.5</td>\n",
              "      <td>4.4</td>\n",
              "      <td>0.3</td>\n",
              "      <td>0.7</td>\n",
              "      <td>0.5</td>\n",
              "      <td>0.0</td>\n",
              "      <td>1.5</td>\n",
              "      <td>-1.8</td>\n",
              "      <td>-2.1</td>\n",
              "      <td>-1.0</td>\n",
              "      <td>-2.1</td>\n",
              "      <td>1.0</td>\n",
              "      <td>2.0</td>\n",
              "      <td>12</td>\n",
              "      <td>53</td>\n",
              "      <td>1095.775</td>\n",
              "      <td>48.135</td>\n",
              "      <td>51.280</td>\n",
              "      <td>51.0575</td>\n",
              "    </tr>\n",
              "    <tr>\n",
              "      <th>51276</th>\n",
              "      <td>2020-12-28</td>\n",
              "      <td>수산물</td>\n",
              "      <td>태국</td>\n",
              "      <td>태국</td>\n",
              "      <td>판매용</td>\n",
              "      <td>갑각류</td>\n",
              "      <td>새우</td>\n",
              "      <td>흰다리새우</td>\n",
              "      <td>냉동,살,자숙,포장횟감</td>\n",
              "      <td>21.040000</td>\n",
              "      <td>2020</td>\n",
              "      <td>105.4</td>\n",
              "      <td>0.5</td>\n",
              "      <td>4.4</td>\n",
              "      <td>0.3</td>\n",
              "      <td>0.7</td>\n",
              "      <td>0.5</td>\n",
              "      <td>0.0</td>\n",
              "      <td>1.5</td>\n",
              "      <td>-1.8</td>\n",
              "      <td>-2.1</td>\n",
              "      <td>-1.0</td>\n",
              "      <td>-2.1</td>\n",
              "      <td>1.0</td>\n",
              "      <td>2.0</td>\n",
              "      <td>12</td>\n",
              "      <td>53</td>\n",
              "      <td>1095.775</td>\n",
              "      <td>48.135</td>\n",
              "      <td>51.280</td>\n",
              "      <td>51.0575</td>\n",
              "    </tr>\n",
              "    <tr>\n",
              "      <th>51281</th>\n",
              "      <td>2020-12-28</td>\n",
              "      <td>수산물</td>\n",
              "      <td>페루</td>\n",
              "      <td>페루</td>\n",
              "      <td>판매용</td>\n",
              "      <td>갑각류</td>\n",
              "      <td>새우</td>\n",
              "      <td>흰다리새우</td>\n",
              "      <td>냉동</td>\n",
              "      <td>6.140000</td>\n",
              "      <td>2020</td>\n",
              "      <td>105.4</td>\n",
              "      <td>0.5</td>\n",
              "      <td>4.4</td>\n",
              "      <td>0.3</td>\n",
              "      <td>0.7</td>\n",
              "      <td>0.5</td>\n",
              "      <td>0.0</td>\n",
              "      <td>1.5</td>\n",
              "      <td>-1.8</td>\n",
              "      <td>-2.1</td>\n",
              "      <td>-1.0</td>\n",
              "      <td>-2.1</td>\n",
              "      <td>1.0</td>\n",
              "      <td>2.0</td>\n",
              "      <td>12</td>\n",
              "      <td>53</td>\n",
              "      <td>1095.775</td>\n",
              "      <td>48.135</td>\n",
              "      <td>51.280</td>\n",
              "      <td>51.0575</td>\n",
              "    </tr>\n",
              "    <tr>\n",
              "      <th>51284</th>\n",
              "      <td>2020-12-28</td>\n",
              "      <td>수산물</td>\n",
              "      <td>태국</td>\n",
              "      <td>태국</td>\n",
              "      <td>판매용</td>\n",
              "      <td>갑각류</td>\n",
              "      <td>새우</td>\n",
              "      <td>흰다리새우</td>\n",
              "      <td>냉동,살</td>\n",
              "      <td>9.620000</td>\n",
              "      <td>2020</td>\n",
              "      <td>105.4</td>\n",
              "      <td>0.5</td>\n",
              "      <td>4.4</td>\n",
              "      <td>0.3</td>\n",
              "      <td>0.7</td>\n",
              "      <td>0.5</td>\n",
              "      <td>0.0</td>\n",
              "      <td>1.5</td>\n",
              "      <td>-1.8</td>\n",
              "      <td>-2.1</td>\n",
              "      <td>-1.0</td>\n",
              "      <td>-2.1</td>\n",
              "      <td>1.0</td>\n",
              "      <td>2.0</td>\n",
              "      <td>12</td>\n",
              "      <td>53</td>\n",
              "      <td>1095.775</td>\n",
              "      <td>48.135</td>\n",
              "      <td>51.280</td>\n",
              "      <td>51.0575</td>\n",
              "    </tr>\n",
              "    <tr>\n",
              "      <th>51318</th>\n",
              "      <td>2020-12-28</td>\n",
              "      <td>수산물</td>\n",
              "      <td>베트남</td>\n",
              "      <td>베트남</td>\n",
              "      <td>판매용</td>\n",
              "      <td>갑각류</td>\n",
              "      <td>새우</td>\n",
              "      <td>흰다리새우</td>\n",
              "      <td>냉동,살</td>\n",
              "      <td>7.410000</td>\n",
              "      <td>2020</td>\n",
              "      <td>105.4</td>\n",
              "      <td>0.5</td>\n",
              "      <td>4.4</td>\n",
              "      <td>0.3</td>\n",
              "      <td>0.7</td>\n",
              "      <td>0.5</td>\n",
              "      <td>0.0</td>\n",
              "      <td>1.5</td>\n",
              "      <td>-1.8</td>\n",
              "      <td>-2.1</td>\n",
              "      <td>-1.0</td>\n",
              "      <td>-2.1</td>\n",
              "      <td>1.0</td>\n",
              "      <td>2.0</td>\n",
              "      <td>12</td>\n",
              "      <td>53</td>\n",
              "      <td>1095.775</td>\n",
              "      <td>48.135</td>\n",
              "      <td>51.280</td>\n",
              "      <td>51.0575</td>\n",
              "    </tr>\n",
              "  </tbody>\n",
              "</table>\n",
              "<p>3117 rows × 31 columns</p>\n",
              "</div>"
            ],
            "text/plain": [
              "            date type    ctry1    ctry2  ...    환율(달러)     WTi   Brent    Dubai\n",
              "14    2016-01-04  수산물       중국       중국  ...  1187.520  34.626  35.034  30.4060\n",
              "24    2016-01-04  수산물       인도       인도  ...  1187.520  34.626  35.034  30.4060\n",
              "33    2016-01-04  수산물    말레이시아    말레이시아  ...  1187.520  34.626  35.034  30.4060\n",
              "52    2016-01-04  수산물  사우디아라비아  사우디아라비아  ...  1187.520  34.626  35.034  30.4060\n",
              "76    2016-01-04  수산물      베트남      베트남  ...  1187.520  34.626  35.034  30.4060\n",
              "...          ...  ...      ...      ...  ...       ...     ...     ...      ...\n",
              "51259 2020-12-28  수산물      베트남      베트남  ...  1095.775  48.135  51.280  51.0575\n",
              "51276 2020-12-28  수산물       태국       태국  ...  1095.775  48.135  51.280  51.0575\n",
              "51281 2020-12-28  수산물       페루       페루  ...  1095.775  48.135  51.280  51.0575\n",
              "51284 2020-12-28  수산물       태국       태국  ...  1095.775  48.135  51.280  51.0575\n",
              "51318 2020-12-28  수산물      베트남      베트남  ...  1095.775  48.135  51.280  51.0575\n",
              "\n",
              "[3117 rows x 31 columns]"
            ]
          },
          "metadata": {},
          "execution_count": 7
        }
      ]
    },
    {
      "cell_type": "code",
      "metadata": {
        "id": "-AMuxI9fBijR"
      },
      "source": [
        "df = df[['date','cat2', 'name', 'price']]"
      ],
      "execution_count": null,
      "outputs": []
    },
    {
      "cell_type": "code",
      "metadata": {
        "id": "ZgKMwBjLB589"
      },
      "source": [
        "df_salmon = df[df.cat2 == '연어']\n",
        "df_shrimp = df[df.name == '흰다리새우']\n",
        "df_cala = df[df.cat2 == '오징어']"
      ],
      "execution_count": null,
      "outputs": []
    },
    {
      "cell_type": "code",
      "metadata": {
        "id": "Do3vB7uBQKzY"
      },
      "source": [
        "df_salmon = df_salmon.groupby(by = 'date').mean() \n",
        "df_shrimp = df_shrimp.groupby(by = 'date').mean() \n",
        "df_cala = df_cala.groupby(by = 'date').mean() "
      ],
      "execution_count": null,
      "outputs": []
    },
    {
      "cell_type": "code",
      "metadata": {
        "id": "VMf_7cmFQauz"
      },
      "source": [
        "df_salmon.to_csv('./working directory2/salmon.csv')\n",
        "df_shrimp.to_csv('./working directory2/shrimp.csv')\n",
        "df_cala.to_csv('./working directory2/cala.csv')"
      ],
      "execution_count": null,
      "outputs": []
    },
    {
      "cell_type": "markdown",
      "metadata": {
        "id": "5ffB766aB9dK"
      },
      "source": [
        "## 4-1. 세분화된 데이터: 연어"
      ]
    },
    {
      "cell_type": "code",
      "metadata": {
        "id": "RnSTOdVXm7hK"
      },
      "source": [
        "df = pd.read_csv('./new_data0901.csv')"
      ],
      "execution_count": null,
      "outputs": []
    },
    {
      "cell_type": "code",
      "metadata": {
        "id": "32mMCcToB8pQ"
      },
      "source": [
        "df_salmon = df[df.cat2 == '연어']"
      ],
      "execution_count": null,
      "outputs": []
    },
    {
      "cell_type": "code",
      "metadata": {
        "id": "-cN5TEUDnB7h"
      },
      "source": [
        "df = df[['date',\t'ctry1',\t'ctry2',\t'purpose',\t'cat2',\t'import_type',\t'price',\t'year']]"
      ],
      "execution_count": null,
      "outputs": []
    },
    {
      "cell_type": "code",
      "metadata": {
        "colab": {
          "base_uri": "https://localhost:8080/",
          "height": 419
        },
        "id": "tQ4teWPkCHTH",
        "outputId": "33dfce6b-eda2-4c8d-f860-4eb753e7672e"
      },
      "source": [
        "df_salmon = df_salmon[df_salmon.ctry1 == '노르웨이']\n",
        "df_salmon"
      ],
      "execution_count": null,
      "outputs": [
        {
          "output_type": "execute_result",
          "data": {
            "text/html": [
              "<div>\n",
              "<style scoped>\n",
              "    .dataframe tbody tr th:only-of-type {\n",
              "        vertical-align: middle;\n",
              "    }\n",
              "\n",
              "    .dataframe tbody tr th {\n",
              "        vertical-align: top;\n",
              "    }\n",
              "\n",
              "    .dataframe thead th {\n",
              "        text-align: right;\n",
              "    }\n",
              "</style>\n",
              "<table border=\"1\" class=\"dataframe\">\n",
              "  <thead>\n",
              "    <tr style=\"text-align: right;\">\n",
              "      <th></th>\n",
              "      <th>date</th>\n",
              "      <th>ctry1</th>\n",
              "      <th>ctry2</th>\n",
              "      <th>purpose</th>\n",
              "      <th>cat2</th>\n",
              "      <th>import_type</th>\n",
              "      <th>price</th>\n",
              "      <th>year</th>\n",
              "    </tr>\n",
              "  </thead>\n",
              "  <tbody>\n",
              "    <tr>\n",
              "      <th>35</th>\n",
              "      <td>2016-01-04</td>\n",
              "      <td>노르웨이</td>\n",
              "      <td>노르웨이</td>\n",
              "      <td>자사제품제조용</td>\n",
              "      <td>연어</td>\n",
              "      <td>냉장</td>\n",
              "      <td>8.966241</td>\n",
              "      <td>2016</td>\n",
              "    </tr>\n",
              "    <tr>\n",
              "      <th>125</th>\n",
              "      <td>2016-01-04</td>\n",
              "      <td>노르웨이</td>\n",
              "      <td>노르웨이</td>\n",
              "      <td>판매용</td>\n",
              "      <td>연어</td>\n",
              "      <td>냉장,필렛(F)</td>\n",
              "      <td>12.736953</td>\n",
              "      <td>2016</td>\n",
              "    </tr>\n",
              "    <tr>\n",
              "      <th>141</th>\n",
              "      <td>2016-01-04</td>\n",
              "      <td>노르웨이</td>\n",
              "      <td>노르웨이</td>\n",
              "      <td>판매용</td>\n",
              "      <td>연어</td>\n",
              "      <td>냉장,포장횟감,필렛(F)</td>\n",
              "      <td>18.577778</td>\n",
              "      <td>2016</td>\n",
              "    </tr>\n",
              "    <tr>\n",
              "      <th>142</th>\n",
              "      <td>2016-01-04</td>\n",
              "      <td>노르웨이</td>\n",
              "      <td>노르웨이</td>\n",
              "      <td>판매용</td>\n",
              "      <td>연어</td>\n",
              "      <td>냉동</td>\n",
              "      <td>6.287863</td>\n",
              "      <td>2016</td>\n",
              "    </tr>\n",
              "    <tr>\n",
              "      <th>168</th>\n",
              "      <td>2016-01-04</td>\n",
              "      <td>노르웨이</td>\n",
              "      <td>노르웨이</td>\n",
              "      <td>판매용</td>\n",
              "      <td>연어</td>\n",
              "      <td>냉장,필렛(F),횟감</td>\n",
              "      <td>13.562398</td>\n",
              "      <td>2016</td>\n",
              "    </tr>\n",
              "    <tr>\n",
              "      <th>...</th>\n",
              "      <td>...</td>\n",
              "      <td>...</td>\n",
              "      <td>...</td>\n",
              "      <td>...</td>\n",
              "      <td>...</td>\n",
              "      <td>...</td>\n",
              "      <td>...</td>\n",
              "      <td>...</td>\n",
              "    </tr>\n",
              "    <tr>\n",
              "      <th>51296</th>\n",
              "      <td>2020-12-28</td>\n",
              "      <td>노르웨이</td>\n",
              "      <td>노르웨이</td>\n",
              "      <td>자사제품제조용</td>\n",
              "      <td>연어</td>\n",
              "      <td>냉장</td>\n",
              "      <td>8.750000</td>\n",
              "      <td>2020</td>\n",
              "    </tr>\n",
              "    <tr>\n",
              "      <th>51309</th>\n",
              "      <td>2020-12-28</td>\n",
              "      <td>노르웨이</td>\n",
              "      <td>노르웨이</td>\n",
              "      <td>판매용</td>\n",
              "      <td>연어</td>\n",
              "      <td>냉장,포장횟감,필렛(F)</td>\n",
              "      <td>29.740000</td>\n",
              "      <td>2020</td>\n",
              "    </tr>\n",
              "    <tr>\n",
              "      <th>51320</th>\n",
              "      <td>2020-12-28</td>\n",
              "      <td>노르웨이</td>\n",
              "      <td>노르웨이</td>\n",
              "      <td>판매용</td>\n",
              "      <td>연어</td>\n",
              "      <td>냉장,필렛(F)</td>\n",
              "      <td>15.290000</td>\n",
              "      <td>2020</td>\n",
              "    </tr>\n",
              "    <tr>\n",
              "      <th>51332</th>\n",
              "      <td>2020-12-28</td>\n",
              "      <td>노르웨이</td>\n",
              "      <td>노르웨이</td>\n",
              "      <td>자사제품제조용</td>\n",
              "      <td>연어</td>\n",
              "      <td>냉장,필렛(F)</td>\n",
              "      <td>14.260000</td>\n",
              "      <td>2020</td>\n",
              "    </tr>\n",
              "    <tr>\n",
              "      <th>51339</th>\n",
              "      <td>2020-12-28</td>\n",
              "      <td>노르웨이</td>\n",
              "      <td>노르웨이</td>\n",
              "      <td>판매용</td>\n",
              "      <td>연어</td>\n",
              "      <td>냉장</td>\n",
              "      <td>8.590000</td>\n",
              "      <td>2020</td>\n",
              "    </tr>\n",
              "  </tbody>\n",
              "</table>\n",
              "<p>1715 rows × 8 columns</p>\n",
              "</div>"
            ],
            "text/plain": [
              "            date ctry1 ctry2  purpose cat2    import_type      price  year\n",
              "35    2016-01-04  노르웨이  노르웨이  자사제품제조용   연어             냉장   8.966241  2016\n",
              "125   2016-01-04  노르웨이  노르웨이      판매용   연어       냉장,필렛(F)  12.736953  2016\n",
              "141   2016-01-04  노르웨이  노르웨이      판매용   연어  냉장,포장횟감,필렛(F)  18.577778  2016\n",
              "142   2016-01-04  노르웨이  노르웨이      판매용   연어             냉동   6.287863  2016\n",
              "168   2016-01-04  노르웨이  노르웨이      판매용   연어    냉장,필렛(F),횟감  13.562398  2016\n",
              "...          ...   ...   ...      ...  ...            ...        ...   ...\n",
              "51296 2020-12-28  노르웨이  노르웨이  자사제품제조용   연어             냉장   8.750000  2020\n",
              "51309 2020-12-28  노르웨이  노르웨이      판매용   연어  냉장,포장횟감,필렛(F)  29.740000  2020\n",
              "51320 2020-12-28  노르웨이  노르웨이      판매용   연어       냉장,필렛(F)  15.290000  2020\n",
              "51332 2020-12-28  노르웨이  노르웨이  자사제품제조용   연어       냉장,필렛(F)  14.260000  2020\n",
              "51339 2020-12-28  노르웨이  노르웨이      판매용   연어             냉장   8.590000  2020\n",
              "\n",
              "[1715 rows x 8 columns]"
            ]
          },
          "metadata": {},
          "execution_count": 8
        }
      ]
    },
    {
      "cell_type": "markdown",
      "metadata": {
        "id": "IMSZ8DAmCrOY"
      },
      "source": [
        "4 가지 수입형태: ['냉장,필렛(F)', '냉장,포장횟감,필렛(F)', '냉장,필렛(F),횟감', '냉장']"
      ]
    },
    {
      "cell_type": "code",
      "metadata": {
        "id": "-WggI-xHCpzf"
      },
      "source": [
        "df_salmon_1 = df_salmon[df_salmon.import_type == '냉장,필렛(F)']\n",
        "df_salmon_2 = df_salmon[df_salmon.import_type == '냉장,포장횟감,필렛(F)']\n",
        "df_salmon_3 = df_salmon[df_salmon.import_type == '냉장,필렛(F),횟감']\n",
        "df_salmon_4 = df_salmon[df_salmon.import_type == '냉장']\n"
      ],
      "execution_count": null,
      "outputs": []
    },
    {
      "cell_type": "code",
      "metadata": {
        "id": "5zELehk5D8gl"
      },
      "source": [
        "# salmon_1 은 판매용과 자사제품제조용 분리\n",
        "\n",
        "df_salmon_1_판매용 = df_salmon_1[df_salmon_1.purpose == '판매용']\n",
        "df_salmon_1_자사 = df_salmon_1[df_salmon_1.purpose == '자사제품제조용']\n"
      ],
      "execution_count": null,
      "outputs": []
    },
    {
      "cell_type": "code",
      "metadata": {
        "id": "PPi6TrIBEyCR"
      },
      "source": [
        "# salmon_2 는 판매용만\n",
        "\n",
        "df_salmon_2 = df_salmon_2[df_salmon_2.purpose == '판매용']"
      ],
      "execution_count": null,
      "outputs": []
    },
    {
      "cell_type": "code",
      "metadata": {
        "id": "ScNkqYqAFb6D"
      },
      "source": [
        "# salmon_3 도 판매용만\n",
        "df_salmon_3 = df_salmon_3[df_salmon_3.purpose == '판매용']"
      ],
      "execution_count": null,
      "outputs": []
    },
    {
      "cell_type": "code",
      "metadata": {
        "id": "AQ5hI8MgFkEH"
      },
      "source": [
        "# salmon_4 는 판매용과 자사제조\n",
        "df_salmon_4_판매용 = df_salmon_4[df_salmon_4.purpose == '판매용']\n",
        "df_salmon_4_자사 = df_salmon_4[df_salmon_4.purpose == '자사제품제조용']\n"
      ],
      "execution_count": null,
      "outputs": []
    },
    {
      "cell_type": "code",
      "metadata": {
        "id": "fOaXcteHxbzR"
      },
      "source": [
        "def cleaning(dataframe):\n",
        "    dataframe['date'] = pd.to_datetime(dataframe['date'])\n",
        "    dataframe = dataframe[['date', 'price']]\n",
        "    dataframe.index = dataframe['date']\n",
        "    dataframe.set_index('date', inplace = True)\n",
        "    return dataframe "
      ],
      "execution_count": null,
      "outputs": []
    },
    {
      "cell_type": "code",
      "metadata": {
        "colab": {
          "base_uri": "https://localhost:8080/"
        },
        "id": "HWeh0SHdxlHT",
        "outputId": "30ba38f1-5e5a-42db-88b1-6a2eeff10ab7"
      },
      "source": [
        "df_salmon_1_자사 = cleaning(df_salmon_1_자사)\n",
        "df_salmon_1_판매용 = cleaning(df_salmon_1_판매용)\n",
        "df_salmon_2 = cleaning(df_salmon_2)\n",
        "df_salmon_3 = cleaning(df_salmon_3)\n",
        "df_salmon_4_자사 = cleaning(df_salmon_4_자사)\n",
        "df_salmon_4_판매용 = cleaning(df_salmon_4_판매용)"
      ],
      "execution_count": null,
      "outputs": [
        {
          "output_type": "stream",
          "name": "stderr",
          "text": [
            "/usr/local/lib/python3.7/dist-packages/ipykernel_launcher.py:2: SettingWithCopyWarning: \n",
            "A value is trying to be set on a copy of a slice from a DataFrame.\n",
            "Try using .loc[row_indexer,col_indexer] = value instead\n",
            "\n",
            "See the caveats in the documentation: https://pandas.pydata.org/pandas-docs/stable/user_guide/indexing.html#returning-a-view-versus-a-copy\n",
            "  \n"
          ]
        }
      ]
    },
    {
      "cell_type": "code",
      "metadata": {
        "id": "YgVAvPAtFwQH"
      },
      "source": [
        "# our salmon data \n",
        "# df_salmon_1_자사 ('냉장,필렛(F)')\n",
        "# df_salmon_1_판매용 ('냉장,필렛(F)')\n",
        "# df_salmon_2 ('냉장,포장횟감,필렛(F)')\n",
        "# df_salmon_3 ('냉장,필렛(F),횟감')\n",
        "# df_salmon_4_자사 ('냉장')\n",
        "# df_salmon_4_판매용 ('냉장')\n",
        "\n",
        "df_salmon_1_자사.to_csv('./working directory/연어_노르웨이_냉장필렛_자사제품제조용.csv')\n",
        "df_salmon_1_판매용.to_csv('./working directory/연어_노르웨이_냉장필렛_판매용.csv')\n",
        "df_salmon_2.to_csv('./working directory/연어_노르웨이_냉장포장횟감필렛.csv')\n",
        "df_salmon_3.to_csv('./working directory/연어_노르웨이_냉장필렛횟감.csv')\n",
        "df_salmon_4_자사.to_csv('./working directory/연어_노르웨이_냉장_자사제품제조용.csv')\n",
        "df_salmon_4_판매용.to_csv('./working directory/연어_노르웨이_냉장_판매용.csv')\n"
      ],
      "execution_count": null,
      "outputs": []
    },
    {
      "cell_type": "markdown",
      "metadata": {
        "id": "AaP5Hkc9Hler"
      },
      "source": [
        "## 4-2. 세분화된 데이터: 오징어"
      ]
    },
    {
      "cell_type": "code",
      "metadata": {
        "id": "K1gnRc4GGCp7"
      },
      "source": [
        "df_cala = df[df.cat2 == '오징어']"
      ],
      "execution_count": null,
      "outputs": []
    },
    {
      "cell_type": "code",
      "metadata": {
        "colab": {
          "base_uri": "https://localhost:8080/",
          "height": 589
        },
        "id": "BNRfr_G6HtJ9",
        "outputId": "c8f12c0c-b696-4bb3-d2f4-34dcff22c935"
      },
      "source": [
        "df_cala\n",
        "# 페루, 중국, 베트남, 칠레 \n",
        "# ['냉동,동체,자숙', '냉동,다리', '냉동,지느러미']"
      ],
      "execution_count": null,
      "outputs": [
        {
          "output_type": "execute_result",
          "data": {
            "text/html": [
              "<div>\n",
              "<style scoped>\n",
              "    .dataframe tbody tr th:only-of-type {\n",
              "        vertical-align: middle;\n",
              "    }\n",
              "\n",
              "    .dataframe tbody tr th {\n",
              "        vertical-align: top;\n",
              "    }\n",
              "\n",
              "    .dataframe thead th {\n",
              "        text-align: right;\n",
              "    }\n",
              "</style>\n",
              "<table border=\"1\" class=\"dataframe\">\n",
              "  <thead>\n",
              "    <tr style=\"text-align: right;\">\n",
              "      <th></th>\n",
              "      <th>date</th>\n",
              "      <th>ctry1</th>\n",
              "      <th>ctry2</th>\n",
              "      <th>purpose</th>\n",
              "      <th>cat2</th>\n",
              "      <th>import_type</th>\n",
              "      <th>price</th>\n",
              "      <th>year</th>\n",
              "    </tr>\n",
              "  </thead>\n",
              "  <tbody>\n",
              "    <tr>\n",
              "      <th>5</th>\n",
              "      <td>2016-01-04</td>\n",
              "      <td>칠레</td>\n",
              "      <td>칠레</td>\n",
              "      <td>판매용</td>\n",
              "      <td>오징어</td>\n",
              "      <td>냉동,다리</td>\n",
              "      <td>0.945644</td>\n",
              "      <td>2016</td>\n",
              "    </tr>\n",
              "    <tr>\n",
              "      <th>37</th>\n",
              "      <td>2016-01-04</td>\n",
              "      <td>페루</td>\n",
              "      <td>페루</td>\n",
              "      <td>판매용</td>\n",
              "      <td>오징어</td>\n",
              "      <td>냉동,지느러미</td>\n",
              "      <td>0.600000</td>\n",
              "      <td>2016</td>\n",
              "    </tr>\n",
              "    <tr>\n",
              "      <th>58</th>\n",
              "      <td>2016-01-04</td>\n",
              "      <td>태국</td>\n",
              "      <td>태국</td>\n",
              "      <td>판매용</td>\n",
              "      <td>오징어</td>\n",
              "      <td>냉동,슬라이스(S),포장횟감</td>\n",
              "      <td>13.978644</td>\n",
              "      <td>2016</td>\n",
              "    </tr>\n",
              "    <tr>\n",
              "      <th>82</th>\n",
              "      <td>2016-01-04</td>\n",
              "      <td>베트남</td>\n",
              "      <td>베트남</td>\n",
              "      <td>판매용</td>\n",
              "      <td>오징어</td>\n",
              "      <td>냉동,슬라이스(S),포장횟감</td>\n",
              "      <td>11.811334</td>\n",
              "      <td>2016</td>\n",
              "    </tr>\n",
              "    <tr>\n",
              "      <th>101</th>\n",
              "      <td>2016-01-04</td>\n",
              "      <td>페루</td>\n",
              "      <td>페루</td>\n",
              "      <td>자사제품제조용</td>\n",
              "      <td>오징어</td>\n",
              "      <td>냉동,동체,자숙</td>\n",
              "      <td>3.716541</td>\n",
              "      <td>2016</td>\n",
              "    </tr>\n",
              "    <tr>\n",
              "      <th>...</th>\n",
              "      <td>...</td>\n",
              "      <td>...</td>\n",
              "      <td>...</td>\n",
              "      <td>...</td>\n",
              "      <td>...</td>\n",
              "      <td>...</td>\n",
              "      <td>...</td>\n",
              "      <td>...</td>\n",
              "    </tr>\n",
              "    <tr>\n",
              "      <th>51282</th>\n",
              "      <td>2020-12-28</td>\n",
              "      <td>페루</td>\n",
              "      <td>페루</td>\n",
              "      <td>판매용</td>\n",
              "      <td>오징어</td>\n",
              "      <td>냉동,다리</td>\n",
              "      <td>2.160000</td>\n",
              "      <td>2020</td>\n",
              "    </tr>\n",
              "    <tr>\n",
              "      <th>51283</th>\n",
              "      <td>2020-12-28</td>\n",
              "      <td>페루</td>\n",
              "      <td>페루</td>\n",
              "      <td>판매용</td>\n",
              "      <td>오징어</td>\n",
              "      <td>냉동,동체,자숙</td>\n",
              "      <td>2.910000</td>\n",
              "      <td>2020</td>\n",
              "    </tr>\n",
              "    <tr>\n",
              "      <th>51289</th>\n",
              "      <td>2020-12-28</td>\n",
              "      <td>페루</td>\n",
              "      <td>페루</td>\n",
              "      <td>판매용</td>\n",
              "      <td>오징어</td>\n",
              "      <td>냉동,지느러미</td>\n",
              "      <td>1.330000</td>\n",
              "      <td>2020</td>\n",
              "    </tr>\n",
              "    <tr>\n",
              "      <th>51294</th>\n",
              "      <td>2020-12-28</td>\n",
              "      <td>중국</td>\n",
              "      <td>중국</td>\n",
              "      <td>판매용</td>\n",
              "      <td>오징어</td>\n",
              "      <td>냉동,동체</td>\n",
              "      <td>2.090000</td>\n",
              "      <td>2020</td>\n",
              "    </tr>\n",
              "    <tr>\n",
              "      <th>51329</th>\n",
              "      <td>2020-12-28</td>\n",
              "      <td>중국</td>\n",
              "      <td>중국</td>\n",
              "      <td>판매용</td>\n",
              "      <td>오징어</td>\n",
              "      <td>냉동</td>\n",
              "      <td>3.150000</td>\n",
              "      <td>2020</td>\n",
              "    </tr>\n",
              "  </tbody>\n",
              "</table>\n",
              "<p>3372 rows × 8 columns</p>\n",
              "</div>"
            ],
            "text/plain": [
              "            date ctry1 ctry2  purpose cat2      import_type      price  year\n",
              "5     2016-01-04    칠레    칠레      판매용  오징어            냉동,다리   0.945644  2016\n",
              "37    2016-01-04    페루    페루      판매용  오징어          냉동,지느러미   0.600000  2016\n",
              "58    2016-01-04    태국    태국      판매용  오징어  냉동,슬라이스(S),포장횟감  13.978644  2016\n",
              "82    2016-01-04   베트남   베트남      판매용  오징어  냉동,슬라이스(S),포장횟감  11.811334  2016\n",
              "101   2016-01-04    페루    페루  자사제품제조용  오징어         냉동,동체,자숙   3.716541  2016\n",
              "...          ...   ...   ...      ...  ...              ...        ...   ...\n",
              "51282 2020-12-28    페루    페루      판매용  오징어            냉동,다리   2.160000  2020\n",
              "51283 2020-12-28    페루    페루      판매용  오징어         냉동,동체,자숙   2.910000  2020\n",
              "51289 2020-12-28    페루    페루      판매용  오징어          냉동,지느러미   1.330000  2020\n",
              "51294 2020-12-28    중국    중국      판매용  오징어            냉동,동체   2.090000  2020\n",
              "51329 2020-12-28    중국    중국      판매용  오징어               냉동   3.150000  2020\n",
              "\n",
              "[3372 rows x 8 columns]"
            ]
          },
          "metadata": {},
          "execution_count": 55
        }
      ]
    },
    {
      "cell_type": "markdown",
      "metadata": {
        "id": "bz39ntXqJ0E_"
      },
      "source": [
        "### 4-2-1. 오징어페루"
      ]
    },
    {
      "cell_type": "code",
      "metadata": {
        "id": "fb-ykFFfH1Zc"
      },
      "source": [
        "df_cala_peru = df_cala[df_cala.ctry1 == '페루']"
      ],
      "execution_count": null,
      "outputs": []
    },
    {
      "cell_type": "code",
      "metadata": {
        "id": "HjAsdTnNH8Jx"
      },
      "source": [
        "df_c_p = df_cala_peru"
      ],
      "execution_count": null,
      "outputs": []
    },
    {
      "cell_type": "code",
      "metadata": {
        "id": "1js1u6u4IFGG"
      },
      "source": [
        "df_c_p_1 = df_c_p[df_c_p.import_type == '냉동,동체,자숙']\n",
        "df_c_p_2 = df_c_p[df_c_p.import_type == '냉동,다리']\n",
        "df_c_p_3 = df_c_p[df_c_p.import_type == '냉동,지느러미']\n"
      ],
      "execution_count": null,
      "outputs": []
    },
    {
      "cell_type": "code",
      "metadata": {
        "id": "mUTmSnSiIewQ"
      },
      "source": [
        "df_c_p_1_자사 = df_c_p_1[df_c_p_1.purpose == '자사제품제조용']\n",
        "df_c_p_1_판매 = df_c_p_1[df_c_p_1.purpose == '판매용']\n"
      ],
      "execution_count": null,
      "outputs": []
    },
    {
      "cell_type": "code",
      "metadata": {
        "colab": {
          "base_uri": "https://localhost:8080/"
        },
        "id": "__ccJ3oIzAEP",
        "outputId": "65ec3760-8c88-475d-b150-23d5290b945b"
      },
      "source": [
        "df_c_p_1_자사 = cleaning(df_c_p_1_자사)\n",
        "df_c_p_1_판매 = cleaning(df_c_p_1_판매)\n",
        "df_c_p_2 = cleaning(df_c_p_2)\n",
        "df_c_p_3 = cleaning(df_c_p_3)\n"
      ],
      "execution_count": null,
      "outputs": [
        {
          "output_type": "stream",
          "name": "stderr",
          "text": [
            "/usr/local/lib/python3.7/dist-packages/ipykernel_launcher.py:2: SettingWithCopyWarning: \n",
            "A value is trying to be set on a copy of a slice from a DataFrame.\n",
            "Try using .loc[row_indexer,col_indexer] = value instead\n",
            "\n",
            "See the caveats in the documentation: https://pandas.pydata.org/pandas-docs/stable/user_guide/indexing.html#returning-a-view-versus-a-copy\n",
            "  \n"
          ]
        }
      ]
    },
    {
      "cell_type": "code",
      "metadata": {
        "id": "MKGbVvP6JaHw"
      },
      "source": [
        "df_c_p_1_자사.to_csv('./working directory/오징어_페루_냉동동체자숙_자사제품제조용.csv')\n",
        "df_c_p_1_판매.to_csv('./working directory/오징어_페루_냉동동체자숙_판매용.csv')\n",
        "df_c_p_2.to_csv('./working directory/오징어_페루_냉동다리.csv')\n",
        "df_c_p_3.to_csv('./working directory/오징어_페루_냉동지느러미.csv')"
      ],
      "execution_count": null,
      "outputs": []
    },
    {
      "cell_type": "markdown",
      "metadata": {
        "id": "HTc7A2MoJ2bM"
      },
      "source": [
        "### 4-2-2. 오징어중국"
      ]
    },
    {
      "cell_type": "code",
      "metadata": {
        "id": "1GsnIv41Jx20"
      },
      "source": [
        "df_c_c = df_cala[df_cala.ctry1 == '중국']"
      ],
      "execution_count": null,
      "outputs": []
    },
    {
      "cell_type": "code",
      "metadata": {
        "colab": {
          "base_uri": "https://localhost:8080/"
        },
        "id": "9R2HVfSpKZU7",
        "outputId": "86be1896-174a-4693-baa5-6d1e1b4c7f17"
      },
      "source": [
        "df_c_c.price.groupby(by = df_c_c.import_type).count()"
      ],
      "execution_count": null,
      "outputs": [
        {
          "output_type": "execute_result",
          "data": {
            "text/plain": [
              "import_type\n",
              "건조                   5\n",
              "냉동                 224\n",
              "냉동,다리              101\n",
              "냉동,다리,자숙             2\n",
              "냉동,동체              221\n",
              "냉동,동체,자숙            62\n",
              "냉동,동체,포장횟감           2\n",
              "냉동,슬라이스(S)          31\n",
              "냉동,슬라이스(S),포장횟감      5\n",
              "냉동,자숙                4\n",
              "냉동,지느러미             54\n",
              "Name: price, dtype: int64"
            ]
          },
          "metadata": {},
          "execution_count": 90
        }
      ]
    },
    {
      "cell_type": "code",
      "metadata": {
        "colab": {
          "base_uri": "https://localhost:8080/",
          "height": 419
        },
        "id": "Ot4Olhv9K-fG",
        "outputId": "84c07279-b782-4a6f-d122-bcbcd74f1ec1"
      },
      "source": [
        "df_c_c[df_c_c.import_type == '냉동']\n",
        "#'냉동', '냉동,동체'"
      ],
      "execution_count": null,
      "outputs": [
        {
          "output_type": "execute_result",
          "data": {
            "text/html": [
              "<div>\n",
              "<style scoped>\n",
              "    .dataframe tbody tr th:only-of-type {\n",
              "        vertical-align: middle;\n",
              "    }\n",
              "\n",
              "    .dataframe tbody tr th {\n",
              "        vertical-align: top;\n",
              "    }\n",
              "\n",
              "    .dataframe thead th {\n",
              "        text-align: right;\n",
              "    }\n",
              "</style>\n",
              "<table border=\"1\" class=\"dataframe\">\n",
              "  <thead>\n",
              "    <tr style=\"text-align: right;\">\n",
              "      <th></th>\n",
              "      <th>date</th>\n",
              "      <th>ctry1</th>\n",
              "      <th>ctry2</th>\n",
              "      <th>purpose</th>\n",
              "      <th>cat2</th>\n",
              "      <th>import_type</th>\n",
              "      <th>price</th>\n",
              "      <th>year</th>\n",
              "    </tr>\n",
              "  </thead>\n",
              "  <tbody>\n",
              "    <tr>\n",
              "      <th>1758</th>\n",
              "      <td>2016-03-07</td>\n",
              "      <td>중국</td>\n",
              "      <td>중국</td>\n",
              "      <td>외화획득용 원료</td>\n",
              "      <td>오징어</td>\n",
              "      <td>냉동</td>\n",
              "      <td>1.066601</td>\n",
              "      <td>2016</td>\n",
              "    </tr>\n",
              "    <tr>\n",
              "      <th>3521</th>\n",
              "      <td>2016-05-09</td>\n",
              "      <td>중국</td>\n",
              "      <td>중국</td>\n",
              "      <td>판매용</td>\n",
              "      <td>오징어</td>\n",
              "      <td>냉동</td>\n",
              "      <td>1.420320</td>\n",
              "      <td>2016</td>\n",
              "    </tr>\n",
              "    <tr>\n",
              "      <th>5051</th>\n",
              "      <td>2016-07-04</td>\n",
              "      <td>중국</td>\n",
              "      <td>중국</td>\n",
              "      <td>판매용</td>\n",
              "      <td>오징어</td>\n",
              "      <td>냉동</td>\n",
              "      <td>1.060000</td>\n",
              "      <td>2016</td>\n",
              "    </tr>\n",
              "    <tr>\n",
              "      <th>8820</th>\n",
              "      <td>2016-11-21</td>\n",
              "      <td>중국</td>\n",
              "      <td>중국</td>\n",
              "      <td>판매용</td>\n",
              "      <td>오징어</td>\n",
              "      <td>냉동</td>\n",
              "      <td>2.750000</td>\n",
              "      <td>2016</td>\n",
              "    </tr>\n",
              "    <tr>\n",
              "      <th>9170</th>\n",
              "      <td>2016-11-28</td>\n",
              "      <td>중국</td>\n",
              "      <td>중국</td>\n",
              "      <td>판매용</td>\n",
              "      <td>오징어</td>\n",
              "      <td>냉동</td>\n",
              "      <td>2.738958</td>\n",
              "      <td>2016</td>\n",
              "    </tr>\n",
              "    <tr>\n",
              "      <th>...</th>\n",
              "      <td>...</td>\n",
              "      <td>...</td>\n",
              "      <td>...</td>\n",
              "      <td>...</td>\n",
              "      <td>...</td>\n",
              "      <td>...</td>\n",
              "      <td>...</td>\n",
              "      <td>...</td>\n",
              "    </tr>\n",
              "    <tr>\n",
              "      <th>50783</th>\n",
              "      <td>2020-12-07</td>\n",
              "      <td>중국</td>\n",
              "      <td>중국</td>\n",
              "      <td>판매용</td>\n",
              "      <td>오징어</td>\n",
              "      <td>냉동</td>\n",
              "      <td>3.185604</td>\n",
              "      <td>2020</td>\n",
              "    </tr>\n",
              "    <tr>\n",
              "      <th>50969</th>\n",
              "      <td>2020-12-14</td>\n",
              "      <td>중국</td>\n",
              "      <td>중국</td>\n",
              "      <td>판매용</td>\n",
              "      <td>오징어</td>\n",
              "      <td>냉동</td>\n",
              "      <td>3.152568</td>\n",
              "      <td>2020</td>\n",
              "    </tr>\n",
              "    <tr>\n",
              "      <th>51033</th>\n",
              "      <td>2020-12-21</td>\n",
              "      <td>중국</td>\n",
              "      <td>중국</td>\n",
              "      <td>자사제품제조용</td>\n",
              "      <td>오징어</td>\n",
              "      <td>냉동</td>\n",
              "      <td>3.677745</td>\n",
              "      <td>2020</td>\n",
              "    </tr>\n",
              "    <tr>\n",
              "      <th>51141</th>\n",
              "      <td>2020-12-21</td>\n",
              "      <td>중국</td>\n",
              "      <td>중국</td>\n",
              "      <td>판매용</td>\n",
              "      <td>오징어</td>\n",
              "      <td>냉동</td>\n",
              "      <td>3.444083</td>\n",
              "      <td>2020</td>\n",
              "    </tr>\n",
              "    <tr>\n",
              "      <th>51329</th>\n",
              "      <td>2020-12-28</td>\n",
              "      <td>중국</td>\n",
              "      <td>중국</td>\n",
              "      <td>판매용</td>\n",
              "      <td>오징어</td>\n",
              "      <td>냉동</td>\n",
              "      <td>3.150000</td>\n",
              "      <td>2020</td>\n",
              "    </tr>\n",
              "  </tbody>\n",
              "</table>\n",
              "<p>224 rows × 8 columns</p>\n",
              "</div>"
            ],
            "text/plain": [
              "            date ctry1 ctry2   purpose cat2 import_type     price  year\n",
              "1758  2016-03-07    중국    중국  외화획득용 원료  오징어          냉동  1.066601  2016\n",
              "3521  2016-05-09    중국    중국       판매용  오징어          냉동  1.420320  2016\n",
              "5051  2016-07-04    중국    중국       판매용  오징어          냉동  1.060000  2016\n",
              "8820  2016-11-21    중국    중국       판매용  오징어          냉동  2.750000  2016\n",
              "9170  2016-11-28    중국    중국       판매용  오징어          냉동  2.738958  2016\n",
              "...          ...   ...   ...       ...  ...         ...       ...   ...\n",
              "50783 2020-12-07    중국    중국       판매용  오징어          냉동  3.185604  2020\n",
              "50969 2020-12-14    중국    중국       판매용  오징어          냉동  3.152568  2020\n",
              "51033 2020-12-21    중국    중국   자사제품제조용  오징어          냉동  3.677745  2020\n",
              "51141 2020-12-21    중국    중국       판매용  오징어          냉동  3.444083  2020\n",
              "51329 2020-12-28    중국    중국       판매용  오징어          냉동  3.150000  2020\n",
              "\n",
              "[224 rows x 8 columns]"
            ]
          },
          "metadata": {},
          "execution_count": 31
        }
      ]
    },
    {
      "cell_type": "code",
      "metadata": {
        "colab": {
          "base_uri": "https://localhost:8080/",
          "height": 419
        },
        "id": "NDabHUs5Lefb",
        "outputId": "f02018ab-bc4b-486c-913f-e5eec2d2f4e9"
      },
      "source": [
        "df_c_c[df_c_c.import_type == '냉동,동체']"
      ],
      "execution_count": null,
      "outputs": [
        {
          "output_type": "execute_result",
          "data": {
            "text/html": [
              "<div>\n",
              "<style scoped>\n",
              "    .dataframe tbody tr th:only-of-type {\n",
              "        vertical-align: middle;\n",
              "    }\n",
              "\n",
              "    .dataframe tbody tr th {\n",
              "        vertical-align: top;\n",
              "    }\n",
              "\n",
              "    .dataframe thead th {\n",
              "        text-align: right;\n",
              "    }\n",
              "</style>\n",
              "<table border=\"1\" class=\"dataframe\">\n",
              "  <thead>\n",
              "    <tr style=\"text-align: right;\">\n",
              "      <th></th>\n",
              "      <th>date</th>\n",
              "      <th>ctry1</th>\n",
              "      <th>ctry2</th>\n",
              "      <th>purpose</th>\n",
              "      <th>cat2</th>\n",
              "      <th>import_type</th>\n",
              "      <th>price</th>\n",
              "      <th>year</th>\n",
              "    </tr>\n",
              "  </thead>\n",
              "  <tbody>\n",
              "    <tr>\n",
              "      <th>294</th>\n",
              "      <td>2016-01-11</td>\n",
              "      <td>중국</td>\n",
              "      <td>중국</td>\n",
              "      <td>판매용</td>\n",
              "      <td>오징어</td>\n",
              "      <td>냉동,동체</td>\n",
              "      <td>1.149827</td>\n",
              "      <td>2016</td>\n",
              "    </tr>\n",
              "    <tr>\n",
              "      <th>497</th>\n",
              "      <td>2016-01-18</td>\n",
              "      <td>중국</td>\n",
              "      <td>중국</td>\n",
              "      <td>판매용</td>\n",
              "      <td>오징어</td>\n",
              "      <td>냉동,동체</td>\n",
              "      <td>0.762367</td>\n",
              "      <td>2016</td>\n",
              "    </tr>\n",
              "    <tr>\n",
              "      <th>940</th>\n",
              "      <td>2016-02-01</td>\n",
              "      <td>중국</td>\n",
              "      <td>중국</td>\n",
              "      <td>판매용</td>\n",
              "      <td>오징어</td>\n",
              "      <td>냉동,동체</td>\n",
              "      <td>2.481041</td>\n",
              "      <td>2016</td>\n",
              "    </tr>\n",
              "    <tr>\n",
              "      <th>1166</th>\n",
              "      <td>2016-02-15</td>\n",
              "      <td>중국</td>\n",
              "      <td>중국</td>\n",
              "      <td>판매용</td>\n",
              "      <td>오징어</td>\n",
              "      <td>냉동,동체</td>\n",
              "      <td>2.968206</td>\n",
              "      <td>2016</td>\n",
              "    </tr>\n",
              "    <tr>\n",
              "      <th>1884</th>\n",
              "      <td>2016-03-14</td>\n",
              "      <td>중국</td>\n",
              "      <td>중국</td>\n",
              "      <td>판매용</td>\n",
              "      <td>오징어</td>\n",
              "      <td>냉동,동체</td>\n",
              "      <td>0.665000</td>\n",
              "      <td>2016</td>\n",
              "    </tr>\n",
              "    <tr>\n",
              "      <th>...</th>\n",
              "      <td>...</td>\n",
              "      <td>...</td>\n",
              "      <td>...</td>\n",
              "      <td>...</td>\n",
              "      <td>...</td>\n",
              "      <td>...</td>\n",
              "      <td>...</td>\n",
              "      <td>...</td>\n",
              "    </tr>\n",
              "    <tr>\n",
              "      <th>50581</th>\n",
              "      <td>2020-11-30</td>\n",
              "      <td>중국</td>\n",
              "      <td>중국</td>\n",
              "      <td>판매용</td>\n",
              "      <td>오징어</td>\n",
              "      <td>냉동,동체</td>\n",
              "      <td>1.571642</td>\n",
              "      <td>2020</td>\n",
              "    </tr>\n",
              "    <tr>\n",
              "      <th>50723</th>\n",
              "      <td>2020-12-07</td>\n",
              "      <td>중국</td>\n",
              "      <td>중국</td>\n",
              "      <td>판매용</td>\n",
              "      <td>오징어</td>\n",
              "      <td>냉동,동체</td>\n",
              "      <td>2.614293</td>\n",
              "      <td>2020</td>\n",
              "    </tr>\n",
              "    <tr>\n",
              "      <th>50945</th>\n",
              "      <td>2020-12-14</td>\n",
              "      <td>중국</td>\n",
              "      <td>중국</td>\n",
              "      <td>판매용</td>\n",
              "      <td>오징어</td>\n",
              "      <td>냉동,동체</td>\n",
              "      <td>1.539023</td>\n",
              "      <td>2020</td>\n",
              "    </tr>\n",
              "    <tr>\n",
              "      <th>51099</th>\n",
              "      <td>2020-12-21</td>\n",
              "      <td>중국</td>\n",
              "      <td>중국</td>\n",
              "      <td>판매용</td>\n",
              "      <td>오징어</td>\n",
              "      <td>냉동,동체</td>\n",
              "      <td>1.763122</td>\n",
              "      <td>2020</td>\n",
              "    </tr>\n",
              "    <tr>\n",
              "      <th>51294</th>\n",
              "      <td>2020-12-28</td>\n",
              "      <td>중국</td>\n",
              "      <td>중국</td>\n",
              "      <td>판매용</td>\n",
              "      <td>오징어</td>\n",
              "      <td>냉동,동체</td>\n",
              "      <td>2.090000</td>\n",
              "      <td>2020</td>\n",
              "    </tr>\n",
              "  </tbody>\n",
              "</table>\n",
              "<p>221 rows × 8 columns</p>\n",
              "</div>"
            ],
            "text/plain": [
              "            date ctry1 ctry2 purpose cat2 import_type     price  year\n",
              "294   2016-01-11    중국    중국     판매용  오징어       냉동,동체  1.149827  2016\n",
              "497   2016-01-18    중국    중국     판매용  오징어       냉동,동체  0.762367  2016\n",
              "940   2016-02-01    중국    중국     판매용  오징어       냉동,동체  2.481041  2016\n",
              "1166  2016-02-15    중국    중국     판매용  오징어       냉동,동체  2.968206  2016\n",
              "1884  2016-03-14    중국    중국     판매용  오징어       냉동,동체  0.665000  2016\n",
              "...          ...   ...   ...     ...  ...         ...       ...   ...\n",
              "50581 2020-11-30    중국    중국     판매용  오징어       냉동,동체  1.571642  2020\n",
              "50723 2020-12-07    중국    중국     판매용  오징어       냉동,동체  2.614293  2020\n",
              "50945 2020-12-14    중국    중국     판매용  오징어       냉동,동체  1.539023  2020\n",
              "51099 2020-12-21    중국    중국     판매용  오징어       냉동,동체  1.763122  2020\n",
              "51294 2020-12-28    중국    중국     판매용  오징어       냉동,동체  2.090000  2020\n",
              "\n",
              "[221 rows x 8 columns]"
            ]
          },
          "metadata": {},
          "execution_count": 32
        }
      ]
    },
    {
      "cell_type": "code",
      "metadata": {
        "id": "h-daJWVmLk1t"
      },
      "source": [
        "df_c_c_1 = df_c_c[df_c_c.import_type == '냉동,동체']\n",
        "df_c_c_2 = df_c_c[df_c_c.import_type == '냉동']"
      ],
      "execution_count": null,
      "outputs": []
    },
    {
      "cell_type": "code",
      "metadata": {
        "id": "xsIZJjmmLnuy"
      },
      "source": [
        "df_c_c_1 = df_c_c_1[df_c_c_1.purpose == '판매용']"
      ],
      "execution_count": null,
      "outputs": []
    },
    {
      "cell_type": "code",
      "metadata": {
        "id": "bO9YzUG9Ly5b"
      },
      "source": [
        "df_c_c_2 = df_c_c_2[df_c_c_2.purpose == '판매용']"
      ],
      "execution_count": null,
      "outputs": []
    },
    {
      "cell_type": "code",
      "metadata": {
        "colab": {
          "base_uri": "https://localhost:8080/",
          "height": 235
        },
        "id": "1441p65eL6jJ",
        "outputId": "bbf8654e-ba6a-4f67-95d5-73ccaea7e30e"
      },
      "source": [
        "df_c_c_2.groupby(by = df_c_c_2.year).count()"
      ],
      "execution_count": null,
      "outputs": [
        {
          "output_type": "execute_result",
          "data": {
            "text/html": [
              "<div>\n",
              "<style scoped>\n",
              "    .dataframe tbody tr th:only-of-type {\n",
              "        vertical-align: middle;\n",
              "    }\n",
              "\n",
              "    .dataframe tbody tr th {\n",
              "        vertical-align: top;\n",
              "    }\n",
              "\n",
              "    .dataframe thead th {\n",
              "        text-align: right;\n",
              "    }\n",
              "</style>\n",
              "<table border=\"1\" class=\"dataframe\">\n",
              "  <thead>\n",
              "    <tr style=\"text-align: right;\">\n",
              "      <th></th>\n",
              "      <th>date</th>\n",
              "      <th>ctry1</th>\n",
              "      <th>ctry2</th>\n",
              "      <th>purpose</th>\n",
              "      <th>cat2</th>\n",
              "      <th>import_type</th>\n",
              "      <th>price</th>\n",
              "    </tr>\n",
              "    <tr>\n",
              "      <th>year</th>\n",
              "      <th></th>\n",
              "      <th></th>\n",
              "      <th></th>\n",
              "      <th></th>\n",
              "      <th></th>\n",
              "      <th></th>\n",
              "      <th></th>\n",
              "    </tr>\n",
              "  </thead>\n",
              "  <tbody>\n",
              "    <tr>\n",
              "      <th>2016</th>\n",
              "      <td>7</td>\n",
              "      <td>7</td>\n",
              "      <td>7</td>\n",
              "      <td>7</td>\n",
              "      <td>7</td>\n",
              "      <td>7</td>\n",
              "      <td>7</td>\n",
              "    </tr>\n",
              "    <tr>\n",
              "      <th>2017</th>\n",
              "      <td>40</td>\n",
              "      <td>40</td>\n",
              "      <td>40</td>\n",
              "      <td>40</td>\n",
              "      <td>40</td>\n",
              "      <td>40</td>\n",
              "      <td>40</td>\n",
              "    </tr>\n",
              "    <tr>\n",
              "      <th>2018</th>\n",
              "      <td>52</td>\n",
              "      <td>52</td>\n",
              "      <td>52</td>\n",
              "      <td>52</td>\n",
              "      <td>52</td>\n",
              "      <td>52</td>\n",
              "      <td>52</td>\n",
              "    </tr>\n",
              "    <tr>\n",
              "      <th>2019</th>\n",
              "      <td>52</td>\n",
              "      <td>52</td>\n",
              "      <td>52</td>\n",
              "      <td>52</td>\n",
              "      <td>52</td>\n",
              "      <td>52</td>\n",
              "      <td>52</td>\n",
              "    </tr>\n",
              "    <tr>\n",
              "      <th>2020</th>\n",
              "      <td>51</td>\n",
              "      <td>51</td>\n",
              "      <td>51</td>\n",
              "      <td>51</td>\n",
              "      <td>51</td>\n",
              "      <td>51</td>\n",
              "      <td>51</td>\n",
              "    </tr>\n",
              "  </tbody>\n",
              "</table>\n",
              "</div>"
            ],
            "text/plain": [
              "      date  ctry1  ctry2  purpose  cat2  import_type  price\n",
              "year                                                       \n",
              "2016     7      7      7        7     7            7      7\n",
              "2017    40     40     40       40    40           40     40\n",
              "2018    52     52     52       52    52           52     52\n",
              "2019    52     52     52       52    52           52     52\n",
              "2020    51     51     51       51    51           51     51"
            ]
          },
          "metadata": {},
          "execution_count": 101
        }
      ]
    },
    {
      "cell_type": "code",
      "metadata": {
        "colab": {
          "base_uri": "https://localhost:8080/",
          "height": 235
        },
        "id": "JUXryX5PMUBk",
        "outputId": "830df61e-a10e-4f0c-a1fe-059fa6107e49"
      },
      "source": [
        "df_c_c_1.groupby(by = df_c_c_1.year).count()"
      ],
      "execution_count": null,
      "outputs": [
        {
          "output_type": "execute_result",
          "data": {
            "text/html": [
              "<div>\n",
              "<style scoped>\n",
              "    .dataframe tbody tr th:only-of-type {\n",
              "        vertical-align: middle;\n",
              "    }\n",
              "\n",
              "    .dataframe tbody tr th {\n",
              "        vertical-align: top;\n",
              "    }\n",
              "\n",
              "    .dataframe thead th {\n",
              "        text-align: right;\n",
              "    }\n",
              "</style>\n",
              "<table border=\"1\" class=\"dataframe\">\n",
              "  <thead>\n",
              "    <tr style=\"text-align: right;\">\n",
              "      <th></th>\n",
              "      <th>date</th>\n",
              "      <th>ctry1</th>\n",
              "      <th>ctry2</th>\n",
              "      <th>purpose</th>\n",
              "      <th>cat2</th>\n",
              "      <th>import_type</th>\n",
              "      <th>price</th>\n",
              "    </tr>\n",
              "    <tr>\n",
              "      <th>year</th>\n",
              "      <th></th>\n",
              "      <th></th>\n",
              "      <th></th>\n",
              "      <th></th>\n",
              "      <th></th>\n",
              "      <th></th>\n",
              "      <th></th>\n",
              "    </tr>\n",
              "  </thead>\n",
              "  <tbody>\n",
              "    <tr>\n",
              "      <th>2016</th>\n",
              "      <td>30</td>\n",
              "      <td>30</td>\n",
              "      <td>30</td>\n",
              "      <td>30</td>\n",
              "      <td>30</td>\n",
              "      <td>30</td>\n",
              "      <td>30</td>\n",
              "    </tr>\n",
              "    <tr>\n",
              "      <th>2017</th>\n",
              "      <td>33</td>\n",
              "      <td>33</td>\n",
              "      <td>33</td>\n",
              "      <td>33</td>\n",
              "      <td>33</td>\n",
              "      <td>33</td>\n",
              "      <td>33</td>\n",
              "    </tr>\n",
              "    <tr>\n",
              "      <th>2018</th>\n",
              "      <td>44</td>\n",
              "      <td>44</td>\n",
              "      <td>44</td>\n",
              "      <td>44</td>\n",
              "      <td>44</td>\n",
              "      <td>44</td>\n",
              "      <td>44</td>\n",
              "    </tr>\n",
              "    <tr>\n",
              "      <th>2019</th>\n",
              "      <td>49</td>\n",
              "      <td>49</td>\n",
              "      <td>49</td>\n",
              "      <td>49</td>\n",
              "      <td>49</td>\n",
              "      <td>49</td>\n",
              "      <td>49</td>\n",
              "    </tr>\n",
              "    <tr>\n",
              "      <th>2020</th>\n",
              "      <td>47</td>\n",
              "      <td>47</td>\n",
              "      <td>47</td>\n",
              "      <td>47</td>\n",
              "      <td>47</td>\n",
              "      <td>47</td>\n",
              "      <td>47</td>\n",
              "    </tr>\n",
              "  </tbody>\n",
              "</table>\n",
              "</div>"
            ],
            "text/plain": [
              "      date  ctry1  ctry2  purpose  cat2  import_type  price\n",
              "year                                                       \n",
              "2016    30     30     30       30    30           30     30\n",
              "2017    33     33     33       33    33           33     33\n",
              "2018    44     44     44       44    44           44     44\n",
              "2019    49     49     49       49    49           49     49\n",
              "2020    47     47     47       47    47           47     47"
            ]
          },
          "metadata": {},
          "execution_count": 102
        }
      ]
    },
    {
      "cell_type": "code",
      "metadata": {
        "id": "JdJiB23FzWuc"
      },
      "source": [
        "df_c_c_1 = cleaning(df_c_c_1)\n",
        "df_c_c_2 = cleaning(df_c_c_2)"
      ],
      "execution_count": null,
      "outputs": []
    },
    {
      "cell_type": "code",
      "metadata": {
        "id": "YaNCvDDlMc_2"
      },
      "source": [
        "df_c_c_1.to_csv('./working directory/오징어_중국_냉동동체.csv')\n",
        "df_c_c_2.to_csv('./working directory/오징어_중국_냉동.csv')"
      ],
      "execution_count": null,
      "outputs": []
    },
    {
      "cell_type": "markdown",
      "metadata": {
        "id": "zikvFeS_MnRg"
      },
      "source": [
        "### 4-2-3. 칠레"
      ]
    },
    {
      "cell_type": "code",
      "metadata": {
        "id": "tu5abuhUMpAm"
      },
      "source": [
        "df_c_v = df_cala[df_cala.ctry1 == '베트남']"
      ],
      "execution_count": null,
      "outputs": []
    },
    {
      "cell_type": "code",
      "metadata": {
        "colab": {
          "base_uri": "https://localhost:8080/",
          "height": 328
        },
        "id": "1aw2ZD8qMsKc",
        "outputId": "9019ad47-271d-47d4-8c4d-36b2cd67a5ff"
      },
      "source": [
        "df_c_v.groupby(by = df_c_v.import_type).count()"
      ],
      "execution_count": null,
      "outputs": [
        {
          "output_type": "execute_result",
          "data": {
            "text/html": [
              "<div>\n",
              "<style scoped>\n",
              "    .dataframe tbody tr th:only-of-type {\n",
              "        vertical-align: middle;\n",
              "    }\n",
              "\n",
              "    .dataframe tbody tr th {\n",
              "        vertical-align: top;\n",
              "    }\n",
              "\n",
              "    .dataframe thead th {\n",
              "        text-align: right;\n",
              "    }\n",
              "</style>\n",
              "<table border=\"1\" class=\"dataframe\">\n",
              "  <thead>\n",
              "    <tr style=\"text-align: right;\">\n",
              "      <th></th>\n",
              "      <th>date</th>\n",
              "      <th>ctry1</th>\n",
              "      <th>ctry2</th>\n",
              "      <th>purpose</th>\n",
              "      <th>cat2</th>\n",
              "      <th>price</th>\n",
              "      <th>year</th>\n",
              "    </tr>\n",
              "    <tr>\n",
              "      <th>import_type</th>\n",
              "      <th></th>\n",
              "      <th></th>\n",
              "      <th></th>\n",
              "      <th></th>\n",
              "      <th></th>\n",
              "      <th></th>\n",
              "      <th></th>\n",
              "    </tr>\n",
              "  </thead>\n",
              "  <tbody>\n",
              "    <tr>\n",
              "      <th>건조</th>\n",
              "      <td>180</td>\n",
              "      <td>180</td>\n",
              "      <td>180</td>\n",
              "      <td>180</td>\n",
              "      <td>180</td>\n",
              "      <td>180</td>\n",
              "      <td>180</td>\n",
              "    </tr>\n",
              "    <tr>\n",
              "      <th>냉동</th>\n",
              "      <td>30</td>\n",
              "      <td>30</td>\n",
              "      <td>30</td>\n",
              "      <td>30</td>\n",
              "      <td>30</td>\n",
              "      <td>30</td>\n",
              "      <td>30</td>\n",
              "    </tr>\n",
              "    <tr>\n",
              "      <th>냉동,다리</th>\n",
              "      <td>1</td>\n",
              "      <td>1</td>\n",
              "      <td>1</td>\n",
              "      <td>1</td>\n",
              "      <td>1</td>\n",
              "      <td>1</td>\n",
              "      <td>1</td>\n",
              "    </tr>\n",
              "    <tr>\n",
              "      <th>냉동,다리,포장횟감</th>\n",
              "      <td>80</td>\n",
              "      <td>80</td>\n",
              "      <td>80</td>\n",
              "      <td>80</td>\n",
              "      <td>80</td>\n",
              "      <td>80</td>\n",
              "      <td>80</td>\n",
              "    </tr>\n",
              "    <tr>\n",
              "      <th>냉동,동체</th>\n",
              "      <td>8</td>\n",
              "      <td>8</td>\n",
              "      <td>8</td>\n",
              "      <td>8</td>\n",
              "      <td>8</td>\n",
              "      <td>8</td>\n",
              "      <td>8</td>\n",
              "    </tr>\n",
              "    <tr>\n",
              "      <th>냉동,동체,자숙,포장횟감</th>\n",
              "      <td>16</td>\n",
              "      <td>16</td>\n",
              "      <td>16</td>\n",
              "      <td>16</td>\n",
              "      <td>16</td>\n",
              "      <td>16</td>\n",
              "      <td>16</td>\n",
              "    </tr>\n",
              "    <tr>\n",
              "      <th>냉동,동체,포장횟감</th>\n",
              "      <td>10</td>\n",
              "      <td>10</td>\n",
              "      <td>10</td>\n",
              "      <td>10</td>\n",
              "      <td>10</td>\n",
              "      <td>10</td>\n",
              "      <td>10</td>\n",
              "    </tr>\n",
              "    <tr>\n",
              "      <th>냉동,슬라이스(S),포장횟감</th>\n",
              "      <td>163</td>\n",
              "      <td>163</td>\n",
              "      <td>163</td>\n",
              "      <td>163</td>\n",
              "      <td>163</td>\n",
              "      <td>163</td>\n",
              "      <td>163</td>\n",
              "    </tr>\n",
              "  </tbody>\n",
              "</table>\n",
              "</div>"
            ],
            "text/plain": [
              "                 date  ctry1  ctry2  purpose  cat2  price  year\n",
              "import_type                                                    \n",
              "건조                180    180    180      180   180    180   180\n",
              "냉동                 30     30     30       30    30     30    30\n",
              "냉동,다리               1      1      1        1     1      1     1\n",
              "냉동,다리,포장횟감         80     80     80       80    80     80    80\n",
              "냉동,동체               8      8      8        8     8      8     8\n",
              "냉동,동체,자숙,포장횟감      16     16     16       16    16     16    16\n",
              "냉동,동체,포장횟감         10     10     10       10    10     10    10\n",
              "냉동,슬라이스(S),포장횟감   163    163    163      163   163    163   163"
            ]
          },
          "metadata": {},
          "execution_count": 106
        }
      ]
    },
    {
      "cell_type": "code",
      "metadata": {
        "id": "aOWDUbfeM6_A"
      },
      "source": [
        "df_c_chile = df_cala[df_cala.ctry1 == '칠레']"
      ],
      "execution_count": null,
      "outputs": []
    },
    {
      "cell_type": "code",
      "metadata": {
        "colab": {
          "base_uri": "https://localhost:8080/",
          "height": 297
        },
        "id": "w15ajJ3EM-wf",
        "outputId": "1e8d2577-eac3-4ede-bf09-5ee3f45ba64c"
      },
      "source": [
        "df_c_chile.groupby(by = df_c_chile.import_type).count()"
      ],
      "execution_count": null,
      "outputs": [
        {
          "output_type": "execute_result",
          "data": {
            "text/html": [
              "<div>\n",
              "<style scoped>\n",
              "    .dataframe tbody tr th:only-of-type {\n",
              "        vertical-align: middle;\n",
              "    }\n",
              "\n",
              "    .dataframe tbody tr th {\n",
              "        vertical-align: top;\n",
              "    }\n",
              "\n",
              "    .dataframe thead th {\n",
              "        text-align: right;\n",
              "    }\n",
              "</style>\n",
              "<table border=\"1\" class=\"dataframe\">\n",
              "  <thead>\n",
              "    <tr style=\"text-align: right;\">\n",
              "      <th></th>\n",
              "      <th>date</th>\n",
              "      <th>ctry1</th>\n",
              "      <th>ctry2</th>\n",
              "      <th>purpose</th>\n",
              "      <th>cat2</th>\n",
              "      <th>price</th>\n",
              "      <th>year</th>\n",
              "    </tr>\n",
              "    <tr>\n",
              "      <th>import_type</th>\n",
              "      <th></th>\n",
              "      <th></th>\n",
              "      <th></th>\n",
              "      <th></th>\n",
              "      <th></th>\n",
              "      <th></th>\n",
              "      <th></th>\n",
              "    </tr>\n",
              "  </thead>\n",
              "  <tbody>\n",
              "    <tr>\n",
              "      <th>냉동</th>\n",
              "      <td>11</td>\n",
              "      <td>11</td>\n",
              "      <td>11</td>\n",
              "      <td>11</td>\n",
              "      <td>11</td>\n",
              "      <td>11</td>\n",
              "      <td>11</td>\n",
              "    </tr>\n",
              "    <tr>\n",
              "      <th>냉동,난포선</th>\n",
              "      <td>3</td>\n",
              "      <td>3</td>\n",
              "      <td>3</td>\n",
              "      <td>3</td>\n",
              "      <td>3</td>\n",
              "      <td>3</td>\n",
              "      <td>3</td>\n",
              "    </tr>\n",
              "    <tr>\n",
              "      <th>냉동,다리</th>\n",
              "      <td>194</td>\n",
              "      <td>194</td>\n",
              "      <td>194</td>\n",
              "      <td>194</td>\n",
              "      <td>194</td>\n",
              "      <td>194</td>\n",
              "      <td>194</td>\n",
              "    </tr>\n",
              "    <tr>\n",
              "      <th>냉동,다리,자숙</th>\n",
              "      <td>1</td>\n",
              "      <td>1</td>\n",
              "      <td>1</td>\n",
              "      <td>1</td>\n",
              "      <td>1</td>\n",
              "      <td>1</td>\n",
              "      <td>1</td>\n",
              "    </tr>\n",
              "    <tr>\n",
              "      <th>냉동,동체</th>\n",
              "      <td>216</td>\n",
              "      <td>216</td>\n",
              "      <td>216</td>\n",
              "      <td>216</td>\n",
              "      <td>216</td>\n",
              "      <td>216</td>\n",
              "      <td>216</td>\n",
              "    </tr>\n",
              "    <tr>\n",
              "      <th>냉동,동체,자숙</th>\n",
              "      <td>8</td>\n",
              "      <td>8</td>\n",
              "      <td>8</td>\n",
              "      <td>8</td>\n",
              "      <td>8</td>\n",
              "      <td>8</td>\n",
              "      <td>8</td>\n",
              "    </tr>\n",
              "    <tr>\n",
              "      <th>냉동,지느러미</th>\n",
              "      <td>219</td>\n",
              "      <td>219</td>\n",
              "      <td>219</td>\n",
              "      <td>219</td>\n",
              "      <td>219</td>\n",
              "      <td>219</td>\n",
              "      <td>219</td>\n",
              "    </tr>\n",
              "  </tbody>\n",
              "</table>\n",
              "</div>"
            ],
            "text/plain": [
              "             date  ctry1  ctry2  purpose  cat2  price  year\n",
              "import_type                                                \n",
              "냉동             11     11     11       11    11     11    11\n",
              "냉동,난포선          3      3      3        3     3      3     3\n",
              "냉동,다리         194    194    194      194   194    194   194\n",
              "냉동,다리,자숙        1      1      1        1     1      1     1\n",
              "냉동,동체         216    216    216      216   216    216   216\n",
              "냉동,동체,자숙        8      8      8        8     8      8     8\n",
              "냉동,지느러미       219    219    219      219   219    219   219"
            ]
          },
          "metadata": {},
          "execution_count": 108
        }
      ]
    },
    {
      "cell_type": "code",
      "metadata": {
        "id": "egLXzIDxNWKz"
      },
      "source": [
        "df_chile1 = df_c_chile[df_c_chile.import_type == '냉동,동체']\n",
        "df_chile2 = df_c_chile[df_c_chile.import_type == '냉동,다리']\n",
        "df_chile3 = df_c_chile[df_c_chile.import_type == '냉동,지느러미']\n"
      ],
      "execution_count": null,
      "outputs": []
    },
    {
      "cell_type": "code",
      "metadata": {
        "id": "dxbWGoQINnH6"
      },
      "source": [
        "df_chile1 = df_chile1[df_chile1.purpose == '판매용']"
      ],
      "execution_count": null,
      "outputs": []
    },
    {
      "cell_type": "code",
      "metadata": {
        "id": "fph9drSNN8Rd"
      },
      "source": [
        "df_chile2 = df_chile2[df_chile2.purpose == '판매용']"
      ],
      "execution_count": null,
      "outputs": []
    },
    {
      "cell_type": "code",
      "metadata": {
        "id": "XHzTkCc9OB8F"
      },
      "source": [
        "df_chile3 = df_chile3[df_chile3.purpose == '판매용']"
      ],
      "execution_count": null,
      "outputs": []
    },
    {
      "cell_type": "code",
      "metadata": {
        "id": "4z45NmZQzv-u"
      },
      "source": [
        "df_chile1 = cleaning(df_chile1)\n",
        "df_chile2 = cleaning(df_chile2)\n",
        "df_chile3 = cleaning(df_chile3)"
      ],
      "execution_count": null,
      "outputs": []
    },
    {
      "cell_type": "code",
      "metadata": {
        "colab": {
          "base_uri": "https://localhost:8080/",
          "height": 450
        },
        "id": "VGprf9Z5z2_F",
        "outputId": "69fcd3f1-eca3-4fba-c8b0-531c97b4372c"
      },
      "source": [
        "df_chile1 "
      ],
      "execution_count": null,
      "outputs": [
        {
          "output_type": "execute_result",
          "data": {
            "text/html": [
              "<div>\n",
              "<style scoped>\n",
              "    .dataframe tbody tr th:only-of-type {\n",
              "        vertical-align: middle;\n",
              "    }\n",
              "\n",
              "    .dataframe tbody tr th {\n",
              "        vertical-align: top;\n",
              "    }\n",
              "\n",
              "    .dataframe thead th {\n",
              "        text-align: right;\n",
              "    }\n",
              "</style>\n",
              "<table border=\"1\" class=\"dataframe\">\n",
              "  <thead>\n",
              "    <tr style=\"text-align: right;\">\n",
              "      <th></th>\n",
              "      <th>price</th>\n",
              "    </tr>\n",
              "    <tr>\n",
              "      <th>date</th>\n",
              "      <th></th>\n",
              "    </tr>\n",
              "  </thead>\n",
              "  <tbody>\n",
              "    <tr>\n",
              "      <th>2016-01-04</th>\n",
              "      <td>1.024569</td>\n",
              "    </tr>\n",
              "    <tr>\n",
              "      <th>2016-01-11</th>\n",
              "      <td>0.943622</td>\n",
              "    </tr>\n",
              "    <tr>\n",
              "      <th>2016-01-18</th>\n",
              "      <td>0.962642</td>\n",
              "    </tr>\n",
              "    <tr>\n",
              "      <th>2016-01-25</th>\n",
              "      <td>0.938800</td>\n",
              "    </tr>\n",
              "    <tr>\n",
              "      <th>2016-02-01</th>\n",
              "      <td>1.011010</td>\n",
              "    </tr>\n",
              "    <tr>\n",
              "      <th>...</th>\n",
              "      <td>...</td>\n",
              "    </tr>\n",
              "    <tr>\n",
              "      <th>2020-10-12</th>\n",
              "      <td>2.153563</td>\n",
              "    </tr>\n",
              "    <tr>\n",
              "      <th>2020-10-19</th>\n",
              "      <td>1.961280</td>\n",
              "    </tr>\n",
              "    <tr>\n",
              "      <th>2020-11-02</th>\n",
              "      <td>2.272553</td>\n",
              "    </tr>\n",
              "    <tr>\n",
              "      <th>2020-11-09</th>\n",
              "      <td>1.906250</td>\n",
              "    </tr>\n",
              "    <tr>\n",
              "      <th>2020-11-16</th>\n",
              "      <td>2.000000</td>\n",
              "    </tr>\n",
              "  </tbody>\n",
              "</table>\n",
              "<p>211 rows × 1 columns</p>\n",
              "</div>"
            ],
            "text/plain": [
              "               price\n",
              "date                \n",
              "2016-01-04  1.024569\n",
              "2016-01-11  0.943622\n",
              "2016-01-18  0.962642\n",
              "2016-01-25  0.938800\n",
              "2016-02-01  1.011010\n",
              "...              ...\n",
              "2020-10-12  2.153563\n",
              "2020-10-19  1.961280\n",
              "2020-11-02  2.272553\n",
              "2020-11-09  1.906250\n",
              "2020-11-16  2.000000\n",
              "\n",
              "[211 rows x 1 columns]"
            ]
          },
          "metadata": {},
          "execution_count": 45
        }
      ]
    },
    {
      "cell_type": "code",
      "metadata": {
        "id": "j8PJkfQHOJNZ"
      },
      "source": [
        "df_chile1.to_csv('./working directory/오징어_칠레_냉동동체.csv')\n",
        "df_chile2.to_csv('./working directory/오징어_칠레_냉동다리.csv')\n",
        "df_chile3.to_csv('./working directory/오징어_칠레_냉동지느러미.csv')"
      ],
      "execution_count": null,
      "outputs": []
    },
    {
      "cell_type": "markdown",
      "metadata": {
        "id": "_bbx59klOeSu"
      },
      "source": [
        "## 4-3. 새우"
      ]
    },
    {
      "cell_type": "code",
      "metadata": {
        "id": "Zd_Wd7azOfdp"
      },
      "source": [
        "df_shrimp = df[df.cat2 == '새우']"
      ],
      "execution_count": null,
      "outputs": []
    },
    {
      "cell_type": "code",
      "metadata": {
        "colab": {
          "base_uri": "https://localhost:8080/",
          "height": 589
        },
        "id": "B8oaSjCkOnlr",
        "outputId": "2156f646-8f44-4291-b866-13bf21f311e9"
      },
      "source": [
        "df_shrimp\n",
        "# 베트남, 태국, 중국"
      ],
      "execution_count": null,
      "outputs": [
        {
          "output_type": "execute_result",
          "data": {
            "text/html": [
              "<div>\n",
              "<style scoped>\n",
              "    .dataframe tbody tr th:only-of-type {\n",
              "        vertical-align: middle;\n",
              "    }\n",
              "\n",
              "    .dataframe tbody tr th {\n",
              "        vertical-align: top;\n",
              "    }\n",
              "\n",
              "    .dataframe thead th {\n",
              "        text-align: right;\n",
              "    }\n",
              "</style>\n",
              "<table border=\"1\" class=\"dataframe\">\n",
              "  <thead>\n",
              "    <tr style=\"text-align: right;\">\n",
              "      <th></th>\n",
              "      <th>date</th>\n",
              "      <th>ctry1</th>\n",
              "      <th>ctry2</th>\n",
              "      <th>purpose</th>\n",
              "      <th>cat2</th>\n",
              "      <th>import_type</th>\n",
              "      <th>price</th>\n",
              "      <th>year</th>\n",
              "    </tr>\n",
              "  </thead>\n",
              "  <tbody>\n",
              "    <tr>\n",
              "      <th>14</th>\n",
              "      <td>2016-01-04</td>\n",
              "      <td>중국</td>\n",
              "      <td>중국</td>\n",
              "      <td>판매용</td>\n",
              "      <td>새우</td>\n",
              "      <td>냉동,살,자숙</td>\n",
              "      <td>8.204321</td>\n",
              "      <td>2016</td>\n",
              "    </tr>\n",
              "    <tr>\n",
              "      <th>24</th>\n",
              "      <td>2016-01-04</td>\n",
              "      <td>인도</td>\n",
              "      <td>인도</td>\n",
              "      <td>판매용</td>\n",
              "      <td>새우</td>\n",
              "      <td>냉동</td>\n",
              "      <td>9.059677</td>\n",
              "      <td>2016</td>\n",
              "    </tr>\n",
              "    <tr>\n",
              "      <th>25</th>\n",
              "      <td>2016-01-04</td>\n",
              "      <td>인도</td>\n",
              "      <td>인도</td>\n",
              "      <td>판매용</td>\n",
              "      <td>새우</td>\n",
              "      <td>냉동</td>\n",
              "      <td>1.934255</td>\n",
              "      <td>2016</td>\n",
              "    </tr>\n",
              "    <tr>\n",
              "      <th>33</th>\n",
              "      <td>2016-01-04</td>\n",
              "      <td>말레이시아</td>\n",
              "      <td>말레이시아</td>\n",
              "      <td>판매용</td>\n",
              "      <td>새우</td>\n",
              "      <td>냉동</td>\n",
              "      <td>7.189045</td>\n",
              "      <td>2016</td>\n",
              "    </tr>\n",
              "    <tr>\n",
              "      <th>34</th>\n",
              "      <td>2016-01-04</td>\n",
              "      <td>말레이시아</td>\n",
              "      <td>말레이시아</td>\n",
              "      <td>판매용</td>\n",
              "      <td>새우</td>\n",
              "      <td>냉동</td>\n",
              "      <td>7.812270</td>\n",
              "      <td>2016</td>\n",
              "    </tr>\n",
              "    <tr>\n",
              "      <th>...</th>\n",
              "      <td>...</td>\n",
              "      <td>...</td>\n",
              "      <td>...</td>\n",
              "      <td>...</td>\n",
              "      <td>...</td>\n",
              "      <td>...</td>\n",
              "      <td>...</td>\n",
              "      <td>...</td>\n",
              "    </tr>\n",
              "    <tr>\n",
              "      <th>51276</th>\n",
              "      <td>2020-12-28</td>\n",
              "      <td>태국</td>\n",
              "      <td>태국</td>\n",
              "      <td>판매용</td>\n",
              "      <td>새우</td>\n",
              "      <td>냉동,살,자숙,포장횟감</td>\n",
              "      <td>21.040000</td>\n",
              "      <td>2020</td>\n",
              "    </tr>\n",
              "    <tr>\n",
              "      <th>51281</th>\n",
              "      <td>2020-12-28</td>\n",
              "      <td>페루</td>\n",
              "      <td>페루</td>\n",
              "      <td>판매용</td>\n",
              "      <td>새우</td>\n",
              "      <td>냉동</td>\n",
              "      <td>6.140000</td>\n",
              "      <td>2020</td>\n",
              "    </tr>\n",
              "    <tr>\n",
              "      <th>51284</th>\n",
              "      <td>2020-12-28</td>\n",
              "      <td>태국</td>\n",
              "      <td>태국</td>\n",
              "      <td>판매용</td>\n",
              "      <td>새우</td>\n",
              "      <td>냉동,살</td>\n",
              "      <td>9.620000</td>\n",
              "      <td>2020</td>\n",
              "    </tr>\n",
              "    <tr>\n",
              "      <th>51306</th>\n",
              "      <td>2020-12-28</td>\n",
              "      <td>중국</td>\n",
              "      <td>중국</td>\n",
              "      <td>판매용</td>\n",
              "      <td>새우</td>\n",
              "      <td>건조</td>\n",
              "      <td>10.180000</td>\n",
              "      <td>2020</td>\n",
              "    </tr>\n",
              "    <tr>\n",
              "      <th>51318</th>\n",
              "      <td>2020-12-28</td>\n",
              "      <td>베트남</td>\n",
              "      <td>베트남</td>\n",
              "      <td>판매용</td>\n",
              "      <td>새우</td>\n",
              "      <td>냉동,살</td>\n",
              "      <td>7.410000</td>\n",
              "      <td>2020</td>\n",
              "    </tr>\n",
              "  </tbody>\n",
              "</table>\n",
              "<p>4913 rows × 8 columns</p>\n",
              "</div>"
            ],
            "text/plain": [
              "            date  ctry1  ctry2 purpose cat2   import_type      price  year\n",
              "14    2016-01-04     중국     중국     판매용   새우       냉동,살,자숙   8.204321  2016\n",
              "24    2016-01-04     인도     인도     판매용   새우            냉동   9.059677  2016\n",
              "25    2016-01-04     인도     인도     판매용   새우            냉동   1.934255  2016\n",
              "33    2016-01-04  말레이시아  말레이시아     판매용   새우            냉동   7.189045  2016\n",
              "34    2016-01-04  말레이시아  말레이시아     판매용   새우            냉동   7.812270  2016\n",
              "...          ...    ...    ...     ...  ...           ...        ...   ...\n",
              "51276 2020-12-28     태국     태국     판매용   새우  냉동,살,자숙,포장횟감  21.040000  2020\n",
              "51281 2020-12-28     페루     페루     판매용   새우            냉동   6.140000  2020\n",
              "51284 2020-12-28     태국     태국     판매용   새우          냉동,살   9.620000  2020\n",
              "51306 2020-12-28     중국     중국     판매용   새우            건조  10.180000  2020\n",
              "51318 2020-12-28    베트남    베트남     판매용   새우          냉동,살   7.410000  2020\n",
              "\n",
              "[4913 rows x 8 columns]"
            ]
          },
          "metadata": {},
          "execution_count": 125
        }
      ]
    },
    {
      "cell_type": "markdown",
      "metadata": {
        "id": "WNj5qWTkOvAh"
      },
      "source": [
        "### 4-3-1. 새우 베트남"
      ]
    },
    {
      "cell_type": "code",
      "metadata": {
        "id": "PR5uqIprOwpr"
      },
      "source": [
        "df_shrimp_v = df_shrimp[df_shrimp.ctry1 == '베트남']"
      ],
      "execution_count": null,
      "outputs": []
    },
    {
      "cell_type": "code",
      "metadata": {
        "colab": {
          "base_uri": "https://localhost:8080/",
          "height": 297
        },
        "id": "ivBtaEzKO9wF",
        "outputId": "910c58d2-d9c1-42bc-a69f-07009b805424"
      },
      "source": [
        "df_shrimp_v.groupby(by = df_shrimp_v.import_type).count()"
      ],
      "execution_count": null,
      "outputs": [
        {
          "output_type": "execute_result",
          "data": {
            "text/html": [
              "<div>\n",
              "<style scoped>\n",
              "    .dataframe tbody tr th:only-of-type {\n",
              "        vertical-align: middle;\n",
              "    }\n",
              "\n",
              "    .dataframe tbody tr th {\n",
              "        vertical-align: top;\n",
              "    }\n",
              "\n",
              "    .dataframe thead th {\n",
              "        text-align: right;\n",
              "    }\n",
              "</style>\n",
              "<table border=\"1\" class=\"dataframe\">\n",
              "  <thead>\n",
              "    <tr style=\"text-align: right;\">\n",
              "      <th></th>\n",
              "      <th>date</th>\n",
              "      <th>ctry1</th>\n",
              "      <th>ctry2</th>\n",
              "      <th>purpose</th>\n",
              "      <th>cat2</th>\n",
              "      <th>price</th>\n",
              "      <th>year</th>\n",
              "    </tr>\n",
              "    <tr>\n",
              "      <th>import_type</th>\n",
              "      <th></th>\n",
              "      <th></th>\n",
              "      <th></th>\n",
              "      <th></th>\n",
              "      <th></th>\n",
              "      <th></th>\n",
              "      <th></th>\n",
              "    </tr>\n",
              "  </thead>\n",
              "  <tbody>\n",
              "    <tr>\n",
              "      <th>냉동</th>\n",
              "      <td>287</td>\n",
              "      <td>287</td>\n",
              "      <td>287</td>\n",
              "      <td>287</td>\n",
              "      <td>287</td>\n",
              "      <td>287</td>\n",
              "      <td>287</td>\n",
              "    </tr>\n",
              "    <tr>\n",
              "      <th>냉동,살</th>\n",
              "      <td>422</td>\n",
              "      <td>422</td>\n",
              "      <td>422</td>\n",
              "      <td>422</td>\n",
              "      <td>422</td>\n",
              "      <td>422</td>\n",
              "      <td>422</td>\n",
              "    </tr>\n",
              "    <tr>\n",
              "      <th>냉동,살,자숙</th>\n",
              "      <td>280</td>\n",
              "      <td>280</td>\n",
              "      <td>280</td>\n",
              "      <td>280</td>\n",
              "      <td>280</td>\n",
              "      <td>280</td>\n",
              "      <td>280</td>\n",
              "    </tr>\n",
              "    <tr>\n",
              "      <th>냉동,살,자숙,포장횟감</th>\n",
              "      <td>223</td>\n",
              "      <td>223</td>\n",
              "      <td>223</td>\n",
              "      <td>223</td>\n",
              "      <td>223</td>\n",
              "      <td>223</td>\n",
              "      <td>223</td>\n",
              "    </tr>\n",
              "    <tr>\n",
              "      <th>냉동,살,포장횟감</th>\n",
              "      <td>380</td>\n",
              "      <td>380</td>\n",
              "      <td>380</td>\n",
              "      <td>380</td>\n",
              "      <td>380</td>\n",
              "      <td>380</td>\n",
              "      <td>380</td>\n",
              "    </tr>\n",
              "    <tr>\n",
              "      <th>냉동,자숙</th>\n",
              "      <td>52</td>\n",
              "      <td>52</td>\n",
              "      <td>52</td>\n",
              "      <td>52</td>\n",
              "      <td>52</td>\n",
              "      <td>52</td>\n",
              "      <td>52</td>\n",
              "    </tr>\n",
              "    <tr>\n",
              "      <th>염장</th>\n",
              "      <td>169</td>\n",
              "      <td>169</td>\n",
              "      <td>169</td>\n",
              "      <td>169</td>\n",
              "      <td>169</td>\n",
              "      <td>169</td>\n",
              "      <td>169</td>\n",
              "    </tr>\n",
              "  </tbody>\n",
              "</table>\n",
              "</div>"
            ],
            "text/plain": [
              "              date  ctry1  ctry2  purpose  cat2  price  year\n",
              "import_type                                                 \n",
              "냉동             287    287    287      287   287    287   287\n",
              "냉동,살           422    422    422      422   422    422   422\n",
              "냉동,살,자숙        280    280    280      280   280    280   280\n",
              "냉동,살,자숙,포장횟감   223    223    223      223   223    223   223\n",
              "냉동,살,포장횟감      380    380    380      380   380    380   380\n",
              "냉동,자숙           52     52     52       52    52     52    52\n",
              "염장             169    169    169      169   169    169   169"
            ]
          },
          "metadata": {},
          "execution_count": 130
        }
      ]
    },
    {
      "cell_type": "markdown",
      "metadata": {
        "id": "-FVmtzuePKlF"
      },
      "source": [
        "['냉동,살,포장횟감', '냉동,살', '냉동,살,자숙,포장횟감', '냉동', '냉동,살,자숙']"
      ]
    },
    {
      "cell_type": "code",
      "metadata": {
        "id": "bsCrd6lwPJea"
      },
      "source": [
        "v = df_shrimp_v"
      ],
      "execution_count": null,
      "outputs": []
    },
    {
      "cell_type": "code",
      "metadata": {
        "id": "06eu-s64PRge"
      },
      "source": [
        "v_1 = v[v.import_type == '냉동,살,포장횟감']\n",
        "v_2 = v[v.import_type == '냉동,살']\n",
        "v_3 = v[v.import_type == '냉동,살,자숙,포장횟감']\n",
        "v_4 = v[v.import_type == '냉동']\n",
        "v_5 = v[v.import_type == '냉동,살,자숙']\n"
      ],
      "execution_count": null,
      "outputs": []
    },
    {
      "cell_type": "code",
      "metadata": {
        "colab": {
          "base_uri": "https://localhost:8080/",
          "height": 450
        },
        "id": "A8wW8n35PnSk",
        "outputId": "4bb3c614-6e79-4d98-a210-022b81aebd2d"
      },
      "source": [
        "v_1.groupby(by = v_1.date).count()"
      ],
      "execution_count": null,
      "outputs": [
        {
          "output_type": "execute_result",
          "data": {
            "text/html": [
              "<div>\n",
              "<style scoped>\n",
              "    .dataframe tbody tr th:only-of-type {\n",
              "        vertical-align: middle;\n",
              "    }\n",
              "\n",
              "    .dataframe tbody tr th {\n",
              "        vertical-align: top;\n",
              "    }\n",
              "\n",
              "    .dataframe thead th {\n",
              "        text-align: right;\n",
              "    }\n",
              "</style>\n",
              "<table border=\"1\" class=\"dataframe\">\n",
              "  <thead>\n",
              "    <tr style=\"text-align: right;\">\n",
              "      <th></th>\n",
              "      <th>ctry1</th>\n",
              "      <th>ctry2</th>\n",
              "      <th>purpose</th>\n",
              "      <th>cat2</th>\n",
              "      <th>import_type</th>\n",
              "      <th>price</th>\n",
              "      <th>year</th>\n",
              "    </tr>\n",
              "    <tr>\n",
              "      <th>date</th>\n",
              "      <th></th>\n",
              "      <th></th>\n",
              "      <th></th>\n",
              "      <th></th>\n",
              "      <th></th>\n",
              "      <th></th>\n",
              "      <th></th>\n",
              "    </tr>\n",
              "  </thead>\n",
              "  <tbody>\n",
              "    <tr>\n",
              "      <th>2016-01-04</th>\n",
              "      <td>2</td>\n",
              "      <td>2</td>\n",
              "      <td>2</td>\n",
              "      <td>2</td>\n",
              "      <td>2</td>\n",
              "      <td>2</td>\n",
              "      <td>2</td>\n",
              "    </tr>\n",
              "    <tr>\n",
              "      <th>2016-01-11</th>\n",
              "      <td>2</td>\n",
              "      <td>2</td>\n",
              "      <td>2</td>\n",
              "      <td>2</td>\n",
              "      <td>2</td>\n",
              "      <td>2</td>\n",
              "      <td>2</td>\n",
              "    </tr>\n",
              "    <tr>\n",
              "      <th>2016-01-18</th>\n",
              "      <td>2</td>\n",
              "      <td>2</td>\n",
              "      <td>2</td>\n",
              "      <td>2</td>\n",
              "      <td>2</td>\n",
              "      <td>2</td>\n",
              "      <td>2</td>\n",
              "    </tr>\n",
              "    <tr>\n",
              "      <th>2016-01-25</th>\n",
              "      <td>1</td>\n",
              "      <td>1</td>\n",
              "      <td>1</td>\n",
              "      <td>1</td>\n",
              "      <td>1</td>\n",
              "      <td>1</td>\n",
              "      <td>1</td>\n",
              "    </tr>\n",
              "    <tr>\n",
              "      <th>2016-02-01</th>\n",
              "      <td>1</td>\n",
              "      <td>1</td>\n",
              "      <td>1</td>\n",
              "      <td>1</td>\n",
              "      <td>1</td>\n",
              "      <td>1</td>\n",
              "      <td>1</td>\n",
              "    </tr>\n",
              "    <tr>\n",
              "      <th>...</th>\n",
              "      <td>...</td>\n",
              "      <td>...</td>\n",
              "      <td>...</td>\n",
              "      <td>...</td>\n",
              "      <td>...</td>\n",
              "      <td>...</td>\n",
              "      <td>...</td>\n",
              "    </tr>\n",
              "    <tr>\n",
              "      <th>2020-11-02</th>\n",
              "      <td>1</td>\n",
              "      <td>1</td>\n",
              "      <td>1</td>\n",
              "      <td>1</td>\n",
              "      <td>1</td>\n",
              "      <td>1</td>\n",
              "      <td>1</td>\n",
              "    </tr>\n",
              "    <tr>\n",
              "      <th>2020-11-23</th>\n",
              "      <td>1</td>\n",
              "      <td>1</td>\n",
              "      <td>1</td>\n",
              "      <td>1</td>\n",
              "      <td>1</td>\n",
              "      <td>1</td>\n",
              "      <td>1</td>\n",
              "    </tr>\n",
              "    <tr>\n",
              "      <th>2020-11-30</th>\n",
              "      <td>1</td>\n",
              "      <td>1</td>\n",
              "      <td>1</td>\n",
              "      <td>1</td>\n",
              "      <td>1</td>\n",
              "      <td>1</td>\n",
              "      <td>1</td>\n",
              "    </tr>\n",
              "    <tr>\n",
              "      <th>2020-12-21</th>\n",
              "      <td>1</td>\n",
              "      <td>1</td>\n",
              "      <td>1</td>\n",
              "      <td>1</td>\n",
              "      <td>1</td>\n",
              "      <td>1</td>\n",
              "      <td>1</td>\n",
              "    </tr>\n",
              "    <tr>\n",
              "      <th>2020-12-28</th>\n",
              "      <td>1</td>\n",
              "      <td>1</td>\n",
              "      <td>1</td>\n",
              "      <td>1</td>\n",
              "      <td>1</td>\n",
              "      <td>1</td>\n",
              "      <td>1</td>\n",
              "    </tr>\n",
              "  </tbody>\n",
              "</table>\n",
              "<p>234 rows × 7 columns</p>\n",
              "</div>"
            ],
            "text/plain": [
              "            ctry1  ctry2  purpose  cat2  import_type  price  year\n",
              "date                                                             \n",
              "2016-01-04      2      2        2     2            2      2     2\n",
              "2016-01-11      2      2        2     2            2      2     2\n",
              "2016-01-18      2      2        2     2            2      2     2\n",
              "2016-01-25      1      1        1     1            1      1     1\n",
              "2016-02-01      1      1        1     1            1      1     1\n",
              "...           ...    ...      ...   ...          ...    ...   ...\n",
              "2020-11-02      1      1        1     1            1      1     1\n",
              "2020-11-23      1      1        1     1            1      1     1\n",
              "2020-11-30      1      1        1     1            1      1     1\n",
              "2020-12-21      1      1        1     1            1      1     1\n",
              "2020-12-28      1      1        1     1            1      1     1\n",
              "\n",
              "[234 rows x 7 columns]"
            ]
          },
          "metadata": {},
          "execution_count": 133
        }
      ]
    },
    {
      "cell_type": "code",
      "metadata": {
        "id": "VxRQa_1GPv-4"
      },
      "source": [
        "v_1 = v_1[v_1.purpose == '판매용']"
      ],
      "execution_count": null,
      "outputs": []
    },
    {
      "cell_type": "code",
      "metadata": {
        "colab": {
          "base_uri": "https://localhost:8080/",
          "height": 450
        },
        "id": "6CQVPvUDP3YU",
        "outputId": "066956c3-4b3e-457f-8928-43f0b20c5fb2"
      },
      "source": [
        "v_1.groupby(by = v_1.date).count()"
      ],
      "execution_count": null,
      "outputs": [
        {
          "output_type": "execute_result",
          "data": {
            "text/html": [
              "<div>\n",
              "<style scoped>\n",
              "    .dataframe tbody tr th:only-of-type {\n",
              "        vertical-align: middle;\n",
              "    }\n",
              "\n",
              "    .dataframe tbody tr th {\n",
              "        vertical-align: top;\n",
              "    }\n",
              "\n",
              "    .dataframe thead th {\n",
              "        text-align: right;\n",
              "    }\n",
              "</style>\n",
              "<table border=\"1\" class=\"dataframe\">\n",
              "  <thead>\n",
              "    <tr style=\"text-align: right;\">\n",
              "      <th></th>\n",
              "      <th>ctry1</th>\n",
              "      <th>ctry2</th>\n",
              "      <th>purpose</th>\n",
              "      <th>cat2</th>\n",
              "      <th>import_type</th>\n",
              "      <th>price</th>\n",
              "      <th>year</th>\n",
              "    </tr>\n",
              "    <tr>\n",
              "      <th>date</th>\n",
              "      <th></th>\n",
              "      <th></th>\n",
              "      <th></th>\n",
              "      <th></th>\n",
              "      <th></th>\n",
              "      <th></th>\n",
              "      <th></th>\n",
              "    </tr>\n",
              "  </thead>\n",
              "  <tbody>\n",
              "    <tr>\n",
              "      <th>2016-01-04</th>\n",
              "      <td>2</td>\n",
              "      <td>2</td>\n",
              "      <td>2</td>\n",
              "      <td>2</td>\n",
              "      <td>2</td>\n",
              "      <td>2</td>\n",
              "      <td>2</td>\n",
              "    </tr>\n",
              "    <tr>\n",
              "      <th>2016-01-11</th>\n",
              "      <td>2</td>\n",
              "      <td>2</td>\n",
              "      <td>2</td>\n",
              "      <td>2</td>\n",
              "      <td>2</td>\n",
              "      <td>2</td>\n",
              "      <td>2</td>\n",
              "    </tr>\n",
              "    <tr>\n",
              "      <th>2016-01-18</th>\n",
              "      <td>2</td>\n",
              "      <td>2</td>\n",
              "      <td>2</td>\n",
              "      <td>2</td>\n",
              "      <td>2</td>\n",
              "      <td>2</td>\n",
              "      <td>2</td>\n",
              "    </tr>\n",
              "    <tr>\n",
              "      <th>2016-01-25</th>\n",
              "      <td>1</td>\n",
              "      <td>1</td>\n",
              "      <td>1</td>\n",
              "      <td>1</td>\n",
              "      <td>1</td>\n",
              "      <td>1</td>\n",
              "      <td>1</td>\n",
              "    </tr>\n",
              "    <tr>\n",
              "      <th>2016-02-01</th>\n",
              "      <td>1</td>\n",
              "      <td>1</td>\n",
              "      <td>1</td>\n",
              "      <td>1</td>\n",
              "      <td>1</td>\n",
              "      <td>1</td>\n",
              "      <td>1</td>\n",
              "    </tr>\n",
              "    <tr>\n",
              "      <th>...</th>\n",
              "      <td>...</td>\n",
              "      <td>...</td>\n",
              "      <td>...</td>\n",
              "      <td>...</td>\n",
              "      <td>...</td>\n",
              "      <td>...</td>\n",
              "      <td>...</td>\n",
              "    </tr>\n",
              "    <tr>\n",
              "      <th>2020-11-02</th>\n",
              "      <td>1</td>\n",
              "      <td>1</td>\n",
              "      <td>1</td>\n",
              "      <td>1</td>\n",
              "      <td>1</td>\n",
              "      <td>1</td>\n",
              "      <td>1</td>\n",
              "    </tr>\n",
              "    <tr>\n",
              "      <th>2020-11-23</th>\n",
              "      <td>1</td>\n",
              "      <td>1</td>\n",
              "      <td>1</td>\n",
              "      <td>1</td>\n",
              "      <td>1</td>\n",
              "      <td>1</td>\n",
              "      <td>1</td>\n",
              "    </tr>\n",
              "    <tr>\n",
              "      <th>2020-11-30</th>\n",
              "      <td>1</td>\n",
              "      <td>1</td>\n",
              "      <td>1</td>\n",
              "      <td>1</td>\n",
              "      <td>1</td>\n",
              "      <td>1</td>\n",
              "      <td>1</td>\n",
              "    </tr>\n",
              "    <tr>\n",
              "      <th>2020-12-21</th>\n",
              "      <td>1</td>\n",
              "      <td>1</td>\n",
              "      <td>1</td>\n",
              "      <td>1</td>\n",
              "      <td>1</td>\n",
              "      <td>1</td>\n",
              "      <td>1</td>\n",
              "    </tr>\n",
              "    <tr>\n",
              "      <th>2020-12-28</th>\n",
              "      <td>1</td>\n",
              "      <td>1</td>\n",
              "      <td>1</td>\n",
              "      <td>1</td>\n",
              "      <td>1</td>\n",
              "      <td>1</td>\n",
              "      <td>1</td>\n",
              "    </tr>\n",
              "  </tbody>\n",
              "</table>\n",
              "<p>234 rows × 7 columns</p>\n",
              "</div>"
            ],
            "text/plain": [
              "            ctry1  ctry2  purpose  cat2  import_type  price  year\n",
              "date                                                             \n",
              "2016-01-04      2      2        2     2            2      2     2\n",
              "2016-01-11      2      2        2     2            2      2     2\n",
              "2016-01-18      2      2        2     2            2      2     2\n",
              "2016-01-25      1      1        1     1            1      1     1\n",
              "2016-02-01      1      1        1     1            1      1     1\n",
              "...           ...    ...      ...   ...          ...    ...   ...\n",
              "2020-11-02      1      1        1     1            1      1     1\n",
              "2020-11-23      1      1        1     1            1      1     1\n",
              "2020-11-30      1      1        1     1            1      1     1\n",
              "2020-12-21      1      1        1     1            1      1     1\n",
              "2020-12-28      1      1        1     1            1      1     1\n",
              "\n",
              "[234 rows x 7 columns]"
            ]
          },
          "metadata": {},
          "execution_count": 135
        }
      ]
    },
    {
      "cell_type": "code",
      "metadata": {
        "id": "cEX33FzzP6uH"
      },
      "source": [
        "l = v_1.price.groupby(by = v_1.date).mean()"
      ],
      "execution_count": null,
      "outputs": []
    },
    {
      "cell_type": "code",
      "metadata": {
        "colab": {
          "base_uri": "https://localhost:8080/"
        },
        "id": "N7oOFX38T_zp",
        "outputId": "71be9caf-588d-4ad1-e092-0493d708796c"
      },
      "source": [
        "l"
      ],
      "execution_count": null,
      "outputs": [
        {
          "output_type": "execute_result",
          "data": {
            "text/plain": [
              "date\n",
              "2016-01-04    11.551725\n",
              "2016-01-11    13.336625\n",
              "2016-01-18    11.754265\n",
              "2016-01-25     9.667218\n",
              "2016-02-01    10.246308\n",
              "                ...    \n",
              "2020-11-02    14.098655\n",
              "2020-11-23    14.947158\n",
              "2020-11-30    12.167809\n",
              "2020-12-21    13.176159\n",
              "2020-12-28    13.570000\n",
              "Name: price, Length: 234, dtype: float64"
            ]
          },
          "metadata": {},
          "execution_count": 159
        }
      ]
    },
    {
      "cell_type": "code",
      "metadata": {
        "id": "HV9BI6REUDls"
      },
      "source": [
        "a = pd.DataFrame(l)"
      ],
      "execution_count": null,
      "outputs": []
    },
    {
      "cell_type": "code",
      "metadata": {
        "colab": {
          "base_uri": "https://localhost:8080/",
          "height": 450
        },
        "id": "nv0fORCVUPq4",
        "outputId": "442b31ce-38e4-4186-c35b-d10510f2ee3f"
      },
      "source": [
        "a"
      ],
      "execution_count": null,
      "outputs": [
        {
          "output_type": "execute_result",
          "data": {
            "text/html": [
              "<div>\n",
              "<style scoped>\n",
              "    .dataframe tbody tr th:only-of-type {\n",
              "        vertical-align: middle;\n",
              "    }\n",
              "\n",
              "    .dataframe tbody tr th {\n",
              "        vertical-align: top;\n",
              "    }\n",
              "\n",
              "    .dataframe thead th {\n",
              "        text-align: right;\n",
              "    }\n",
              "</style>\n",
              "<table border=\"1\" class=\"dataframe\">\n",
              "  <thead>\n",
              "    <tr style=\"text-align: right;\">\n",
              "      <th></th>\n",
              "      <th>price</th>\n",
              "    </tr>\n",
              "    <tr>\n",
              "      <th>date</th>\n",
              "      <th></th>\n",
              "    </tr>\n",
              "  </thead>\n",
              "  <tbody>\n",
              "    <tr>\n",
              "      <th>2016-01-04</th>\n",
              "      <td>11.551725</td>\n",
              "    </tr>\n",
              "    <tr>\n",
              "      <th>2016-01-11</th>\n",
              "      <td>13.336625</td>\n",
              "    </tr>\n",
              "    <tr>\n",
              "      <th>2016-01-18</th>\n",
              "      <td>11.754265</td>\n",
              "    </tr>\n",
              "    <tr>\n",
              "      <th>2016-01-25</th>\n",
              "      <td>9.667218</td>\n",
              "    </tr>\n",
              "    <tr>\n",
              "      <th>2016-02-01</th>\n",
              "      <td>10.246308</td>\n",
              "    </tr>\n",
              "    <tr>\n",
              "      <th>...</th>\n",
              "      <td>...</td>\n",
              "    </tr>\n",
              "    <tr>\n",
              "      <th>2020-11-02</th>\n",
              "      <td>14.098655</td>\n",
              "    </tr>\n",
              "    <tr>\n",
              "      <th>2020-11-23</th>\n",
              "      <td>14.947158</td>\n",
              "    </tr>\n",
              "    <tr>\n",
              "      <th>2020-11-30</th>\n",
              "      <td>12.167809</td>\n",
              "    </tr>\n",
              "    <tr>\n",
              "      <th>2020-12-21</th>\n",
              "      <td>13.176159</td>\n",
              "    </tr>\n",
              "    <tr>\n",
              "      <th>2020-12-28</th>\n",
              "      <td>13.570000</td>\n",
              "    </tr>\n",
              "  </tbody>\n",
              "</table>\n",
              "<p>234 rows × 1 columns</p>\n",
              "</div>"
            ],
            "text/plain": [
              "                price\n",
              "date                 \n",
              "2016-01-04  11.551725\n",
              "2016-01-11  13.336625\n",
              "2016-01-18  11.754265\n",
              "2016-01-25   9.667218\n",
              "2016-02-01  10.246308\n",
              "...               ...\n",
              "2020-11-02  14.098655\n",
              "2020-11-23  14.947158\n",
              "2020-11-30  12.167809\n",
              "2020-12-21  13.176159\n",
              "2020-12-28  13.570000\n",
              "\n",
              "[234 rows x 1 columns]"
            ]
          },
          "metadata": {},
          "execution_count": 57
        }
      ]
    },
    {
      "cell_type": "code",
      "metadata": {
        "id": "c1qlyNIXUWFu"
      },
      "source": [
        "a.to_csv('./working directory/새우_베트남_냉동살포장횟감.csv')"
      ],
      "execution_count": null,
      "outputs": []
    },
    {
      "cell_type": "code",
      "metadata": {
        "colab": {
          "base_uri": "https://localhost:8080/",
          "height": 419
        },
        "id": "ONGNbi4RUkro",
        "outputId": "b8a72558-dfab-4603-992b-8e4c3a606742"
      },
      "source": [
        "v_2"
      ],
      "execution_count": null,
      "outputs": [
        {
          "output_type": "execute_result",
          "data": {
            "text/html": [
              "<div>\n",
              "<style scoped>\n",
              "    .dataframe tbody tr th:only-of-type {\n",
              "        vertical-align: middle;\n",
              "    }\n",
              "\n",
              "    .dataframe tbody tr th {\n",
              "        vertical-align: top;\n",
              "    }\n",
              "\n",
              "    .dataframe thead th {\n",
              "        text-align: right;\n",
              "    }\n",
              "</style>\n",
              "<table border=\"1\" class=\"dataframe\">\n",
              "  <thead>\n",
              "    <tr style=\"text-align: right;\">\n",
              "      <th></th>\n",
              "      <th>date</th>\n",
              "      <th>ctry1</th>\n",
              "      <th>ctry2</th>\n",
              "      <th>purpose</th>\n",
              "      <th>cat2</th>\n",
              "      <th>import_type</th>\n",
              "      <th>price</th>\n",
              "      <th>year</th>\n",
              "    </tr>\n",
              "  </thead>\n",
              "  <tbody>\n",
              "    <tr>\n",
              "      <th>78</th>\n",
              "      <td>2016-01-04</td>\n",
              "      <td>베트남</td>\n",
              "      <td>베트남</td>\n",
              "      <td>판매용</td>\n",
              "      <td>새우</td>\n",
              "      <td>냉동,살</td>\n",
              "      <td>8.691986</td>\n",
              "      <td>2016</td>\n",
              "    </tr>\n",
              "    <tr>\n",
              "      <th>83</th>\n",
              "      <td>2016-01-04</td>\n",
              "      <td>베트남</td>\n",
              "      <td>베트남</td>\n",
              "      <td>자사제품제조용</td>\n",
              "      <td>새우</td>\n",
              "      <td>냉동,살</td>\n",
              "      <td>8.260303</td>\n",
              "      <td>2016</td>\n",
              "    </tr>\n",
              "    <tr>\n",
              "      <th>204</th>\n",
              "      <td>2016-01-04</td>\n",
              "      <td>베트남</td>\n",
              "      <td>베트남</td>\n",
              "      <td>판매용</td>\n",
              "      <td>새우</td>\n",
              "      <td>냉동,살</td>\n",
              "      <td>7.562670</td>\n",
              "      <td>2016</td>\n",
              "    </tr>\n",
              "    <tr>\n",
              "      <th>283</th>\n",
              "      <td>2016-01-11</td>\n",
              "      <td>베트남</td>\n",
              "      <td>베트남</td>\n",
              "      <td>자사제품제조용</td>\n",
              "      <td>새우</td>\n",
              "      <td>냉동,살</td>\n",
              "      <td>6.159457</td>\n",
              "      <td>2016</td>\n",
              "    </tr>\n",
              "    <tr>\n",
              "      <th>428</th>\n",
              "      <td>2016-01-11</td>\n",
              "      <td>베트남</td>\n",
              "      <td>베트남</td>\n",
              "      <td>판매용</td>\n",
              "      <td>새우</td>\n",
              "      <td>냉동,살</td>\n",
              "      <td>8.123069</td>\n",
              "      <td>2016</td>\n",
              "    </tr>\n",
              "    <tr>\n",
              "      <th>...</th>\n",
              "      <td>...</td>\n",
              "      <td>...</td>\n",
              "      <td>...</td>\n",
              "      <td>...</td>\n",
              "      <td>...</td>\n",
              "      <td>...</td>\n",
              "      <td>...</td>\n",
              "      <td>...</td>\n",
              "    </tr>\n",
              "    <tr>\n",
              "      <th>50510</th>\n",
              "      <td>2020-11-30</td>\n",
              "      <td>베트남</td>\n",
              "      <td>베트남</td>\n",
              "      <td>판매용</td>\n",
              "      <td>새우</td>\n",
              "      <td>냉동,살</td>\n",
              "      <td>10.737321</td>\n",
              "      <td>2020</td>\n",
              "    </tr>\n",
              "    <tr>\n",
              "      <th>50741</th>\n",
              "      <td>2020-12-07</td>\n",
              "      <td>베트남</td>\n",
              "      <td>베트남</td>\n",
              "      <td>판매용</td>\n",
              "      <td>새우</td>\n",
              "      <td>냉동,살</td>\n",
              "      <td>7.746243</td>\n",
              "      <td>2020</td>\n",
              "    </tr>\n",
              "    <tr>\n",
              "      <th>50951</th>\n",
              "      <td>2020-12-14</td>\n",
              "      <td>베트남</td>\n",
              "      <td>베트남</td>\n",
              "      <td>판매용</td>\n",
              "      <td>새우</td>\n",
              "      <td>냉동,살</td>\n",
              "      <td>7.593631</td>\n",
              "      <td>2020</td>\n",
              "    </tr>\n",
              "    <tr>\n",
              "      <th>51132</th>\n",
              "      <td>2020-12-21</td>\n",
              "      <td>베트남</td>\n",
              "      <td>베트남</td>\n",
              "      <td>판매용</td>\n",
              "      <td>새우</td>\n",
              "      <td>냉동,살</td>\n",
              "      <td>7.989548</td>\n",
              "      <td>2020</td>\n",
              "    </tr>\n",
              "    <tr>\n",
              "      <th>51318</th>\n",
              "      <td>2020-12-28</td>\n",
              "      <td>베트남</td>\n",
              "      <td>베트남</td>\n",
              "      <td>판매용</td>\n",
              "      <td>새우</td>\n",
              "      <td>냉동,살</td>\n",
              "      <td>7.410000</td>\n",
              "      <td>2020</td>\n",
              "    </tr>\n",
              "  </tbody>\n",
              "</table>\n",
              "<p>422 rows × 8 columns</p>\n",
              "</div>"
            ],
            "text/plain": [
              "            date ctry1 ctry2  purpose cat2 import_type      price  year\n",
              "78    2016-01-04   베트남   베트남      판매용   새우        냉동,살   8.691986  2016\n",
              "83    2016-01-04   베트남   베트남  자사제품제조용   새우        냉동,살   8.260303  2016\n",
              "204   2016-01-04   베트남   베트남      판매용   새우        냉동,살   7.562670  2016\n",
              "283   2016-01-11   베트남   베트남  자사제품제조용   새우        냉동,살   6.159457  2016\n",
              "428   2016-01-11   베트남   베트남      판매용   새우        냉동,살   8.123069  2016\n",
              "...          ...   ...   ...      ...  ...         ...        ...   ...\n",
              "50510 2020-11-30   베트남   베트남      판매용   새우        냉동,살  10.737321  2020\n",
              "50741 2020-12-07   베트남   베트남      판매용   새우        냉동,살   7.746243  2020\n",
              "50951 2020-12-14   베트남   베트남      판매용   새우        냉동,살   7.593631  2020\n",
              "51132 2020-12-21   베트남   베트남      판매용   새우        냉동,살   7.989548  2020\n",
              "51318 2020-12-28   베트남   베트남      판매용   새우        냉동,살   7.410000  2020\n",
              "\n",
              "[422 rows x 8 columns]"
            ]
          },
          "metadata": {},
          "execution_count": 165
        }
      ]
    },
    {
      "cell_type": "code",
      "metadata": {
        "id": "oAJJhLR8Usfw"
      },
      "source": [
        "v_2 = v_2[v_2.purpose == '판매용']"
      ],
      "execution_count": null,
      "outputs": []
    },
    {
      "cell_type": "code",
      "metadata": {
        "id": "3AiOAAAKVAmF"
      },
      "source": [
        "l2 = v_2.price.groupby(by = v_2.date).mean()"
      ],
      "execution_count": null,
      "outputs": []
    },
    {
      "cell_type": "code",
      "metadata": {
        "id": "EZEhpGSNVDOd"
      },
      "source": [
        "b = pd.DataFrame(l2)"
      ],
      "execution_count": null,
      "outputs": []
    },
    {
      "cell_type": "code",
      "metadata": {
        "colab": {
          "base_uri": "https://localhost:8080/",
          "height": 450
        },
        "id": "mAKZtp4k0n79",
        "outputId": "7a5c6013-25f0-4461-f3db-47416ef0f0ed"
      },
      "source": [
        "b"
      ],
      "execution_count": null,
      "outputs": [
        {
          "output_type": "execute_result",
          "data": {
            "text/html": [
              "<div>\n",
              "<style scoped>\n",
              "    .dataframe tbody tr th:only-of-type {\n",
              "        vertical-align: middle;\n",
              "    }\n",
              "\n",
              "    .dataframe tbody tr th {\n",
              "        vertical-align: top;\n",
              "    }\n",
              "\n",
              "    .dataframe thead th {\n",
              "        text-align: right;\n",
              "    }\n",
              "</style>\n",
              "<table border=\"1\" class=\"dataframe\">\n",
              "  <thead>\n",
              "    <tr style=\"text-align: right;\">\n",
              "      <th></th>\n",
              "      <th>price</th>\n",
              "    </tr>\n",
              "    <tr>\n",
              "      <th>date</th>\n",
              "      <th></th>\n",
              "    </tr>\n",
              "  </thead>\n",
              "  <tbody>\n",
              "    <tr>\n",
              "      <th>2016-01-04</th>\n",
              "      <td>8.127328</td>\n",
              "    </tr>\n",
              "    <tr>\n",
              "      <th>2016-01-11</th>\n",
              "      <td>8.123069</td>\n",
              "    </tr>\n",
              "    <tr>\n",
              "      <th>2016-01-18</th>\n",
              "      <td>8.438049</td>\n",
              "    </tr>\n",
              "    <tr>\n",
              "      <th>2016-01-25</th>\n",
              "      <td>9.712139</td>\n",
              "    </tr>\n",
              "    <tr>\n",
              "      <th>2016-02-01</th>\n",
              "      <td>7.659386</td>\n",
              "    </tr>\n",
              "    <tr>\n",
              "      <th>...</th>\n",
              "      <td>...</td>\n",
              "    </tr>\n",
              "    <tr>\n",
              "      <th>2020-11-30</th>\n",
              "      <td>10.737321</td>\n",
              "    </tr>\n",
              "    <tr>\n",
              "      <th>2020-12-07</th>\n",
              "      <td>7.746243</td>\n",
              "    </tr>\n",
              "    <tr>\n",
              "      <th>2020-12-14</th>\n",
              "      <td>7.593631</td>\n",
              "    </tr>\n",
              "    <tr>\n",
              "      <th>2020-12-21</th>\n",
              "      <td>7.989548</td>\n",
              "    </tr>\n",
              "    <tr>\n",
              "      <th>2020-12-28</th>\n",
              "      <td>7.410000</td>\n",
              "    </tr>\n",
              "  </tbody>\n",
              "</table>\n",
              "<p>260 rows × 1 columns</p>\n",
              "</div>"
            ],
            "text/plain": [
              "                price\n",
              "date                 \n",
              "2016-01-04   8.127328\n",
              "2016-01-11   8.123069\n",
              "2016-01-18   8.438049\n",
              "2016-01-25   9.712139\n",
              "2016-02-01   7.659386\n",
              "...               ...\n",
              "2020-11-30  10.737321\n",
              "2020-12-07   7.746243\n",
              "2020-12-14   7.593631\n",
              "2020-12-21   7.989548\n",
              "2020-12-28   7.410000\n",
              "\n",
              "[260 rows x 1 columns]"
            ]
          },
          "metadata": {},
          "execution_count": 62
        }
      ]
    },
    {
      "cell_type": "code",
      "metadata": {
        "id": "v--eekxdVHMc"
      },
      "source": [
        "b.to_csv('./working directory/새우_베트남_냉동살.csv')"
      ],
      "execution_count": null,
      "outputs": []
    },
    {
      "cell_type": "code",
      "metadata": {
        "id": "Fn3XoOEvVMqY"
      },
      "source": [
        "v_3 = v_3[v_3.purpose == '판매용']"
      ],
      "execution_count": null,
      "outputs": []
    },
    {
      "cell_type": "code",
      "metadata": {
        "id": "mcwEuaq4VXYQ"
      },
      "source": [
        "v_3 = cleaning(v_3)"
      ],
      "execution_count": null,
      "outputs": []
    },
    {
      "cell_type": "code",
      "metadata": {
        "colab": {
          "base_uri": "https://localhost:8080/",
          "height": 450
        },
        "id": "P7eaNI0P0yz-",
        "outputId": "4388ccfa-abf8-423b-d87d-322601863611"
      },
      "source": [
        "v_3"
      ],
      "execution_count": null,
      "outputs": [
        {
          "output_type": "execute_result",
          "data": {
            "text/html": [
              "<div>\n",
              "<style scoped>\n",
              "    .dataframe tbody tr th:only-of-type {\n",
              "        vertical-align: middle;\n",
              "    }\n",
              "\n",
              "    .dataframe tbody tr th {\n",
              "        vertical-align: top;\n",
              "    }\n",
              "\n",
              "    .dataframe thead th {\n",
              "        text-align: right;\n",
              "    }\n",
              "</style>\n",
              "<table border=\"1\" class=\"dataframe\">\n",
              "  <thead>\n",
              "    <tr style=\"text-align: right;\">\n",
              "      <th></th>\n",
              "      <th>price</th>\n",
              "    </tr>\n",
              "    <tr>\n",
              "      <th>date</th>\n",
              "      <th></th>\n",
              "    </tr>\n",
              "  </thead>\n",
              "  <tbody>\n",
              "    <tr>\n",
              "      <th>2016-01-11</th>\n",
              "      <td>14.692197</td>\n",
              "    </tr>\n",
              "    <tr>\n",
              "      <th>2016-01-18</th>\n",
              "      <td>15.948179</td>\n",
              "    </tr>\n",
              "    <tr>\n",
              "      <th>2016-01-25</th>\n",
              "      <td>16.552750</td>\n",
              "    </tr>\n",
              "    <tr>\n",
              "      <th>2016-02-01</th>\n",
              "      <td>18.172198</td>\n",
              "    </tr>\n",
              "    <tr>\n",
              "      <th>2016-02-08</th>\n",
              "      <td>16.158020</td>\n",
              "    </tr>\n",
              "    <tr>\n",
              "      <th>...</th>\n",
              "      <td>...</td>\n",
              "    </tr>\n",
              "    <tr>\n",
              "      <th>2020-11-09</th>\n",
              "      <td>8.390197</td>\n",
              "    </tr>\n",
              "    <tr>\n",
              "      <th>2020-11-23</th>\n",
              "      <td>19.187066</td>\n",
              "    </tr>\n",
              "    <tr>\n",
              "      <th>2020-12-07</th>\n",
              "      <td>15.777495</td>\n",
              "    </tr>\n",
              "    <tr>\n",
              "      <th>2020-12-14</th>\n",
              "      <td>14.612320</td>\n",
              "    </tr>\n",
              "    <tr>\n",
              "      <th>2020-12-28</th>\n",
              "      <td>16.770000</td>\n",
              "    </tr>\n",
              "  </tbody>\n",
              "</table>\n",
              "<p>223 rows × 1 columns</p>\n",
              "</div>"
            ],
            "text/plain": [
              "                price\n",
              "date                 \n",
              "2016-01-11  14.692197\n",
              "2016-01-18  15.948179\n",
              "2016-01-25  16.552750\n",
              "2016-02-01  18.172198\n",
              "2016-02-08  16.158020\n",
              "...               ...\n",
              "2020-11-09   8.390197\n",
              "2020-11-23  19.187066\n",
              "2020-12-07  15.777495\n",
              "2020-12-14  14.612320\n",
              "2020-12-28  16.770000\n",
              "\n",
              "[223 rows x 1 columns]"
            ]
          },
          "metadata": {},
          "execution_count": 66
        }
      ]
    },
    {
      "cell_type": "code",
      "metadata": {
        "id": "0Iz15cksVVPd"
      },
      "source": [
        "v_3.to_csv('./working directory/새우_베트남_냉동살자숙포장횟감.csv')"
      ],
      "execution_count": null,
      "outputs": []
    },
    {
      "cell_type": "code",
      "metadata": {
        "id": "zwZyJ1JxVo67"
      },
      "source": [
        "v_4 = v_4[v_4.purpose == '판매용']"
      ],
      "execution_count": null,
      "outputs": []
    },
    {
      "cell_type": "code",
      "metadata": {
        "colab": {
          "base_uri": "https://localhost:8080/",
          "height": 419
        },
        "id": "oauJtZI6V0nQ",
        "outputId": "374e9643-b32e-4688-fbee-713f383300a4"
      },
      "source": [
        "v_4"
      ],
      "execution_count": null,
      "outputs": [
        {
          "output_type": "execute_result",
          "data": {
            "text/html": [
              "<div>\n",
              "<style scoped>\n",
              "    .dataframe tbody tr th:only-of-type {\n",
              "        vertical-align: middle;\n",
              "    }\n",
              "\n",
              "    .dataframe tbody tr th {\n",
              "        vertical-align: top;\n",
              "    }\n",
              "\n",
              "    .dataframe thead th {\n",
              "        text-align: right;\n",
              "    }\n",
              "</style>\n",
              "<table border=\"1\" class=\"dataframe\">\n",
              "  <thead>\n",
              "    <tr style=\"text-align: right;\">\n",
              "      <th></th>\n",
              "      <th>date</th>\n",
              "      <th>ctry1</th>\n",
              "      <th>ctry2</th>\n",
              "      <th>purpose</th>\n",
              "      <th>cat2</th>\n",
              "      <th>import_type</th>\n",
              "      <th>price</th>\n",
              "      <th>year</th>\n",
              "    </tr>\n",
              "  </thead>\n",
              "  <tbody>\n",
              "    <tr>\n",
              "      <th>77</th>\n",
              "      <td>2016-01-04</td>\n",
              "      <td>베트남</td>\n",
              "      <td>베트남</td>\n",
              "      <td>판매용</td>\n",
              "      <td>새우</td>\n",
              "      <td>냉동</td>\n",
              "      <td>10.083010</td>\n",
              "      <td>2016</td>\n",
              "    </tr>\n",
              "    <tr>\n",
              "      <th>157</th>\n",
              "      <td>2016-01-04</td>\n",
              "      <td>베트남</td>\n",
              "      <td>베트남</td>\n",
              "      <td>판매용</td>\n",
              "      <td>새우</td>\n",
              "      <td>냉동</td>\n",
              "      <td>7.453414</td>\n",
              "      <td>2016</td>\n",
              "    </tr>\n",
              "    <tr>\n",
              "      <th>353</th>\n",
              "      <td>2016-01-11</td>\n",
              "      <td>베트남</td>\n",
              "      <td>베트남</td>\n",
              "      <td>판매용</td>\n",
              "      <td>새우</td>\n",
              "      <td>냉동</td>\n",
              "      <td>7.162620</td>\n",
              "      <td>2016</td>\n",
              "    </tr>\n",
              "    <tr>\n",
              "      <th>576</th>\n",
              "      <td>2016-01-18</td>\n",
              "      <td>베트남</td>\n",
              "      <td>베트남</td>\n",
              "      <td>판매용</td>\n",
              "      <td>새우</td>\n",
              "      <td>냉동</td>\n",
              "      <td>6.576185</td>\n",
              "      <td>2016</td>\n",
              "    </tr>\n",
              "    <tr>\n",
              "      <th>591</th>\n",
              "      <td>2016-01-18</td>\n",
              "      <td>베트남</td>\n",
              "      <td>베트남</td>\n",
              "      <td>판매용</td>\n",
              "      <td>새우</td>\n",
              "      <td>냉동</td>\n",
              "      <td>10.105286</td>\n",
              "      <td>2016</td>\n",
              "    </tr>\n",
              "    <tr>\n",
              "      <th>...</th>\n",
              "      <td>...</td>\n",
              "      <td>...</td>\n",
              "      <td>...</td>\n",
              "      <td>...</td>\n",
              "      <td>...</td>\n",
              "      <td>...</td>\n",
              "      <td>...</td>\n",
              "      <td>...</td>\n",
              "    </tr>\n",
              "    <tr>\n",
              "      <th>47292</th>\n",
              "      <td>2020-08-03</td>\n",
              "      <td>베트남</td>\n",
              "      <td>베트남</td>\n",
              "      <td>판매용</td>\n",
              "      <td>새우</td>\n",
              "      <td>냉동</td>\n",
              "      <td>7.256762</td>\n",
              "      <td>2020</td>\n",
              "    </tr>\n",
              "    <tr>\n",
              "      <th>47525</th>\n",
              "      <td>2020-08-10</td>\n",
              "      <td>베트남</td>\n",
              "      <td>베트남</td>\n",
              "      <td>판매용</td>\n",
              "      <td>새우</td>\n",
              "      <td>냉동</td>\n",
              "      <td>7.017041</td>\n",
              "      <td>2020</td>\n",
              "    </tr>\n",
              "    <tr>\n",
              "      <th>48379</th>\n",
              "      <td>2020-09-14</td>\n",
              "      <td>베트남</td>\n",
              "      <td>베트남</td>\n",
              "      <td>판매용</td>\n",
              "      <td>새우</td>\n",
              "      <td>냉동</td>\n",
              "      <td>9.556716</td>\n",
              "      <td>2020</td>\n",
              "    </tr>\n",
              "    <tr>\n",
              "      <th>49098</th>\n",
              "      <td>2020-10-12</td>\n",
              "      <td>베트남</td>\n",
              "      <td>베트남</td>\n",
              "      <td>판매용</td>\n",
              "      <td>새우</td>\n",
              "      <td>냉동</td>\n",
              "      <td>7.359548</td>\n",
              "      <td>2020</td>\n",
              "    </tr>\n",
              "    <tr>\n",
              "      <th>49508</th>\n",
              "      <td>2020-10-26</td>\n",
              "      <td>베트남</td>\n",
              "      <td>베트남</td>\n",
              "      <td>판매용</td>\n",
              "      <td>새우</td>\n",
              "      <td>냉동</td>\n",
              "      <td>7.036153</td>\n",
              "      <td>2020</td>\n",
              "    </tr>\n",
              "  </tbody>\n",
              "</table>\n",
              "<p>287 rows × 8 columns</p>\n",
              "</div>"
            ],
            "text/plain": [
              "            date ctry1 ctry2 purpose cat2 import_type      price  year\n",
              "77    2016-01-04   베트남   베트남     판매용   새우          냉동  10.083010  2016\n",
              "157   2016-01-04   베트남   베트남     판매용   새우          냉동   7.453414  2016\n",
              "353   2016-01-11   베트남   베트남     판매용   새우          냉동   7.162620  2016\n",
              "576   2016-01-18   베트남   베트남     판매용   새우          냉동   6.576185  2016\n",
              "591   2016-01-18   베트남   베트남     판매용   새우          냉동  10.105286  2016\n",
              "...          ...   ...   ...     ...  ...         ...        ...   ...\n",
              "47292 2020-08-03   베트남   베트남     판매용   새우          냉동   7.256762  2020\n",
              "47525 2020-08-10   베트남   베트남     판매용   새우          냉동   7.017041  2020\n",
              "48379 2020-09-14   베트남   베트남     판매용   새우          냉동   9.556716  2020\n",
              "49098 2020-10-12   베트남   베트남     판매용   새우          냉동   7.359548  2020\n",
              "49508 2020-10-26   베트남   베트남     판매용   새우          냉동   7.036153  2020\n",
              "\n",
              "[287 rows x 8 columns]"
            ]
          },
          "metadata": {},
          "execution_count": 182
        }
      ]
    },
    {
      "cell_type": "code",
      "metadata": {
        "id": "FB6QB2_3V3ri"
      },
      "source": [
        "l4 = v_4.price.groupby(by = v_4.date).mean()"
      ],
      "execution_count": null,
      "outputs": []
    },
    {
      "cell_type": "code",
      "metadata": {
        "id": "Hr-JW12vV7NI"
      },
      "source": [
        "c = pd.DataFrame(l4)"
      ],
      "execution_count": null,
      "outputs": []
    },
    {
      "cell_type": "code",
      "metadata": {
        "colab": {
          "base_uri": "https://localhost:8080/",
          "height": 450
        },
        "id": "Z5vhZyfy0306",
        "outputId": "ebde659c-7709-4ce2-b610-49aa1cd57386"
      },
      "source": [
        "c"
      ],
      "execution_count": null,
      "outputs": [
        {
          "output_type": "execute_result",
          "data": {
            "text/html": [
              "<div>\n",
              "<style scoped>\n",
              "    .dataframe tbody tr th:only-of-type {\n",
              "        vertical-align: middle;\n",
              "    }\n",
              "\n",
              "    .dataframe tbody tr th {\n",
              "        vertical-align: top;\n",
              "    }\n",
              "\n",
              "    .dataframe thead th {\n",
              "        text-align: right;\n",
              "    }\n",
              "</style>\n",
              "<table border=\"1\" class=\"dataframe\">\n",
              "  <thead>\n",
              "    <tr style=\"text-align: right;\">\n",
              "      <th></th>\n",
              "      <th>price</th>\n",
              "    </tr>\n",
              "    <tr>\n",
              "      <th>date</th>\n",
              "      <th></th>\n",
              "    </tr>\n",
              "  </thead>\n",
              "  <tbody>\n",
              "    <tr>\n",
              "      <th>2016-01-04</th>\n",
              "      <td>8.768212</td>\n",
              "    </tr>\n",
              "    <tr>\n",
              "      <th>2016-01-11</th>\n",
              "      <td>7.162620</td>\n",
              "    </tr>\n",
              "    <tr>\n",
              "      <th>2016-01-18</th>\n",
              "      <td>8.340736</td>\n",
              "    </tr>\n",
              "    <tr>\n",
              "      <th>2016-01-25</th>\n",
              "      <td>10.796673</td>\n",
              "    </tr>\n",
              "    <tr>\n",
              "      <th>2016-02-01</th>\n",
              "      <td>8.643117</td>\n",
              "    </tr>\n",
              "    <tr>\n",
              "      <th>...</th>\n",
              "      <td>...</td>\n",
              "    </tr>\n",
              "    <tr>\n",
              "      <th>2020-08-03</th>\n",
              "      <td>7.256762</td>\n",
              "    </tr>\n",
              "    <tr>\n",
              "      <th>2020-08-10</th>\n",
              "      <td>7.017041</td>\n",
              "    </tr>\n",
              "    <tr>\n",
              "      <th>2020-09-14</th>\n",
              "      <td>9.556716</td>\n",
              "    </tr>\n",
              "    <tr>\n",
              "      <th>2020-10-12</th>\n",
              "      <td>7.359548</td>\n",
              "    </tr>\n",
              "    <tr>\n",
              "      <th>2020-10-26</th>\n",
              "      <td>7.036153</td>\n",
              "    </tr>\n",
              "  </tbody>\n",
              "</table>\n",
              "<p>187 rows × 1 columns</p>\n",
              "</div>"
            ],
            "text/plain": [
              "                price\n",
              "date                 \n",
              "2016-01-04   8.768212\n",
              "2016-01-11   7.162620\n",
              "2016-01-18   8.340736\n",
              "2016-01-25  10.796673\n",
              "2016-02-01   8.643117\n",
              "...               ...\n",
              "2020-08-03   7.256762\n",
              "2020-08-10   7.017041\n",
              "2020-09-14   9.556716\n",
              "2020-10-12   7.359548\n",
              "2020-10-26   7.036153\n",
              "\n",
              "[187 rows x 1 columns]"
            ]
          },
          "metadata": {},
          "execution_count": 71
        }
      ]
    },
    {
      "cell_type": "code",
      "metadata": {
        "id": "2kf9WuDkWCCh"
      },
      "source": [
        "c.to_csv('./working directory/새우_베트남_냉동.csv')"
      ],
      "execution_count": null,
      "outputs": []
    },
    {
      "cell_type": "code",
      "metadata": {
        "id": "UjOkuWbyWK7M"
      },
      "source": [
        "v_5 = v_5[v_5.purpose == '판매용']"
      ],
      "execution_count": null,
      "outputs": []
    },
    {
      "cell_type": "code",
      "metadata": {
        "id": "gnorBWkhWdSR"
      },
      "source": [
        "l5 = v_5.price.groupby(by = v_5.date).mean()"
      ],
      "execution_count": null,
      "outputs": []
    },
    {
      "cell_type": "code",
      "metadata": {
        "id": "TQnQKx87Wmw3"
      },
      "source": [
        "d = pd.DataFrame(l5)"
      ],
      "execution_count": null,
      "outputs": []
    },
    {
      "cell_type": "code",
      "metadata": {
        "colab": {
          "base_uri": "https://localhost:8080/",
          "height": 450
        },
        "id": "GAGe3nc_WtL0",
        "outputId": "e0740c97-6c08-42ba-deb8-b5c6f25e9647"
      },
      "source": [
        "d"
      ],
      "execution_count": null,
      "outputs": [
        {
          "output_type": "execute_result",
          "data": {
            "text/html": [
              "<div>\n",
              "<style scoped>\n",
              "    .dataframe tbody tr th:only-of-type {\n",
              "        vertical-align: middle;\n",
              "    }\n",
              "\n",
              "    .dataframe tbody tr th {\n",
              "        vertical-align: top;\n",
              "    }\n",
              "\n",
              "    .dataframe thead th {\n",
              "        text-align: right;\n",
              "    }\n",
              "</style>\n",
              "<table border=\"1\" class=\"dataframe\">\n",
              "  <thead>\n",
              "    <tr style=\"text-align: right;\">\n",
              "      <th></th>\n",
              "      <th>price</th>\n",
              "    </tr>\n",
              "    <tr>\n",
              "      <th>date</th>\n",
              "      <th></th>\n",
              "    </tr>\n",
              "  </thead>\n",
              "  <tbody>\n",
              "    <tr>\n",
              "      <th>2016-01-04</th>\n",
              "      <td>7.517132</td>\n",
              "    </tr>\n",
              "    <tr>\n",
              "      <th>2016-01-11</th>\n",
              "      <td>8.034134</td>\n",
              "    </tr>\n",
              "    <tr>\n",
              "      <th>2016-01-18</th>\n",
              "      <td>7.402905</td>\n",
              "    </tr>\n",
              "    <tr>\n",
              "      <th>2016-01-25</th>\n",
              "      <td>8.033705</td>\n",
              "    </tr>\n",
              "    <tr>\n",
              "      <th>2016-02-01</th>\n",
              "      <td>7.771798</td>\n",
              "    </tr>\n",
              "    <tr>\n",
              "      <th>...</th>\n",
              "      <td>...</td>\n",
              "    </tr>\n",
              "    <tr>\n",
              "      <th>2020-11-30</th>\n",
              "      <td>7.277901</td>\n",
              "    </tr>\n",
              "    <tr>\n",
              "      <th>2020-12-07</th>\n",
              "      <td>7.595661</td>\n",
              "    </tr>\n",
              "    <tr>\n",
              "      <th>2020-12-14</th>\n",
              "      <td>8.261538</td>\n",
              "    </tr>\n",
              "    <tr>\n",
              "      <th>2020-12-21</th>\n",
              "      <td>6.242761</td>\n",
              "    </tr>\n",
              "    <tr>\n",
              "      <th>2020-12-28</th>\n",
              "      <td>7.830000</td>\n",
              "    </tr>\n",
              "  </tbody>\n",
              "</table>\n",
              "<p>257 rows × 1 columns</p>\n",
              "</div>"
            ],
            "text/plain": [
              "               price\n",
              "date                \n",
              "2016-01-04  7.517132\n",
              "2016-01-11  8.034134\n",
              "2016-01-18  7.402905\n",
              "2016-01-25  8.033705\n",
              "2016-02-01  7.771798\n",
              "...              ...\n",
              "2020-11-30  7.277901\n",
              "2020-12-07  7.595661\n",
              "2020-12-14  8.261538\n",
              "2020-12-21  6.242761\n",
              "2020-12-28  7.830000\n",
              "\n",
              "[257 rows x 1 columns]"
            ]
          },
          "metadata": {},
          "execution_count": 76
        }
      ]
    },
    {
      "cell_type": "code",
      "metadata": {
        "id": "IJQrv2SkWqn-"
      },
      "source": [
        "d.to_csv('./working directory/새우_베트남_냉동살자숙.csv')"
      ],
      "execution_count": null,
      "outputs": []
    },
    {
      "cell_type": "markdown",
      "metadata": {
        "id": "5uZZjFd2VL9r"
      },
      "source": [
        "### 4-3-2. 새우 태국"
      ]
    },
    {
      "cell_type": "code",
      "metadata": {
        "id": "9CUMCRJMW51H"
      },
      "source": [
        "thai = df_shrimp[df_shrimp.ctry1 == '태국']"
      ],
      "execution_count": null,
      "outputs": []
    },
    {
      "cell_type": "code",
      "metadata": {
        "colab": {
          "base_uri": "https://localhost:8080/",
          "height": 419
        },
        "id": "a6cgavvaW-Qx",
        "outputId": "bd5d4215-9daf-4fa9-8333-39cc9bb6138c"
      },
      "source": [
        "thai"
      ],
      "execution_count": null,
      "outputs": [
        {
          "output_type": "execute_result",
          "data": {
            "text/html": [
              "<div>\n",
              "<style scoped>\n",
              "    .dataframe tbody tr th:only-of-type {\n",
              "        vertical-align: middle;\n",
              "    }\n",
              "\n",
              "    .dataframe tbody tr th {\n",
              "        vertical-align: top;\n",
              "    }\n",
              "\n",
              "    .dataframe thead th {\n",
              "        text-align: right;\n",
              "    }\n",
              "</style>\n",
              "<table border=\"1\" class=\"dataframe\">\n",
              "  <thead>\n",
              "    <tr style=\"text-align: right;\">\n",
              "      <th></th>\n",
              "      <th>date</th>\n",
              "      <th>ctry1</th>\n",
              "      <th>ctry2</th>\n",
              "      <th>purpose</th>\n",
              "      <th>cat2</th>\n",
              "      <th>import_type</th>\n",
              "      <th>price</th>\n",
              "      <th>year</th>\n",
              "    </tr>\n",
              "  </thead>\n",
              "  <tbody>\n",
              "    <tr>\n",
              "      <th>106</th>\n",
              "      <td>2016-01-04</td>\n",
              "      <td>태국</td>\n",
              "      <td>태국</td>\n",
              "      <td>판매용</td>\n",
              "      <td>새우</td>\n",
              "      <td>냉동,살,자숙</td>\n",
              "      <td>14.585459</td>\n",
              "      <td>2016</td>\n",
              "    </tr>\n",
              "    <tr>\n",
              "      <th>107</th>\n",
              "      <td>2016-01-04</td>\n",
              "      <td>태국</td>\n",
              "      <td>태국</td>\n",
              "      <td>판매용</td>\n",
              "      <td>새우</td>\n",
              "      <td>냉동,살</td>\n",
              "      <td>16.355613</td>\n",
              "      <td>2016</td>\n",
              "    </tr>\n",
              "    <tr>\n",
              "      <th>144</th>\n",
              "      <td>2016-01-04</td>\n",
              "      <td>태국</td>\n",
              "      <td>태국</td>\n",
              "      <td>판매용</td>\n",
              "      <td>새우</td>\n",
              "      <td>냉장</td>\n",
              "      <td>9.377045</td>\n",
              "      <td>2016</td>\n",
              "    </tr>\n",
              "    <tr>\n",
              "      <th>155</th>\n",
              "      <td>2016-01-04</td>\n",
              "      <td>태국</td>\n",
              "      <td>태국</td>\n",
              "      <td>판매용</td>\n",
              "      <td>새우</td>\n",
              "      <td>냉장</td>\n",
              "      <td>9.021653</td>\n",
              "      <td>2016</td>\n",
              "    </tr>\n",
              "    <tr>\n",
              "      <th>260</th>\n",
              "      <td>2016-01-11</td>\n",
              "      <td>태국</td>\n",
              "      <td>태국</td>\n",
              "      <td>판매용</td>\n",
              "      <td>새우</td>\n",
              "      <td>냉동</td>\n",
              "      <td>7.776818</td>\n",
              "      <td>2016</td>\n",
              "    </tr>\n",
              "    <tr>\n",
              "      <th>...</th>\n",
              "      <td>...</td>\n",
              "      <td>...</td>\n",
              "      <td>...</td>\n",
              "      <td>...</td>\n",
              "      <td>...</td>\n",
              "      <td>...</td>\n",
              "      <td>...</td>\n",
              "      <td>...</td>\n",
              "    </tr>\n",
              "    <tr>\n",
              "      <th>51083</th>\n",
              "      <td>2020-12-21</td>\n",
              "      <td>태국</td>\n",
              "      <td>태국</td>\n",
              "      <td>판매용</td>\n",
              "      <td>새우</td>\n",
              "      <td>냉동,살</td>\n",
              "      <td>10.962161</td>\n",
              "      <td>2020</td>\n",
              "    </tr>\n",
              "    <tr>\n",
              "      <th>51095</th>\n",
              "      <td>2020-12-21</td>\n",
              "      <td>태국</td>\n",
              "      <td>태국</td>\n",
              "      <td>판매용</td>\n",
              "      <td>새우</td>\n",
              "      <td>냉동,살,자숙,포장횟감</td>\n",
              "      <td>17.438895</td>\n",
              "      <td>2020</td>\n",
              "    </tr>\n",
              "    <tr>\n",
              "      <th>51199</th>\n",
              "      <td>2020-12-28</td>\n",
              "      <td>태국</td>\n",
              "      <td>태국</td>\n",
              "      <td>판매용</td>\n",
              "      <td>새우</td>\n",
              "      <td>냉동,살,자숙</td>\n",
              "      <td>15.780000</td>\n",
              "      <td>2020</td>\n",
              "    </tr>\n",
              "    <tr>\n",
              "      <th>51276</th>\n",
              "      <td>2020-12-28</td>\n",
              "      <td>태국</td>\n",
              "      <td>태국</td>\n",
              "      <td>판매용</td>\n",
              "      <td>새우</td>\n",
              "      <td>냉동,살,자숙,포장횟감</td>\n",
              "      <td>21.040000</td>\n",
              "      <td>2020</td>\n",
              "    </tr>\n",
              "    <tr>\n",
              "      <th>51284</th>\n",
              "      <td>2020-12-28</td>\n",
              "      <td>태국</td>\n",
              "      <td>태국</td>\n",
              "      <td>판매용</td>\n",
              "      <td>새우</td>\n",
              "      <td>냉동,살</td>\n",
              "      <td>9.620000</td>\n",
              "      <td>2020</td>\n",
              "    </tr>\n",
              "  </tbody>\n",
              "</table>\n",
              "<p>993 rows × 8 columns</p>\n",
              "</div>"
            ],
            "text/plain": [
              "            date ctry1 ctry2 purpose cat2   import_type      price  year\n",
              "106   2016-01-04    태국    태국     판매용   새우       냉동,살,자숙  14.585459  2016\n",
              "107   2016-01-04    태국    태국     판매용   새우          냉동,살  16.355613  2016\n",
              "144   2016-01-04    태국    태국     판매용   새우            냉장   9.377045  2016\n",
              "155   2016-01-04    태국    태국     판매용   새우            냉장   9.021653  2016\n",
              "260   2016-01-11    태국    태국     판매용   새우            냉동   7.776818  2016\n",
              "...          ...   ...   ...     ...  ...           ...        ...   ...\n",
              "51083 2020-12-21    태국    태국     판매용   새우          냉동,살  10.962161  2020\n",
              "51095 2020-12-21    태국    태국     판매용   새우  냉동,살,자숙,포장횟감  17.438895  2020\n",
              "51199 2020-12-28    태국    태국     판매용   새우       냉동,살,자숙  15.780000  2020\n",
              "51276 2020-12-28    태국    태국     판매용   새우  냉동,살,자숙,포장횟감  21.040000  2020\n",
              "51284 2020-12-28    태국    태국     판매용   새우          냉동,살   9.620000  2020\n",
              "\n",
              "[993 rows x 8 columns]"
            ]
          },
          "metadata": {},
          "execution_count": 200
        }
      ]
    },
    {
      "cell_type": "code",
      "metadata": {
        "colab": {
          "base_uri": "https://localhost:8080/",
          "height": 297
        },
        "id": "9EePJF_TW-6k",
        "outputId": "d0bcfce9-5630-40e4-ac18-9cccdc188e11"
      },
      "source": [
        "thai.groupby(by = thai.import_type).count()"
      ],
      "execution_count": null,
      "outputs": [
        {
          "output_type": "execute_result",
          "data": {
            "text/html": [
              "<div>\n",
              "<style scoped>\n",
              "    .dataframe tbody tr th:only-of-type {\n",
              "        vertical-align: middle;\n",
              "    }\n",
              "\n",
              "    .dataframe tbody tr th {\n",
              "        vertical-align: top;\n",
              "    }\n",
              "\n",
              "    .dataframe thead th {\n",
              "        text-align: right;\n",
              "    }\n",
              "</style>\n",
              "<table border=\"1\" class=\"dataframe\">\n",
              "  <thead>\n",
              "    <tr style=\"text-align: right;\">\n",
              "      <th></th>\n",
              "      <th>date</th>\n",
              "      <th>ctry1</th>\n",
              "      <th>ctry2</th>\n",
              "      <th>purpose</th>\n",
              "      <th>cat2</th>\n",
              "      <th>price</th>\n",
              "      <th>year</th>\n",
              "    </tr>\n",
              "    <tr>\n",
              "      <th>import_type</th>\n",
              "      <th></th>\n",
              "      <th></th>\n",
              "      <th></th>\n",
              "      <th></th>\n",
              "      <th></th>\n",
              "      <th></th>\n",
              "      <th></th>\n",
              "    </tr>\n",
              "  </thead>\n",
              "  <tbody>\n",
              "    <tr>\n",
              "      <th>냉동</th>\n",
              "      <td>24</td>\n",
              "      <td>24</td>\n",
              "      <td>24</td>\n",
              "      <td>24</td>\n",
              "      <td>24</td>\n",
              "      <td>24</td>\n",
              "      <td>24</td>\n",
              "    </tr>\n",
              "    <tr>\n",
              "      <th>냉동,살</th>\n",
              "      <td>199</td>\n",
              "      <td>199</td>\n",
              "      <td>199</td>\n",
              "      <td>199</td>\n",
              "      <td>199</td>\n",
              "      <td>199</td>\n",
              "      <td>199</td>\n",
              "    </tr>\n",
              "    <tr>\n",
              "      <th>냉동,살,자숙</th>\n",
              "      <td>147</td>\n",
              "      <td>147</td>\n",
              "      <td>147</td>\n",
              "      <td>147</td>\n",
              "      <td>147</td>\n",
              "      <td>147</td>\n",
              "      <td>147</td>\n",
              "    </tr>\n",
              "    <tr>\n",
              "      <th>냉동,살,자숙,포장횟감</th>\n",
              "      <td>213</td>\n",
              "      <td>213</td>\n",
              "      <td>213</td>\n",
              "      <td>213</td>\n",
              "      <td>213</td>\n",
              "      <td>213</td>\n",
              "      <td>213</td>\n",
              "    </tr>\n",
              "    <tr>\n",
              "      <th>냉동,살,포장횟감</th>\n",
              "      <td>1</td>\n",
              "      <td>1</td>\n",
              "      <td>1</td>\n",
              "      <td>1</td>\n",
              "      <td>1</td>\n",
              "      <td>1</td>\n",
              "      <td>1</td>\n",
              "    </tr>\n",
              "    <tr>\n",
              "      <th>냉동,자숙</th>\n",
              "      <td>126</td>\n",
              "      <td>126</td>\n",
              "      <td>126</td>\n",
              "      <td>126</td>\n",
              "      <td>126</td>\n",
              "      <td>126</td>\n",
              "      <td>126</td>\n",
              "    </tr>\n",
              "    <tr>\n",
              "      <th>냉장</th>\n",
              "      <td>283</td>\n",
              "      <td>283</td>\n",
              "      <td>283</td>\n",
              "      <td>283</td>\n",
              "      <td>283</td>\n",
              "      <td>283</td>\n",
              "      <td>283</td>\n",
              "    </tr>\n",
              "  </tbody>\n",
              "</table>\n",
              "</div>"
            ],
            "text/plain": [
              "              date  ctry1  ctry2  purpose  cat2  price  year\n",
              "import_type                                                 \n",
              "냉동              24     24     24       24    24     24    24\n",
              "냉동,살           199    199    199      199   199    199   199\n",
              "냉동,살,자숙        147    147    147      147   147    147   147\n",
              "냉동,살,자숙,포장횟감   213    213    213      213   213    213   213\n",
              "냉동,살,포장횟감        1      1      1        1     1      1     1\n",
              "냉동,자숙          126    126    126      126   126    126   126\n",
              "냉장             283    283    283      283   283    283   283"
            ]
          },
          "metadata": {},
          "execution_count": 201
        }
      ]
    },
    {
      "cell_type": "code",
      "metadata": {
        "id": "ui79FjV-XJ34"
      },
      "source": [
        "## thai = ['냉장', '냉동,살,자숙,포장횟감']\n",
        "\n",
        "thai_냉장 = thai[thai.import_type == '냉장']\n",
        "thai_냉동살자숙포장 = thai[thai.import_type == '냉동,살,자숙,포장횟감']\n"
      ],
      "execution_count": null,
      "outputs": []
    },
    {
      "cell_type": "code",
      "metadata": {
        "id": "aibyACggXd5W"
      },
      "source": [
        "thai_냉장 = thai_냉장[thai_냉장.purpose == '판매용']"
      ],
      "execution_count": null,
      "outputs": []
    },
    {
      "cell_type": "code",
      "metadata": {
        "colab": {
          "base_uri": "https://localhost:8080/",
          "height": 419
        },
        "id": "szl9J1LyXldr",
        "outputId": "cca3710b-a8e1-4b3b-fb87-d29ad0d9f5f2"
      },
      "source": [
        "thai_냉장"
      ],
      "execution_count": null,
      "outputs": [
        {
          "output_type": "execute_result",
          "data": {
            "text/html": [
              "<div>\n",
              "<style scoped>\n",
              "    .dataframe tbody tr th:only-of-type {\n",
              "        vertical-align: middle;\n",
              "    }\n",
              "\n",
              "    .dataframe tbody tr th {\n",
              "        vertical-align: top;\n",
              "    }\n",
              "\n",
              "    .dataframe thead th {\n",
              "        text-align: right;\n",
              "    }\n",
              "</style>\n",
              "<table border=\"1\" class=\"dataframe\">\n",
              "  <thead>\n",
              "    <tr style=\"text-align: right;\">\n",
              "      <th></th>\n",
              "      <th>date</th>\n",
              "      <th>ctry1</th>\n",
              "      <th>ctry2</th>\n",
              "      <th>purpose</th>\n",
              "      <th>cat2</th>\n",
              "      <th>import_type</th>\n",
              "      <th>price</th>\n",
              "      <th>year</th>\n",
              "    </tr>\n",
              "  </thead>\n",
              "  <tbody>\n",
              "    <tr>\n",
              "      <th>144</th>\n",
              "      <td>2016-01-04</td>\n",
              "      <td>태국</td>\n",
              "      <td>태국</td>\n",
              "      <td>판매용</td>\n",
              "      <td>새우</td>\n",
              "      <td>냉장</td>\n",
              "      <td>9.377045</td>\n",
              "      <td>2016</td>\n",
              "    </tr>\n",
              "    <tr>\n",
              "      <th>155</th>\n",
              "      <td>2016-01-04</td>\n",
              "      <td>태국</td>\n",
              "      <td>태국</td>\n",
              "      <td>판매용</td>\n",
              "      <td>새우</td>\n",
              "      <td>냉장</td>\n",
              "      <td>9.021653</td>\n",
              "      <td>2016</td>\n",
              "    </tr>\n",
              "    <tr>\n",
              "      <th>335</th>\n",
              "      <td>2016-01-11</td>\n",
              "      <td>태국</td>\n",
              "      <td>태국</td>\n",
              "      <td>판매용</td>\n",
              "      <td>새우</td>\n",
              "      <td>냉장</td>\n",
              "      <td>10.727038</td>\n",
              "      <td>2016</td>\n",
              "    </tr>\n",
              "    <tr>\n",
              "      <th>408</th>\n",
              "      <td>2016-01-11</td>\n",
              "      <td>태국</td>\n",
              "      <td>태국</td>\n",
              "      <td>판매용</td>\n",
              "      <td>새우</td>\n",
              "      <td>냉장</td>\n",
              "      <td>9.265868</td>\n",
              "      <td>2016</td>\n",
              "    </tr>\n",
              "    <tr>\n",
              "      <th>547</th>\n",
              "      <td>2016-01-18</td>\n",
              "      <td>태국</td>\n",
              "      <td>태국</td>\n",
              "      <td>판매용</td>\n",
              "      <td>새우</td>\n",
              "      <td>냉장</td>\n",
              "      <td>19.028442</td>\n",
              "      <td>2016</td>\n",
              "    </tr>\n",
              "    <tr>\n",
              "      <th>...</th>\n",
              "      <td>...</td>\n",
              "      <td>...</td>\n",
              "      <td>...</td>\n",
              "      <td>...</td>\n",
              "      <td>...</td>\n",
              "      <td>...</td>\n",
              "      <td>...</td>\n",
              "      <td>...</td>\n",
              "    </tr>\n",
              "    <tr>\n",
              "      <th>40966</th>\n",
              "      <td>2019-12-02</td>\n",
              "      <td>태국</td>\n",
              "      <td>태국</td>\n",
              "      <td>판매용</td>\n",
              "      <td>새우</td>\n",
              "      <td>냉장</td>\n",
              "      <td>11.500000</td>\n",
              "      <td>2019</td>\n",
              "    </tr>\n",
              "    <tr>\n",
              "      <th>41174</th>\n",
              "      <td>2019-12-09</td>\n",
              "      <td>태국</td>\n",
              "      <td>태국</td>\n",
              "      <td>판매용</td>\n",
              "      <td>새우</td>\n",
              "      <td>냉장</td>\n",
              "      <td>11.500000</td>\n",
              "      <td>2019</td>\n",
              "    </tr>\n",
              "    <tr>\n",
              "      <th>41405</th>\n",
              "      <td>2019-12-16</td>\n",
              "      <td>태국</td>\n",
              "      <td>태국</td>\n",
              "      <td>판매용</td>\n",
              "      <td>새우</td>\n",
              "      <td>냉장</td>\n",
              "      <td>11.500000</td>\n",
              "      <td>2019</td>\n",
              "    </tr>\n",
              "    <tr>\n",
              "      <th>41650</th>\n",
              "      <td>2019-12-23</td>\n",
              "      <td>태국</td>\n",
              "      <td>태국</td>\n",
              "      <td>판매용</td>\n",
              "      <td>새우</td>\n",
              "      <td>냉장</td>\n",
              "      <td>11.500000</td>\n",
              "      <td>2019</td>\n",
              "    </tr>\n",
              "    <tr>\n",
              "      <th>41768</th>\n",
              "      <td>2019-12-30</td>\n",
              "      <td>태국</td>\n",
              "      <td>태국</td>\n",
              "      <td>판매용</td>\n",
              "      <td>새우</td>\n",
              "      <td>냉장</td>\n",
              "      <td>11.500000</td>\n",
              "      <td>2019</td>\n",
              "    </tr>\n",
              "  </tbody>\n",
              "</table>\n",
              "<p>283 rows × 8 columns</p>\n",
              "</div>"
            ],
            "text/plain": [
              "            date ctry1 ctry2 purpose cat2 import_type      price  year\n",
              "144   2016-01-04    태국    태국     판매용   새우          냉장   9.377045  2016\n",
              "155   2016-01-04    태국    태국     판매용   새우          냉장   9.021653  2016\n",
              "335   2016-01-11    태국    태국     판매용   새우          냉장  10.727038  2016\n",
              "408   2016-01-11    태국    태국     판매용   새우          냉장   9.265868  2016\n",
              "547   2016-01-18    태국    태국     판매용   새우          냉장  19.028442  2016\n",
              "...          ...   ...   ...     ...  ...         ...        ...   ...\n",
              "40966 2019-12-02    태국    태국     판매용   새우          냉장  11.500000  2019\n",
              "41174 2019-12-09    태국    태국     판매용   새우          냉장  11.500000  2019\n",
              "41405 2019-12-16    태국    태국     판매용   새우          냉장  11.500000  2019\n",
              "41650 2019-12-23    태국    태국     판매용   새우          냉장  11.500000  2019\n",
              "41768 2019-12-30    태국    태국     판매용   새우          냉장  11.500000  2019\n",
              "\n",
              "[283 rows x 8 columns]"
            ]
          },
          "metadata": {},
          "execution_count": 205
        }
      ]
    },
    {
      "cell_type": "code",
      "metadata": {
        "id": "2Zfui44WXqWa"
      },
      "source": [
        "thai_l1 = thai_냉장.price.groupby(by = thai_냉장.date).mean()"
      ],
      "execution_count": null,
      "outputs": []
    },
    {
      "cell_type": "code",
      "metadata": {
        "colab": {
          "base_uri": "https://localhost:8080/"
        },
        "id": "zOeWVULjXw5C",
        "outputId": "8ae0eb66-2f1e-4dd1-e126-0d35e6f1fbc7"
      },
      "source": [
        "thai_l1"
      ],
      "execution_count": null,
      "outputs": [
        {
          "output_type": "execute_result",
          "data": {
            "text/plain": [
              "date\n",
              "2016-01-04     9.199349\n",
              "2016-01-11     9.996453\n",
              "2016-01-18    14.206107\n",
              "2016-01-25    14.239936\n",
              "2016-02-01    14.745228\n",
              "                ...    \n",
              "2019-12-02    11.500000\n",
              "2019-12-09    11.500000\n",
              "2019-12-16    11.500000\n",
              "2019-12-23    11.500000\n",
              "2019-12-30    11.500000\n",
              "Name: price, Length: 181, dtype: float64"
            ]
          },
          "metadata": {},
          "execution_count": 211
        }
      ]
    },
    {
      "cell_type": "code",
      "metadata": {
        "id": "wLsCPVzKYgdP"
      },
      "source": [
        "x = pd.DataFrame(thai_l1)"
      ],
      "execution_count": null,
      "outputs": []
    },
    {
      "cell_type": "code",
      "metadata": {
        "colab": {
          "base_uri": "https://localhost:8080/",
          "height": 450
        },
        "id": "qGJw6W3t1IvE",
        "outputId": "7c44fc3f-8977-4139-c3fc-3b11e83b5967"
      },
      "source": [
        "x"
      ],
      "execution_count": null,
      "outputs": [
        {
          "output_type": "execute_result",
          "data": {
            "text/html": [
              "<div>\n",
              "<style scoped>\n",
              "    .dataframe tbody tr th:only-of-type {\n",
              "        vertical-align: middle;\n",
              "    }\n",
              "\n",
              "    .dataframe tbody tr th {\n",
              "        vertical-align: top;\n",
              "    }\n",
              "\n",
              "    .dataframe thead th {\n",
              "        text-align: right;\n",
              "    }\n",
              "</style>\n",
              "<table border=\"1\" class=\"dataframe\">\n",
              "  <thead>\n",
              "    <tr style=\"text-align: right;\">\n",
              "      <th></th>\n",
              "      <th>price</th>\n",
              "    </tr>\n",
              "    <tr>\n",
              "      <th>date</th>\n",
              "      <th></th>\n",
              "    </tr>\n",
              "  </thead>\n",
              "  <tbody>\n",
              "    <tr>\n",
              "      <th>2016-01-04</th>\n",
              "      <td>9.199349</td>\n",
              "    </tr>\n",
              "    <tr>\n",
              "      <th>2016-01-11</th>\n",
              "      <td>9.996453</td>\n",
              "    </tr>\n",
              "    <tr>\n",
              "      <th>2016-01-18</th>\n",
              "      <td>14.206107</td>\n",
              "    </tr>\n",
              "    <tr>\n",
              "      <th>2016-01-25</th>\n",
              "      <td>14.239936</td>\n",
              "    </tr>\n",
              "    <tr>\n",
              "      <th>2016-02-01</th>\n",
              "      <td>14.745228</td>\n",
              "    </tr>\n",
              "    <tr>\n",
              "      <th>...</th>\n",
              "      <td>...</td>\n",
              "    </tr>\n",
              "    <tr>\n",
              "      <th>2019-12-02</th>\n",
              "      <td>11.500000</td>\n",
              "    </tr>\n",
              "    <tr>\n",
              "      <th>2019-12-09</th>\n",
              "      <td>11.500000</td>\n",
              "    </tr>\n",
              "    <tr>\n",
              "      <th>2019-12-16</th>\n",
              "      <td>11.500000</td>\n",
              "    </tr>\n",
              "    <tr>\n",
              "      <th>2019-12-23</th>\n",
              "      <td>11.500000</td>\n",
              "    </tr>\n",
              "    <tr>\n",
              "      <th>2019-12-30</th>\n",
              "      <td>11.500000</td>\n",
              "    </tr>\n",
              "  </tbody>\n",
              "</table>\n",
              "<p>181 rows × 1 columns</p>\n",
              "</div>"
            ],
            "text/plain": [
              "                price\n",
              "date                 \n",
              "2016-01-04   9.199349\n",
              "2016-01-11   9.996453\n",
              "2016-01-18  14.206107\n",
              "2016-01-25  14.239936\n",
              "2016-02-01  14.745228\n",
              "...               ...\n",
              "2019-12-02  11.500000\n",
              "2019-12-09  11.500000\n",
              "2019-12-16  11.500000\n",
              "2019-12-23  11.500000\n",
              "2019-12-30  11.500000\n",
              "\n",
              "[181 rows x 1 columns]"
            ]
          },
          "metadata": {},
          "execution_count": 83
        }
      ]
    },
    {
      "cell_type": "code",
      "metadata": {
        "id": "nsSt8lbTYmax"
      },
      "source": [
        "x.to_csv('./working directory/새우_태국_냉장.csv')"
      ],
      "execution_count": null,
      "outputs": []
    },
    {
      "cell_type": "code",
      "metadata": {
        "colab": {
          "base_uri": "https://localhost:8080/"
        },
        "id": "AVtWA9cOX-IX",
        "outputId": "7ead1a8c-9d41-4c67-c1da-381de0f06fa8"
      },
      "source": [
        "thai_냉동살자숙포장.purpose.unique()"
      ],
      "execution_count": null,
      "outputs": [
        {
          "output_type": "execute_result",
          "data": {
            "text/plain": [
              "array(['판매용'], dtype=object)"
            ]
          },
          "metadata": {},
          "execution_count": 214
        }
      ]
    },
    {
      "cell_type": "code",
      "metadata": {
        "colab": {
          "base_uri": "https://localhost:8080/"
        },
        "id": "ezvlh5Zn1Pd9",
        "outputId": "04963522-9166-4eb0-9805-69f9363f5344"
      },
      "source": [
        "thai_냉동살자숙포장 = cleaning(thai_냉동살자숙포장)"
      ],
      "execution_count": null,
      "outputs": [
        {
          "output_type": "stream",
          "name": "stderr",
          "text": [
            "/usr/local/lib/python3.7/dist-packages/ipykernel_launcher.py:2: SettingWithCopyWarning: \n",
            "A value is trying to be set on a copy of a slice from a DataFrame.\n",
            "Try using .loc[row_indexer,col_indexer] = value instead\n",
            "\n",
            "See the caveats in the documentation: https://pandas.pydata.org/pandas-docs/stable/user_guide/indexing.html#returning-a-view-versus-a-copy\n",
            "  \n"
          ]
        }
      ]
    },
    {
      "cell_type": "code",
      "metadata": {
        "colab": {
          "base_uri": "https://localhost:8080/",
          "height": 450
        },
        "id": "CLT-Rx1r1SyI",
        "outputId": "8bc00602-481a-41a9-cd13-fbc6775c9c38"
      },
      "source": [
        "thai_냉동살자숙포장"
      ],
      "execution_count": null,
      "outputs": [
        {
          "output_type": "execute_result",
          "data": {
            "text/html": [
              "<div>\n",
              "<style scoped>\n",
              "    .dataframe tbody tr th:only-of-type {\n",
              "        vertical-align: middle;\n",
              "    }\n",
              "\n",
              "    .dataframe tbody tr th {\n",
              "        vertical-align: top;\n",
              "    }\n",
              "\n",
              "    .dataframe thead th {\n",
              "        text-align: right;\n",
              "    }\n",
              "</style>\n",
              "<table border=\"1\" class=\"dataframe\">\n",
              "  <thead>\n",
              "    <tr style=\"text-align: right;\">\n",
              "      <th></th>\n",
              "      <th>price</th>\n",
              "    </tr>\n",
              "    <tr>\n",
              "      <th>date</th>\n",
              "      <th></th>\n",
              "    </tr>\n",
              "  </thead>\n",
              "  <tbody>\n",
              "    <tr>\n",
              "      <th>2016-01-11</th>\n",
              "      <td>20.415969</td>\n",
              "    </tr>\n",
              "    <tr>\n",
              "      <th>2016-01-25</th>\n",
              "      <td>18.780651</td>\n",
              "    </tr>\n",
              "    <tr>\n",
              "      <th>2016-02-15</th>\n",
              "      <td>19.946290</td>\n",
              "    </tr>\n",
              "    <tr>\n",
              "      <th>2016-02-29</th>\n",
              "      <td>20.450451</td>\n",
              "    </tr>\n",
              "    <tr>\n",
              "      <th>2016-03-14</th>\n",
              "      <td>19.037789</td>\n",
              "    </tr>\n",
              "    <tr>\n",
              "      <th>...</th>\n",
              "      <td>...</td>\n",
              "    </tr>\n",
              "    <tr>\n",
              "      <th>2020-11-23</th>\n",
              "      <td>16.108291</td>\n",
              "    </tr>\n",
              "    <tr>\n",
              "      <th>2020-12-07</th>\n",
              "      <td>13.932981</td>\n",
              "    </tr>\n",
              "    <tr>\n",
              "      <th>2020-12-14</th>\n",
              "      <td>16.991375</td>\n",
              "    </tr>\n",
              "    <tr>\n",
              "      <th>2020-12-21</th>\n",
              "      <td>17.438895</td>\n",
              "    </tr>\n",
              "    <tr>\n",
              "      <th>2020-12-28</th>\n",
              "      <td>21.040000</td>\n",
              "    </tr>\n",
              "  </tbody>\n",
              "</table>\n",
              "<p>213 rows × 1 columns</p>\n",
              "</div>"
            ],
            "text/plain": [
              "                price\n",
              "date                 \n",
              "2016-01-11  20.415969\n",
              "2016-01-25  18.780651\n",
              "2016-02-15  19.946290\n",
              "2016-02-29  20.450451\n",
              "2016-03-14  19.037789\n",
              "...               ...\n",
              "2020-11-23  16.108291\n",
              "2020-12-07  13.932981\n",
              "2020-12-14  16.991375\n",
              "2020-12-21  17.438895\n",
              "2020-12-28  21.040000\n",
              "\n",
              "[213 rows x 1 columns]"
            ]
          },
          "metadata": {},
          "execution_count": 87
        }
      ]
    },
    {
      "cell_type": "code",
      "metadata": {
        "id": "oRi077egYWDA"
      },
      "source": [
        "thai_냉동살자숙포장.to_csv('./working directory/새우_태국_냉동살자숙포장.csv')"
      ],
      "execution_count": null,
      "outputs": []
    },
    {
      "cell_type": "markdown",
      "metadata": {
        "id": "2MRKhZi2Y4hh"
      },
      "source": [
        "### 4-3-3.새우 중국"
      ]
    },
    {
      "cell_type": "code",
      "metadata": {
        "id": "Rr-BypkXY5pw"
      },
      "source": [
        "china = df_shrimp[df_shrimp.ctry1 == '중국']"
      ],
      "execution_count": null,
      "outputs": []
    },
    {
      "cell_type": "code",
      "metadata": {
        "colab": {
          "base_uri": "https://localhost:8080/",
          "height": 235
        },
        "id": "qdfg1O6jY_-Z",
        "outputId": "b7fb197b-cbf0-4922-e761-fe503964b015"
      },
      "source": [
        "china.groupby(by = china.import_type).count()\n",
        "\n",
        "## ['건조', '냉동,살', '염장']"
      ],
      "execution_count": null,
      "outputs": [
        {
          "output_type": "execute_result",
          "data": {
            "text/html": [
              "<div>\n",
              "<style scoped>\n",
              "    .dataframe tbody tr th:only-of-type {\n",
              "        vertical-align: middle;\n",
              "    }\n",
              "\n",
              "    .dataframe tbody tr th {\n",
              "        vertical-align: top;\n",
              "    }\n",
              "\n",
              "    .dataframe thead th {\n",
              "        text-align: right;\n",
              "    }\n",
              "</style>\n",
              "<table border=\"1\" class=\"dataframe\">\n",
              "  <thead>\n",
              "    <tr style=\"text-align: right;\">\n",
              "      <th></th>\n",
              "      <th>date</th>\n",
              "      <th>ctry1</th>\n",
              "      <th>ctry2</th>\n",
              "      <th>purpose</th>\n",
              "      <th>cat2</th>\n",
              "      <th>price</th>\n",
              "      <th>year</th>\n",
              "    </tr>\n",
              "    <tr>\n",
              "      <th>import_type</th>\n",
              "      <th></th>\n",
              "      <th></th>\n",
              "      <th></th>\n",
              "      <th></th>\n",
              "      <th></th>\n",
              "      <th></th>\n",
              "      <th></th>\n",
              "    </tr>\n",
              "  </thead>\n",
              "  <tbody>\n",
              "    <tr>\n",
              "      <th>건조</th>\n",
              "      <td>228</td>\n",
              "      <td>228</td>\n",
              "      <td>228</td>\n",
              "      <td>228</td>\n",
              "      <td>228</td>\n",
              "      <td>228</td>\n",
              "      <td>228</td>\n",
              "    </tr>\n",
              "    <tr>\n",
              "      <th>냉동</th>\n",
              "      <td>16</td>\n",
              "      <td>16</td>\n",
              "      <td>16</td>\n",
              "      <td>16</td>\n",
              "      <td>16</td>\n",
              "      <td>16</td>\n",
              "      <td>16</td>\n",
              "    </tr>\n",
              "    <tr>\n",
              "      <th>냉동,살</th>\n",
              "      <td>329</td>\n",
              "      <td>329</td>\n",
              "      <td>329</td>\n",
              "      <td>329</td>\n",
              "      <td>329</td>\n",
              "      <td>329</td>\n",
              "      <td>329</td>\n",
              "    </tr>\n",
              "    <tr>\n",
              "      <th>냉동,살,자숙</th>\n",
              "      <td>24</td>\n",
              "      <td>24</td>\n",
              "      <td>24</td>\n",
              "      <td>24</td>\n",
              "      <td>24</td>\n",
              "      <td>24</td>\n",
              "      <td>24</td>\n",
              "    </tr>\n",
              "    <tr>\n",
              "      <th>염장</th>\n",
              "      <td>185</td>\n",
              "      <td>185</td>\n",
              "      <td>185</td>\n",
              "      <td>185</td>\n",
              "      <td>185</td>\n",
              "      <td>185</td>\n",
              "      <td>185</td>\n",
              "    </tr>\n",
              "  </tbody>\n",
              "</table>\n",
              "</div>"
            ],
            "text/plain": [
              "             date  ctry1  ctry2  purpose  cat2  price  year\n",
              "import_type                                                \n",
              "건조            228    228    228      228   228    228   228\n",
              "냉동             16     16     16       16    16     16    16\n",
              "냉동,살          329    329    329      329   329    329   329\n",
              "냉동,살,자숙        24     24     24       24    24     24    24\n",
              "염장            185    185    185      185   185    185   185"
            ]
          },
          "metadata": {},
          "execution_count": 10
        }
      ]
    },
    {
      "cell_type": "code",
      "metadata": {
        "id": "8l6ubZtjZJYX"
      },
      "source": [
        "china_건조 = china[china.import_type == '건조']\n",
        "china_냉동살 = china[china.import_type == '냉동,살']\n",
        "china_염장 = china[china.import_type == '염장']"
      ],
      "execution_count": null,
      "outputs": []
    },
    {
      "cell_type": "code",
      "metadata": {
        "colab": {
          "base_uri": "https://localhost:8080/",
          "height": 419
        },
        "id": "IsM6P1nCh5em",
        "outputId": "ae79d116-c32d-4275-c174-1bd78aa19963"
      },
      "source": [
        "china_건조"
      ],
      "execution_count": null,
      "outputs": [
        {
          "output_type": "execute_result",
          "data": {
            "text/html": [
              "<div>\n",
              "<style scoped>\n",
              "    .dataframe tbody tr th:only-of-type {\n",
              "        vertical-align: middle;\n",
              "    }\n",
              "\n",
              "    .dataframe tbody tr th {\n",
              "        vertical-align: top;\n",
              "    }\n",
              "\n",
              "    .dataframe thead th {\n",
              "        text-align: right;\n",
              "    }\n",
              "</style>\n",
              "<table border=\"1\" class=\"dataframe\">\n",
              "  <thead>\n",
              "    <tr style=\"text-align: right;\">\n",
              "      <th></th>\n",
              "      <th>date</th>\n",
              "      <th>ctry1</th>\n",
              "      <th>ctry2</th>\n",
              "      <th>purpose</th>\n",
              "      <th>cat2</th>\n",
              "      <th>import_type</th>\n",
              "      <th>price</th>\n",
              "      <th>year</th>\n",
              "    </tr>\n",
              "  </thead>\n",
              "  <tbody>\n",
              "    <tr>\n",
              "      <th>136</th>\n",
              "      <td>2016-01-04</td>\n",
              "      <td>중국</td>\n",
              "      <td>중국</td>\n",
              "      <td>판매용</td>\n",
              "      <td>새우</td>\n",
              "      <td>건조</td>\n",
              "      <td>5.000000</td>\n",
              "      <td>2016</td>\n",
              "    </tr>\n",
              "    <tr>\n",
              "      <th>341</th>\n",
              "      <td>2016-01-11</td>\n",
              "      <td>중국</td>\n",
              "      <td>중국</td>\n",
              "      <td>판매용</td>\n",
              "      <td>새우</td>\n",
              "      <td>건조</td>\n",
              "      <td>5.242424</td>\n",
              "      <td>2016</td>\n",
              "    </tr>\n",
              "    <tr>\n",
              "      <th>538</th>\n",
              "      <td>2016-01-18</td>\n",
              "      <td>중국</td>\n",
              "      <td>중국</td>\n",
              "      <td>판매용</td>\n",
              "      <td>새우</td>\n",
              "      <td>건조</td>\n",
              "      <td>5.600589</td>\n",
              "      <td>2016</td>\n",
              "    </tr>\n",
              "    <tr>\n",
              "      <th>767</th>\n",
              "      <td>2016-01-25</td>\n",
              "      <td>중국</td>\n",
              "      <td>중국</td>\n",
              "      <td>판매용</td>\n",
              "      <td>새우</td>\n",
              "      <td>건조</td>\n",
              "      <td>4.834842</td>\n",
              "      <td>2016</td>\n",
              "    </tr>\n",
              "    <tr>\n",
              "      <th>993</th>\n",
              "      <td>2016-02-01</td>\n",
              "      <td>중국</td>\n",
              "      <td>중국</td>\n",
              "      <td>판매용</td>\n",
              "      <td>새우</td>\n",
              "      <td>건조</td>\n",
              "      <td>5.968992</td>\n",
              "      <td>2016</td>\n",
              "    </tr>\n",
              "    <tr>\n",
              "      <th>...</th>\n",
              "      <td>...</td>\n",
              "      <td>...</td>\n",
              "      <td>...</td>\n",
              "      <td>...</td>\n",
              "      <td>...</td>\n",
              "      <td>...</td>\n",
              "      <td>...</td>\n",
              "      <td>...</td>\n",
              "    </tr>\n",
              "    <tr>\n",
              "      <th>50515</th>\n",
              "      <td>2020-11-30</td>\n",
              "      <td>중국</td>\n",
              "      <td>중국</td>\n",
              "      <td>판매용</td>\n",
              "      <td>새우</td>\n",
              "      <td>건조</td>\n",
              "      <td>8.448052</td>\n",
              "      <td>2020</td>\n",
              "    </tr>\n",
              "    <tr>\n",
              "      <th>50745</th>\n",
              "      <td>2020-12-07</td>\n",
              "      <td>중국</td>\n",
              "      <td>중국</td>\n",
              "      <td>판매용</td>\n",
              "      <td>새우</td>\n",
              "      <td>건조</td>\n",
              "      <td>8.907333</td>\n",
              "      <td>2020</td>\n",
              "    </tr>\n",
              "    <tr>\n",
              "      <th>50938</th>\n",
              "      <td>2020-12-14</td>\n",
              "      <td>중국</td>\n",
              "      <td>중국</td>\n",
              "      <td>판매용</td>\n",
              "      <td>새우</td>\n",
              "      <td>건조</td>\n",
              "      <td>9.711301</td>\n",
              "      <td>2020</td>\n",
              "    </tr>\n",
              "    <tr>\n",
              "      <th>51097</th>\n",
              "      <td>2020-12-21</td>\n",
              "      <td>중국</td>\n",
              "      <td>중국</td>\n",
              "      <td>판매용</td>\n",
              "      <td>새우</td>\n",
              "      <td>건조</td>\n",
              "      <td>9.968652</td>\n",
              "      <td>2020</td>\n",
              "    </tr>\n",
              "    <tr>\n",
              "      <th>51306</th>\n",
              "      <td>2020-12-28</td>\n",
              "      <td>중국</td>\n",
              "      <td>중국</td>\n",
              "      <td>판매용</td>\n",
              "      <td>새우</td>\n",
              "      <td>건조</td>\n",
              "      <td>10.180000</td>\n",
              "      <td>2020</td>\n",
              "    </tr>\n",
              "  </tbody>\n",
              "</table>\n",
              "<p>228 rows × 8 columns</p>\n",
              "</div>"
            ],
            "text/plain": [
              "            date ctry1 ctry2 purpose cat2 import_type      price  year\n",
              "136   2016-01-04    중국    중국     판매용   새우          건조   5.000000  2016\n",
              "341   2016-01-11    중국    중국     판매용   새우          건조   5.242424  2016\n",
              "538   2016-01-18    중국    중국     판매용   새우          건조   5.600589  2016\n",
              "767   2016-01-25    중국    중국     판매용   새우          건조   4.834842  2016\n",
              "993   2016-02-01    중국    중국     판매용   새우          건조   5.968992  2016\n",
              "...          ...   ...   ...     ...  ...         ...        ...   ...\n",
              "50515 2020-11-30    중국    중국     판매용   새우          건조   8.448052  2020\n",
              "50745 2020-12-07    중국    중국     판매용   새우          건조   8.907333  2020\n",
              "50938 2020-12-14    중국    중국     판매용   새우          건조   9.711301  2020\n",
              "51097 2020-12-21    중국    중국     판매용   새우          건조   9.968652  2020\n",
              "51306 2020-12-28    중국    중국     판매용   새우          건조  10.180000  2020\n",
              "\n",
              "[228 rows x 8 columns]"
            ]
          },
          "metadata": {},
          "execution_count": 13
        }
      ]
    },
    {
      "cell_type": "code",
      "metadata": {
        "colab": {
          "base_uri": "https://localhost:8080/"
        },
        "id": "O4MTotenZWDT",
        "outputId": "338b82e2-4067-44fb-8bbe-718b3cb0a12c"
      },
      "source": [
        "len(china_건조.date.unique())"
      ],
      "execution_count": null,
      "outputs": [
        {
          "output_type": "execute_result",
          "data": {
            "text/plain": [
              "228"
            ]
          },
          "metadata": {},
          "execution_count": 225
        }
      ]
    },
    {
      "cell_type": "code",
      "metadata": {
        "colab": {
          "base_uri": "https://localhost:8080/"
        },
        "id": "zVSCKu5D1bSj",
        "outputId": "05f7f098-f520-4d4c-aecd-2f4c671f3d70"
      },
      "source": [
        "china_건조 = cleaning(china_건조)"
      ],
      "execution_count": null,
      "outputs": [
        {
          "output_type": "stream",
          "name": "stderr",
          "text": [
            "/usr/local/lib/python3.7/dist-packages/ipykernel_launcher.py:2: SettingWithCopyWarning: \n",
            "A value is trying to be set on a copy of a slice from a DataFrame.\n",
            "Try using .loc[row_indexer,col_indexer] = value instead\n",
            "\n",
            "See the caveats in the documentation: https://pandas.pydata.org/pandas-docs/stable/user_guide/indexing.html#returning-a-view-versus-a-copy\n",
            "  \n"
          ]
        }
      ]
    },
    {
      "cell_type": "code",
      "metadata": {
        "colab": {
          "base_uri": "https://localhost:8080/",
          "height": 450
        },
        "id": "nPSeB1hH1fNn",
        "outputId": "4c95cd32-7677-44be-af14-d3206443bbed"
      },
      "source": [
        "china_건조"
      ],
      "execution_count": null,
      "outputs": [
        {
          "output_type": "execute_result",
          "data": {
            "text/html": [
              "<div>\n",
              "<style scoped>\n",
              "    .dataframe tbody tr th:only-of-type {\n",
              "        vertical-align: middle;\n",
              "    }\n",
              "\n",
              "    .dataframe tbody tr th {\n",
              "        vertical-align: top;\n",
              "    }\n",
              "\n",
              "    .dataframe thead th {\n",
              "        text-align: right;\n",
              "    }\n",
              "</style>\n",
              "<table border=\"1\" class=\"dataframe\">\n",
              "  <thead>\n",
              "    <tr style=\"text-align: right;\">\n",
              "      <th></th>\n",
              "      <th>price</th>\n",
              "    </tr>\n",
              "    <tr>\n",
              "      <th>date</th>\n",
              "      <th></th>\n",
              "    </tr>\n",
              "  </thead>\n",
              "  <tbody>\n",
              "    <tr>\n",
              "      <th>2016-01-04</th>\n",
              "      <td>5.000000</td>\n",
              "    </tr>\n",
              "    <tr>\n",
              "      <th>2016-01-11</th>\n",
              "      <td>5.242424</td>\n",
              "    </tr>\n",
              "    <tr>\n",
              "      <th>2016-01-18</th>\n",
              "      <td>5.600589</td>\n",
              "    </tr>\n",
              "    <tr>\n",
              "      <th>2016-01-25</th>\n",
              "      <td>4.834842</td>\n",
              "    </tr>\n",
              "    <tr>\n",
              "      <th>2016-02-01</th>\n",
              "      <td>5.968992</td>\n",
              "    </tr>\n",
              "    <tr>\n",
              "      <th>...</th>\n",
              "      <td>...</td>\n",
              "    </tr>\n",
              "    <tr>\n",
              "      <th>2020-11-30</th>\n",
              "      <td>8.448052</td>\n",
              "    </tr>\n",
              "    <tr>\n",
              "      <th>2020-12-07</th>\n",
              "      <td>8.907333</td>\n",
              "    </tr>\n",
              "    <tr>\n",
              "      <th>2020-12-14</th>\n",
              "      <td>9.711301</td>\n",
              "    </tr>\n",
              "    <tr>\n",
              "      <th>2020-12-21</th>\n",
              "      <td>9.968652</td>\n",
              "    </tr>\n",
              "    <tr>\n",
              "      <th>2020-12-28</th>\n",
              "      <td>10.180000</td>\n",
              "    </tr>\n",
              "  </tbody>\n",
              "</table>\n",
              "<p>228 rows × 1 columns</p>\n",
              "</div>"
            ],
            "text/plain": [
              "                price\n",
              "date                 \n",
              "2016-01-04   5.000000\n",
              "2016-01-11   5.242424\n",
              "2016-01-18   5.600589\n",
              "2016-01-25   4.834842\n",
              "2016-02-01   5.968992\n",
              "...               ...\n",
              "2020-11-30   8.448052\n",
              "2020-12-07   8.907333\n",
              "2020-12-14   9.711301\n",
              "2020-12-21   9.968652\n",
              "2020-12-28  10.180000\n",
              "\n",
              "[228 rows x 1 columns]"
            ]
          },
          "metadata": {},
          "execution_count": 92
        }
      ]
    },
    {
      "cell_type": "code",
      "metadata": {
        "id": "t3CcLK8TjjCi"
      },
      "source": [
        "china_건조.to_csv('./working directory/새우_중국_건조.csv')\n",
        "\n",
        "\n",
        "#china_건조.to_csv(r'/content/drive/MyDrive/Colab Notebooks/bigcon/files/df_shrimp_china_dried.csv')"
      ],
      "execution_count": null,
      "outputs": []
    },
    {
      "cell_type": "code",
      "metadata": {
        "colab": {
          "base_uri": "https://localhost:8080/"
        },
        "id": "cjnuoe1LZh-k",
        "outputId": "ed74e67b-fa5b-4cb7-8ed9-a0aac6669b61"
      },
      "source": [
        "len(china_냉동살.date.unique())"
      ],
      "execution_count": null,
      "outputs": [
        {
          "output_type": "execute_result",
          "data": {
            "text/plain": [
              "212"
            ]
          },
          "metadata": {},
          "execution_count": 231
        }
      ]
    },
    {
      "cell_type": "code",
      "metadata": {
        "colab": {
          "base_uri": "https://localhost:8080/",
          "height": 419
        },
        "id": "---B4-R9Zvim",
        "outputId": "eada5ca5-13c4-4ebc-c5f6-081297fe6b9d"
      },
      "source": [
        "china_냉동살"
      ],
      "execution_count": null,
      "outputs": [
        {
          "output_type": "execute_result",
          "data": {
            "text/html": [
              "<div>\n",
              "<style scoped>\n",
              "    .dataframe tbody tr th:only-of-type {\n",
              "        vertical-align: middle;\n",
              "    }\n",
              "\n",
              "    .dataframe tbody tr th {\n",
              "        vertical-align: top;\n",
              "    }\n",
              "\n",
              "    .dataframe thead th {\n",
              "        text-align: right;\n",
              "    }\n",
              "</style>\n",
              "<table border=\"1\" class=\"dataframe\">\n",
              "  <thead>\n",
              "    <tr style=\"text-align: right;\">\n",
              "      <th></th>\n",
              "      <th>date</th>\n",
              "      <th>ctry1</th>\n",
              "      <th>ctry2</th>\n",
              "      <th>purpose</th>\n",
              "      <th>cat2</th>\n",
              "      <th>import_type</th>\n",
              "      <th>price</th>\n",
              "      <th>year</th>\n",
              "    </tr>\n",
              "  </thead>\n",
              "  <tbody>\n",
              "    <tr>\n",
              "      <th>137</th>\n",
              "      <td>2016-01-04</td>\n",
              "      <td>중국</td>\n",
              "      <td>중국</td>\n",
              "      <td>판매용</td>\n",
              "      <td>새우</td>\n",
              "      <td>냉동,살</td>\n",
              "      <td>6.331636</td>\n",
              "      <td>2016</td>\n",
              "    </tr>\n",
              "    <tr>\n",
              "      <th>369</th>\n",
              "      <td>2016-01-11</td>\n",
              "      <td>중국</td>\n",
              "      <td>중국</td>\n",
              "      <td>판매용</td>\n",
              "      <td>새우</td>\n",
              "      <td>냉동,살</td>\n",
              "      <td>7.077197</td>\n",
              "      <td>2016</td>\n",
              "    </tr>\n",
              "    <tr>\n",
              "      <th>388</th>\n",
              "      <td>2016-01-11</td>\n",
              "      <td>중국</td>\n",
              "      <td>중국</td>\n",
              "      <td>판매용</td>\n",
              "      <td>새우</td>\n",
              "      <td>냉동,살</td>\n",
              "      <td>5.594349</td>\n",
              "      <td>2016</td>\n",
              "    </tr>\n",
              "    <tr>\n",
              "      <th>446</th>\n",
              "      <td>2016-01-18</td>\n",
              "      <td>중국</td>\n",
              "      <td>중국</td>\n",
              "      <td>판매용</td>\n",
              "      <td>새우</td>\n",
              "      <td>냉동,살</td>\n",
              "      <td>6.940614</td>\n",
              "      <td>2016</td>\n",
              "    </tr>\n",
              "    <tr>\n",
              "      <th>521</th>\n",
              "      <td>2016-01-18</td>\n",
              "      <td>중국</td>\n",
              "      <td>중국</td>\n",
              "      <td>판매용</td>\n",
              "      <td>새우</td>\n",
              "      <td>냉동,살</td>\n",
              "      <td>6.000405</td>\n",
              "      <td>2016</td>\n",
              "    </tr>\n",
              "    <tr>\n",
              "      <th>...</th>\n",
              "      <td>...</td>\n",
              "      <td>...</td>\n",
              "      <td>...</td>\n",
              "      <td>...</td>\n",
              "      <td>...</td>\n",
              "      <td>...</td>\n",
              "      <td>...</td>\n",
              "      <td>...</td>\n",
              "    </tr>\n",
              "    <tr>\n",
              "      <th>47392</th>\n",
              "      <td>2020-08-10</td>\n",
              "      <td>중국</td>\n",
              "      <td>중국</td>\n",
              "      <td>판매용</td>\n",
              "      <td>새우</td>\n",
              "      <td>냉동,살</td>\n",
              "      <td>7.306287</td>\n",
              "      <td>2020</td>\n",
              "    </tr>\n",
              "    <tr>\n",
              "      <th>47773</th>\n",
              "      <td>2020-08-24</td>\n",
              "      <td>중국</td>\n",
              "      <td>중국</td>\n",
              "      <td>판매용</td>\n",
              "      <td>새우</td>\n",
              "      <td>냉동,살</td>\n",
              "      <td>6.435755</td>\n",
              "      <td>2020</td>\n",
              "    </tr>\n",
              "    <tr>\n",
              "      <th>49044</th>\n",
              "      <td>2020-10-12</td>\n",
              "      <td>중국</td>\n",
              "      <td>중국</td>\n",
              "      <td>판매용</td>\n",
              "      <td>새우</td>\n",
              "      <td>냉동,살</td>\n",
              "      <td>8.009503</td>\n",
              "      <td>2020</td>\n",
              "    </tr>\n",
              "    <tr>\n",
              "      <th>49250</th>\n",
              "      <td>2020-10-19</td>\n",
              "      <td>중국</td>\n",
              "      <td>중국</td>\n",
              "      <td>판매용</td>\n",
              "      <td>새우</td>\n",
              "      <td>냉동,살</td>\n",
              "      <td>6.243344</td>\n",
              "      <td>2020</td>\n",
              "    </tr>\n",
              "    <tr>\n",
              "      <th>50805</th>\n",
              "      <td>2020-12-14</td>\n",
              "      <td>중국</td>\n",
              "      <td>중국</td>\n",
              "      <td>판매용</td>\n",
              "      <td>새우</td>\n",
              "      <td>냉동,살</td>\n",
              "      <td>5.991317</td>\n",
              "      <td>2020</td>\n",
              "    </tr>\n",
              "  </tbody>\n",
              "</table>\n",
              "<p>329 rows × 8 columns</p>\n",
              "</div>"
            ],
            "text/plain": [
              "            date ctry1 ctry2 purpose cat2 import_type     price  year\n",
              "137   2016-01-04    중국    중국     판매용   새우        냉동,살  6.331636  2016\n",
              "369   2016-01-11    중국    중국     판매용   새우        냉동,살  7.077197  2016\n",
              "388   2016-01-11    중국    중국     판매용   새우        냉동,살  5.594349  2016\n",
              "446   2016-01-18    중국    중국     판매용   새우        냉동,살  6.940614  2016\n",
              "521   2016-01-18    중국    중국     판매용   새우        냉동,살  6.000405  2016\n",
              "...          ...   ...   ...     ...  ...         ...       ...   ...\n",
              "47392 2020-08-10    중국    중국     판매용   새우        냉동,살  7.306287  2020\n",
              "47773 2020-08-24    중국    중국     판매용   새우        냉동,살  6.435755  2020\n",
              "49044 2020-10-12    중국    중국     판매용   새우        냉동,살  8.009503  2020\n",
              "49250 2020-10-19    중국    중국     판매용   새우        냉동,살  6.243344  2020\n",
              "50805 2020-12-14    중국    중국     판매용   새우        냉동,살  5.991317  2020\n",
              "\n",
              "[329 rows x 8 columns]"
            ]
          },
          "metadata": {},
          "execution_count": 232
        }
      ]
    },
    {
      "cell_type": "code",
      "metadata": {
        "id": "kvzYGHkRaMbN"
      },
      "source": [
        "l_china = china_냉동살.price.groupby(by = china_냉동살.date).mean()"
      ],
      "execution_count": null,
      "outputs": []
    },
    {
      "cell_type": "code",
      "metadata": {
        "id": "XVMwZkSAaS4d"
      },
      "source": [
        "y = pd.DataFrame(l_china)"
      ],
      "execution_count": null,
      "outputs": []
    },
    {
      "cell_type": "code",
      "metadata": {
        "colab": {
          "base_uri": "https://localhost:8080/",
          "height": 450
        },
        "id": "QbJYc2td1vIj",
        "outputId": "287ae1c0-ce17-400c-d72c-4b38d1f52d63"
      },
      "source": [
        "y"
      ],
      "execution_count": null,
      "outputs": [
        {
          "output_type": "execute_result",
          "data": {
            "text/html": [
              "<div>\n",
              "<style scoped>\n",
              "    .dataframe tbody tr th:only-of-type {\n",
              "        vertical-align: middle;\n",
              "    }\n",
              "\n",
              "    .dataframe tbody tr th {\n",
              "        vertical-align: top;\n",
              "    }\n",
              "\n",
              "    .dataframe thead th {\n",
              "        text-align: right;\n",
              "    }\n",
              "</style>\n",
              "<table border=\"1\" class=\"dataframe\">\n",
              "  <thead>\n",
              "    <tr style=\"text-align: right;\">\n",
              "      <th></th>\n",
              "      <th>price</th>\n",
              "    </tr>\n",
              "    <tr>\n",
              "      <th>date</th>\n",
              "      <th></th>\n",
              "    </tr>\n",
              "  </thead>\n",
              "  <tbody>\n",
              "    <tr>\n",
              "      <th>2016-01-04</th>\n",
              "      <td>6.331636</td>\n",
              "    </tr>\n",
              "    <tr>\n",
              "      <th>2016-01-11</th>\n",
              "      <td>6.335773</td>\n",
              "    </tr>\n",
              "    <tr>\n",
              "      <th>2016-01-18</th>\n",
              "      <td>6.470509</td>\n",
              "    </tr>\n",
              "    <tr>\n",
              "      <th>2016-01-25</th>\n",
              "      <td>6.770484</td>\n",
              "    </tr>\n",
              "    <tr>\n",
              "      <th>2016-02-01</th>\n",
              "      <td>6.569193</td>\n",
              "    </tr>\n",
              "    <tr>\n",
              "      <th>...</th>\n",
              "      <td>...</td>\n",
              "    </tr>\n",
              "    <tr>\n",
              "      <th>2020-08-10</th>\n",
              "      <td>7.306287</td>\n",
              "    </tr>\n",
              "    <tr>\n",
              "      <th>2020-08-24</th>\n",
              "      <td>6.435755</td>\n",
              "    </tr>\n",
              "    <tr>\n",
              "      <th>2020-10-12</th>\n",
              "      <td>8.009503</td>\n",
              "    </tr>\n",
              "    <tr>\n",
              "      <th>2020-10-19</th>\n",
              "      <td>6.243344</td>\n",
              "    </tr>\n",
              "    <tr>\n",
              "      <th>2020-12-14</th>\n",
              "      <td>5.991317</td>\n",
              "    </tr>\n",
              "  </tbody>\n",
              "</table>\n",
              "<p>212 rows × 1 columns</p>\n",
              "</div>"
            ],
            "text/plain": [
              "               price\n",
              "date                \n",
              "2016-01-04  6.331636\n",
              "2016-01-11  6.335773\n",
              "2016-01-18  6.470509\n",
              "2016-01-25  6.770484\n",
              "2016-02-01  6.569193\n",
              "...              ...\n",
              "2020-08-10  7.306287\n",
              "2020-08-24  6.435755\n",
              "2020-10-12  8.009503\n",
              "2020-10-19  6.243344\n",
              "2020-12-14  5.991317\n",
              "\n",
              "[212 rows x 1 columns]"
            ]
          },
          "metadata": {},
          "execution_count": 96
        }
      ]
    },
    {
      "cell_type": "code",
      "metadata": {
        "id": "7hO9ujm9aalX"
      },
      "source": [
        "y.to_csv('./working directory/새우_중국_냉동살.csv')"
      ],
      "execution_count": null,
      "outputs": []
    },
    {
      "cell_type": "code",
      "metadata": {
        "colab": {
          "base_uri": "https://localhost:8080/"
        },
        "id": "tJa_oRncafct",
        "outputId": "75e8cda1-8e7c-4411-8437-55843d2406ed"
      },
      "source": [
        "len(china_염장.date.unique())"
      ],
      "execution_count": null,
      "outputs": [
        {
          "output_type": "execute_result",
          "data": {
            "text/plain": [
              "175"
            ]
          },
          "metadata": {},
          "execution_count": 239
        }
      ]
    },
    {
      "cell_type": "code",
      "metadata": {
        "id": "Cg3RGlAVam-d"
      },
      "source": [
        "l_china2 = china_염장.price.groupby(by = china_염장.date).mean()"
      ],
      "execution_count": null,
      "outputs": []
    },
    {
      "cell_type": "code",
      "metadata": {
        "id": "7nyQJRsxawx1"
      },
      "source": [
        "z = pd.DataFrame(l_china2)"
      ],
      "execution_count": null,
      "outputs": []
    },
    {
      "cell_type": "code",
      "metadata": {
        "id": "_El1yNrqa0El"
      },
      "source": [
        "z.to_csv('./working directory/새우_중국_염장.csv')"
      ],
      "execution_count": null,
      "outputs": []
    },
    {
      "cell_type": "code",
      "metadata": {
        "id": "Y9aGVBjuJVvQ"
      },
      "source": [
        ""
      ],
      "execution_count": null,
      "outputs": []
    },
    {
      "cell_type": "code",
      "metadata": {
        "id": "TsO_LahCJV14"
      },
      "source": [
        "새우_베트남_냉동살자숙포장횟감 = database['새우_베트남_냉동살자숙포장횟감']\n",
        "새우_베트남_냉동살자숙 = database['새우_베트남_냉동살자숙']\n",
        "새우_베트남_냉동살 = database['새우_베트남_냉동살']\n",
        "새우_베트남_냉동 = database['새우_베트남_냉동']\n",
        "새우_중국_건조 = database['새우_중국_건조']\n",
        "새우_중국_냉동살 = database['새우_중국_냉동살']\n",
        "새우_중국_염장 = database['새우_중국_염장']\n",
        "새우_태국_냉동살자숙포장횟감 = database['새우_태국_냉동살자숙포장횟감']\n",
        "새우_태국_냉장 = database['새우_태국_냉장']\n",
        "연어_노르웨이_냉장_자사제품제조용 = database['연어_노르웨이_냉장_자사제품제조용']\n",
        "연어_노르웨이_냉장_판매용 = database['연어_노르웨이_냉장_판매용']\n",
        "연어_노르웨이_냉장포장횟감필렛 = database['연어_노르웨이_냉장포장횟감필렛']\n",
        "연어_노르웨이_냉장필렛_자사제품제조용 = database['연어_노르웨이_냉장필렛_자사제품제조용']\n",
        "연어_노르웨이_냉장필렛_판매용 = database['연어_노르웨이_냉장필렛_판매용']\n",
        "연어_노르웨이_냉장필렛횟감 = database['연어_노르웨이_냉장필렛횟감']\n",
        "오징어_중국_냉동동체 = database['오징어_중국_냉동동체']\n",
        "오징어_중국_냉동 = database['오징어_중국_냉동']\n",
        "오징어_칠레_냉동다리 = database['오징어_칠레_냉동다리']\n",
        "오징어_칠레_냉동동체 = database['오징어_칠레_냉동동체']\n",
        "오징어_칠레_냉동지느러미 = database['오징어_칠레_냉동지느러미']\n",
        "오징어_페루_냉동다리 = database['오징어_페루_냉동다리']\n",
        "오징어_페루_냉동동체자숙_자사제품제조용 = database['오징어_페루_냉동동체자숙_자사제품제조용']\n",
        "오징어_페루_냉동동체자숙_판매용 = database['오징어_페루_냉동동체자숙_판매용']\n",
        "오징어_페루_냉동지느러미 = database['오징어_페루_냉동지느러미']\n",
        "\n",
        "\n",
        "\n"
      ],
      "execution_count": null,
      "outputs": []
    }
  ]
}
